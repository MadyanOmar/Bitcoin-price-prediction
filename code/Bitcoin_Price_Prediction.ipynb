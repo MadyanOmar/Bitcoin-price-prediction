{
  "cells": [
    {
      "cell_type": "markdown",
      "metadata": {
        "id": "aFcQKmAP92tg"
      },
      "source": [
        "## Import necessary libraries"
      ]
    },
    {
      "cell_type": "code",
      "execution_count": 85,
      "metadata": {
        "id": "PQh8nKYU92th"
      },
      "outputs": [],
      "source": [
        "import numpy as np\n",
        "import pandas as pd\n",
        "from google.colab import drive\n",
        "import os\n",
        "import requests"
      ]
    },
    {
      "cell_type": "markdown",
      "metadata": {
        "id": "XcjZuMtX92th"
      },
      "source": [
        "## Take news articles about bitcoin and discard other coin articles"
      ]
    },
    {
      "cell_type": "code",
      "execution_count": 87,
      "metadata": {
        "colab": {
          "base_uri": "https://localhost:8080/"
        },
        "id": "pJmFRXZFNUZc",
        "outputId": "389d718c-4ea8-46ef-ff1f-3c5facc626c1"
      },
      "outputs": [
        {
          "name": "stdout",
          "output_type": "stream",
          "text": [
            "Mounted at /content/drive\n"
          ]
        }
      ],
      "source": [
        "drive.mount('/content/drive', force_remount=True)"
      ]
    },
    {
      "cell_type": "code",
      "execution_count": 88,
      "metadata": {
        "id": "6wlas-GfNQqS"
      },
      "outputs": [],
      "source": [
        "path = \"/content/drive/My Drive/\""
      ]
    },
    {
      "cell_type": "code",
      "execution_count": 89,
      "metadata": {
        "id": "wVPhxunQ92th"
      },
      "outputs": [],
      "source": [
        "data = pd.read_csv(path + 'crypto_news.csv')\n",
        "bitcoin_price = pd.read_csv(path + 'bitcoin_price.csv')"
      ]
    },
    {
      "cell_type": "code",
      "execution_count": null,
      "metadata": {
        "colab": {
          "base_uri": "https://localhost:8080/"
        },
        "id": "51W3TbA092th",
        "outputId": "b3f1e864-f78e-4167-b82c-bc585fe57e57"
      },
      "outputs": [
        {
          "name": "stdout",
          "output_type": "stream",
          "text": [
            "<class 'pandas.core.frame.DataFrame'>\n",
            "Index: 8243 entries, 5 to 26884\n",
            "Data columns (total 7 columns):\n",
            " #   Column     Non-Null Count  Dtype \n",
            "---  ------     --------------  ----- \n",
            " 0   date       8243 non-null   object\n",
            " 1   sentiment  8243 non-null   object\n",
            " 2   source     8243 non-null   object\n",
            " 3   subject    8243 non-null   object\n",
            " 4   text       8243 non-null   object\n",
            " 5   title      8243 non-null   object\n",
            " 6   url        8243 non-null   object\n",
            "dtypes: object(7)\n",
            "memory usage: 515.2+ KB\n",
            "None\n"
          ]
        }
      ],
      "source": [
        "bitcoin_news = data.loc[data['subject'] == 'bitcoin']\n",
        "print(bitcoin_news.info())"
      ]
    },
    {
      "cell_type": "code",
      "execution_count": null,
      "metadata": {
        "colab": {
          "base_uri": "https://localhost:8080/"
        },
        "id": "AP2fmu_A92ti",
        "outputId": "a0040394-18e9-4f48-e5fc-a6593342fa26"
      },
      "outputs": [
        {
          "name": "stdout",
          "output_type": "stream",
          "text": [
            "9968\n"
          ]
        }
      ],
      "source": [
        "print(len(bitcoin_news))"
      ]
    },
    {
      "cell_type": "code",
      "execution_count": null,
      "metadata": {
        "colab": {
          "base_uri": "https://localhost:8080/",
          "height": 643
        },
        "id": "6fFbR12E92ti",
        "outputId": "55f59937-0cee-467c-e880-5e386fcabf6a"
      },
      "outputs": [
        {
          "data": {
            "application/vnd.google.colaboratory.intrinsic+json": {
              "repr_error": "0",
              "type": "dataframe",
              "variable_name": "bitcoin_news"
            },
            "text/html": [
              "\n",
              "  <div id=\"df-7463c3f5-6f87-4447-b183-e6d3feaeeb5a\" class=\"colab-df-container\">\n",
              "    <div>\n",
              "<style scoped>\n",
              "    .dataframe tbody tr th:only-of-type {\n",
              "        vertical-align: middle;\n",
              "    }\n",
              "\n",
              "    .dataframe tbody tr th {\n",
              "        vertical-align: top;\n",
              "    }\n",
              "\n",
              "    .dataframe thead th {\n",
              "        text-align: right;\n",
              "    }\n",
              "</style>\n",
              "<table border=\"1\" class=\"dataframe\">\n",
              "  <thead>\n",
              "    <tr style=\"text-align: right;\">\n",
              "      <th></th>\n",
              "      <th>date</th>\n",
              "      <th>sentiment</th>\n",
              "      <th>source</th>\n",
              "      <th>subject</th>\n",
              "      <th>text</th>\n",
              "      <th>title</th>\n",
              "      <th>url</th>\n",
              "    </tr>\n",
              "  </thead>\n",
              "  <tbody>\n",
              "    <tr>\n",
              "      <th>5</th>\n",
              "      <td>2023-12-19 05:25:00</td>\n",
              "      <td>{'class': 'negative', 'polarity': -0.01, 'subj...</td>\n",
              "      <td>CryptoPotato</td>\n",
              "      <td>bitcoin</td>\n",
              "      <td>Yonsei found that during BTC’s rally in early ...</td>\n",
              "      <td>Is This Why Bitcoin’s Price Rally Was Halted? ...</td>\n",
              "      <td>https://cryptopotato.com/is-this-why-bitcoins-...</td>\n",
              "    </tr>\n",
              "    <tr>\n",
              "      <th>6</th>\n",
              "      <td>2023-12-19 04:50:11</td>\n",
              "      <td>{'class': 'positive', 'polarity': 0.3, 'subjec...</td>\n",
              "      <td>CryptoNews</td>\n",
              "      <td>bitcoin</td>\n",
              "      <td>Cathie Wood led ARK Invest fund sold around 80...</td>\n",
              "      <td>Cathie Wood’s Ark Invest Sells $27.6 Million i...</td>\n",
              "      <td>https://cryptonews.comhttps://cryptonews.com/n...</td>\n",
              "    </tr>\n",
              "    <tr>\n",
              "      <th>7</th>\n",
              "      <td>2023-12-19 04:10:00</td>\n",
              "      <td>{'class': 'neutral', 'polarity': 0.0, 'subject...</td>\n",
              "      <td>CryptoPotato</td>\n",
              "      <td>bitcoin</td>\n",
              "      <td>Bitcoin's 150% surge pales in comparison to th...</td>\n",
              "      <td>Bitcoin Soared 150% in 2023 But These Companie...</td>\n",
              "      <td>https://cryptopotato.com/bitcoin-soared-150-in...</td>\n",
              "    </tr>\n",
              "    <tr>\n",
              "      <th>9</th>\n",
              "      <td>2023-12-19 02:59:59</td>\n",
              "      <td>{'class': 'negative', 'polarity': -0.08, 'subj...</td>\n",
              "      <td>CoinTelegraph</td>\n",
              "      <td>bitcoin</td>\n",
              "      <td>The SEC has pushed back its decision on a rost...</td>\n",
              "      <td>SEC delays several Ethereum ETFs, pushing fina...</td>\n",
              "      <td>https://cointelegraph.com/news/sec-delays-ethe...</td>\n",
              "    </tr>\n",
              "    <tr>\n",
              "      <th>21</th>\n",
              "      <td>2023-12-18 18:33:34</td>\n",
              "      <td>{'class': 'negative', 'polarity': -0.27, 'subj...</td>\n",
              "      <td>CoinTelegraph</td>\n",
              "      <td>bitcoin</td>\n",
              "      <td>Bitcoin may remain under pressure for a few da...</td>\n",
              "      <td>Price analysis 12/18: SPX, DXY, BTC, ETH, BNB,...</td>\n",
              "      <td>https://cointelegraph.com/news/price-analysis-...</td>\n",
              "    </tr>\n",
              "  </tbody>\n",
              "</table>\n",
              "</div>\n",
              "    <div class=\"colab-df-buttons\">\n",
              "\n",
              "  <div class=\"colab-df-container\">\n",
              "    <button class=\"colab-df-convert\" onclick=\"convertToInteractive('df-7463c3f5-6f87-4447-b183-e6d3feaeeb5a')\"\n",
              "            title=\"Convert this dataframe to an interactive table.\"\n",
              "            style=\"display:none;\">\n",
              "\n",
              "  <svg xmlns=\"http://www.w3.org/2000/svg\" height=\"24px\" viewBox=\"0 -960 960 960\">\n",
              "    <path d=\"M120-120v-720h720v720H120Zm60-500h600v-160H180v160Zm220 220h160v-160H400v160Zm0 220h160v-160H400v160ZM180-400h160v-160H180v160Zm440 0h160v-160H620v160ZM180-180h160v-160H180v160Zm440 0h160v-160H620v160Z\"/>\n",
              "  </svg>\n",
              "    </button>\n",
              "\n",
              "  <style>\n",
              "    .colab-df-container {\n",
              "      display:flex;\n",
              "      gap: 12px;\n",
              "    }\n",
              "\n",
              "    .colab-df-convert {\n",
              "      background-color: #E8F0FE;\n",
              "      border: none;\n",
              "      border-radius: 50%;\n",
              "      cursor: pointer;\n",
              "      display: none;\n",
              "      fill: #1967D2;\n",
              "      height: 32px;\n",
              "      padding: 0 0 0 0;\n",
              "      width: 32px;\n",
              "    }\n",
              "\n",
              "    .colab-df-convert:hover {\n",
              "      background-color: #E2EBFA;\n",
              "      box-shadow: 0px 1px 2px rgba(60, 64, 67, 0.3), 0px 1px 3px 1px rgba(60, 64, 67, 0.15);\n",
              "      fill: #174EA6;\n",
              "    }\n",
              "\n",
              "    .colab-df-buttons div {\n",
              "      margin-bottom: 4px;\n",
              "    }\n",
              "\n",
              "    [theme=dark] .colab-df-convert {\n",
              "      background-color: #3B4455;\n",
              "      fill: #D2E3FC;\n",
              "    }\n",
              "\n",
              "    [theme=dark] .colab-df-convert:hover {\n",
              "      background-color: #434B5C;\n",
              "      box-shadow: 0px 1px 3px 1px rgba(0, 0, 0, 0.15);\n",
              "      filter: drop-shadow(0px 1px 2px rgba(0, 0, 0, 0.3));\n",
              "      fill: #FFFFFF;\n",
              "    }\n",
              "  </style>\n",
              "\n",
              "    <script>\n",
              "      const buttonEl =\n",
              "        document.querySelector('#df-7463c3f5-6f87-4447-b183-e6d3feaeeb5a button.colab-df-convert');\n",
              "      buttonEl.style.display =\n",
              "        google.colab.kernel.accessAllowed ? 'block' : 'none';\n",
              "\n",
              "      async function convertToInteractive(key) {\n",
              "        const element = document.querySelector('#df-7463c3f5-6f87-4447-b183-e6d3feaeeb5a');\n",
              "        const dataTable =\n",
              "          await google.colab.kernel.invokeFunction('convertToInteractive',\n",
              "                                                    [key], {});\n",
              "        if (!dataTable) return;\n",
              "\n",
              "        const docLinkHtml = 'Like what you see? Visit the ' +\n",
              "          '<a target=\"_blank\" href=https://colab.research.google.com/notebooks/data_table.ipynb>data table notebook</a>'\n",
              "          + ' to learn more about interactive tables.';\n",
              "        element.innerHTML = '';\n",
              "        dataTable['output_type'] = 'display_data';\n",
              "        await google.colab.output.renderOutput(dataTable, element);\n",
              "        const docLink = document.createElement('div');\n",
              "        docLink.innerHTML = docLinkHtml;\n",
              "        element.appendChild(docLink);\n",
              "      }\n",
              "    </script>\n",
              "  </div>\n",
              "\n",
              "\n",
              "<div id=\"df-89e55b8d-2309-4aec-9fc5-57b1982d7424\">\n",
              "  <button class=\"colab-df-quickchart\" onclick=\"quickchart('df-89e55b8d-2309-4aec-9fc5-57b1982d7424')\"\n",
              "            title=\"Suggest charts\"\n",
              "            style=\"display:none;\">\n",
              "\n",
              "<svg xmlns=\"http://www.w3.org/2000/svg\" height=\"24px\"viewBox=\"0 0 24 24\"\n",
              "     width=\"24px\">\n",
              "    <g>\n",
              "        <path d=\"M19 3H5c-1.1 0-2 .9-2 2v14c0 1.1.9 2 2 2h14c1.1 0 2-.9 2-2V5c0-1.1-.9-2-2-2zM9 17H7v-7h2v7zm4 0h-2V7h2v10zm4 0h-2v-4h2v4z\"/>\n",
              "    </g>\n",
              "</svg>\n",
              "  </button>\n",
              "\n",
              "<style>\n",
              "  .colab-df-quickchart {\n",
              "      --bg-color: #E8F0FE;\n",
              "      --fill-color: #1967D2;\n",
              "      --hover-bg-color: #E2EBFA;\n",
              "      --hover-fill-color: #174EA6;\n",
              "      --disabled-fill-color: #AAA;\n",
              "      --disabled-bg-color: #DDD;\n",
              "  }\n",
              "\n",
              "  [theme=dark] .colab-df-quickchart {\n",
              "      --bg-color: #3B4455;\n",
              "      --fill-color: #D2E3FC;\n",
              "      --hover-bg-color: #434B5C;\n",
              "      --hover-fill-color: #FFFFFF;\n",
              "      --disabled-bg-color: #3B4455;\n",
              "      --disabled-fill-color: #666;\n",
              "  }\n",
              "\n",
              "  .colab-df-quickchart {\n",
              "    background-color: var(--bg-color);\n",
              "    border: none;\n",
              "    border-radius: 50%;\n",
              "    cursor: pointer;\n",
              "    display: none;\n",
              "    fill: var(--fill-color);\n",
              "    height: 32px;\n",
              "    padding: 0;\n",
              "    width: 32px;\n",
              "  }\n",
              "\n",
              "  .colab-df-quickchart:hover {\n",
              "    background-color: var(--hover-bg-color);\n",
              "    box-shadow: 0 1px 2px rgba(60, 64, 67, 0.3), 0 1px 3px 1px rgba(60, 64, 67, 0.15);\n",
              "    fill: var(--button-hover-fill-color);\n",
              "  }\n",
              "\n",
              "  .colab-df-quickchart-complete:disabled,\n",
              "  .colab-df-quickchart-complete:disabled:hover {\n",
              "    background-color: var(--disabled-bg-color);\n",
              "    fill: var(--disabled-fill-color);\n",
              "    box-shadow: none;\n",
              "  }\n",
              "\n",
              "  .colab-df-spinner {\n",
              "    border: 2px solid var(--fill-color);\n",
              "    border-color: transparent;\n",
              "    border-bottom-color: var(--fill-color);\n",
              "    animation:\n",
              "      spin 1s steps(1) infinite;\n",
              "  }\n",
              "\n",
              "  @keyframes spin {\n",
              "    0% {\n",
              "      border-color: transparent;\n",
              "      border-bottom-color: var(--fill-color);\n",
              "      border-left-color: var(--fill-color);\n",
              "    }\n",
              "    20% {\n",
              "      border-color: transparent;\n",
              "      border-left-color: var(--fill-color);\n",
              "      border-top-color: var(--fill-color);\n",
              "    }\n",
              "    30% {\n",
              "      border-color: transparent;\n",
              "      border-left-color: var(--fill-color);\n",
              "      border-top-color: var(--fill-color);\n",
              "      border-right-color: var(--fill-color);\n",
              "    }\n",
              "    40% {\n",
              "      border-color: transparent;\n",
              "      border-right-color: var(--fill-color);\n",
              "      border-top-color: var(--fill-color);\n",
              "    }\n",
              "    60% {\n",
              "      border-color: transparent;\n",
              "      border-right-color: var(--fill-color);\n",
              "    }\n",
              "    80% {\n",
              "      border-color: transparent;\n",
              "      border-right-color: var(--fill-color);\n",
              "      border-bottom-color: var(--fill-color);\n",
              "    }\n",
              "    90% {\n",
              "      border-color: transparent;\n",
              "      border-bottom-color: var(--fill-color);\n",
              "    }\n",
              "  }\n",
              "</style>\n",
              "\n",
              "  <script>\n",
              "    async function quickchart(key) {\n",
              "      const quickchartButtonEl =\n",
              "        document.querySelector('#' + key + ' button');\n",
              "      quickchartButtonEl.disabled = true;  // To prevent multiple clicks.\n",
              "      quickchartButtonEl.classList.add('colab-df-spinner');\n",
              "      try {\n",
              "        const charts = await google.colab.kernel.invokeFunction(\n",
              "            'suggestCharts', [key], {});\n",
              "      } catch (error) {\n",
              "        console.error('Error during call to suggestCharts:', error);\n",
              "      }\n",
              "      quickchartButtonEl.classList.remove('colab-df-spinner');\n",
              "      quickchartButtonEl.classList.add('colab-df-quickchart-complete');\n",
              "    }\n",
              "    (() => {\n",
              "      let quickchartButtonEl =\n",
              "        document.querySelector('#df-89e55b8d-2309-4aec-9fc5-57b1982d7424 button');\n",
              "      quickchartButtonEl.style.display =\n",
              "        google.colab.kernel.accessAllowed ? 'block' : 'none';\n",
              "    })();\n",
              "  </script>\n",
              "</div>\n",
              "\n",
              "    </div>\n",
              "  </div>\n"
            ],
            "text/plain": [
              "                   date                                          sentiment  \\\n",
              "5   2023-12-19 05:25:00  {'class': 'negative', 'polarity': -0.01, 'subj...   \n",
              "6   2023-12-19 04:50:11  {'class': 'positive', 'polarity': 0.3, 'subjec...   \n",
              "7   2023-12-19 04:10:00  {'class': 'neutral', 'polarity': 0.0, 'subject...   \n",
              "9   2023-12-19 02:59:59  {'class': 'negative', 'polarity': -0.08, 'subj...   \n",
              "21  2023-12-18 18:33:34  {'class': 'negative', 'polarity': -0.27, 'subj...   \n",
              "\n",
              "           source  subject                                               text  \\\n",
              "5    CryptoPotato  bitcoin  Yonsei found that during BTC’s rally in early ...   \n",
              "6      CryptoNews  bitcoin  Cathie Wood led ARK Invest fund sold around 80...   \n",
              "7    CryptoPotato  bitcoin  Bitcoin's 150% surge pales in comparison to th...   \n",
              "9   CoinTelegraph  bitcoin  The SEC has pushed back its decision on a rost...   \n",
              "21  CoinTelegraph  bitcoin  Bitcoin may remain under pressure for a few da...   \n",
              "\n",
              "                                                title  \\\n",
              "5   Is This Why Bitcoin’s Price Rally Was Halted? ...   \n",
              "6   Cathie Wood’s Ark Invest Sells $27.6 Million i...   \n",
              "7   Bitcoin Soared 150% in 2023 But These Companie...   \n",
              "9   SEC delays several Ethereum ETFs, pushing fina...   \n",
              "21  Price analysis 12/18: SPX, DXY, BTC, ETH, BNB,...   \n",
              "\n",
              "                                                  url  \n",
              "5   https://cryptopotato.com/is-this-why-bitcoins-...  \n",
              "6   https://cryptonews.comhttps://cryptonews.com/n...  \n",
              "7   https://cryptopotato.com/bitcoin-soared-150-in...  \n",
              "9   https://cointelegraph.com/news/sec-delays-ethe...  \n",
              "21  https://cointelegraph.com/news/price-analysis-...  "
            ]
          },
          "execution_count": 5,
          "metadata": {},
          "output_type": "execute_result"
        }
      ],
      "source": [
        "bitcoin_news.head()"
      ]
    },
    {
      "cell_type": "code",
      "execution_count": null,
      "metadata": {
        "id": "G1N4V_LF92ti"
      },
      "outputs": [],
      "source": [
        "sentiment_column = bitcoin_news['sentiment']"
      ]
    },
    {
      "cell_type": "code",
      "execution_count": null,
      "metadata": {
        "colab": {
          "base_uri": "https://localhost:8080/"
        },
        "id": "83V6ae6B92ti",
        "outputId": "5d48639c-60bd-4f2d-f7bc-f807dcac9ce7"
      },
      "outputs": [
        {
          "name": "stdout",
          "output_type": "stream",
          "text": [
            "<class 'pandas.core.series.Series'>\n"
          ]
        }
      ],
      "source": [
        "print(type(sentiment_column))"
      ]
    },
    {
      "cell_type": "markdown",
      "metadata": {
        "id": "TWRPTYaL92tj"
      },
      "source": [
        "## Separate the sentiment column into three separate columns (Sentiment, Polarity and Subjectivity)"
      ]
    },
    {
      "cell_type": "code",
      "execution_count": null,
      "metadata": {
        "id": "Cw1GQ1Uu92tj"
      },
      "outputs": [],
      "source": [
        "sentiment_col = []\n",
        "polarity_col = []\n",
        "subjectivity_col = []"
      ]
    },
    {
      "cell_type": "code",
      "execution_count": null,
      "metadata": {
        "id": "ZsiQFPs792tj"
      },
      "outputs": [],
      "source": [
        "for s in sentiment_column:\n",
        "    sentiment, polarity, subjectivity = s.strip('{}').split(',')\n",
        "    sentiment_col.append(sentiment.strip('\\'class\\' :'))\n",
        "    polarity_col.append(polarity.strip('\\'polarity\\' :'))\n",
        "    subjectivity_col.append(subjectivity.strip('\\'subjectivity\\' :'))"
      ]
    },
    {
      "cell_type": "code",
      "execution_count": null,
      "metadata": {
        "colab": {
          "base_uri": "https://localhost:8080/"
        },
        "id": "D61YYYUQ92tj",
        "outputId": "fd819d7a-c2bc-44e8-95fe-b3a80179778f"
      },
      "outputs": [
        {
          "name": "stdout",
          "output_type": "stream",
          "text": [
            "['negative', 'positive', 'neutr', 'negative', 'negative', 'neutr', 'positive', 'positive', 'positive', 'negative', 'positive', 'positive', 'positive', 'positive', 'positive', 'negative', 'neutr', 'positive', 'positive', 'positive', 'neutr', 'negative', 'positive', 'positive', 'positive', 'neutr', 'positive', 'negative', 'negative', 'positive', 'negative', 'neutr', 'neutr', 'positive', 'negative', 'negative', 'neutr', 'negative', 'positive', 'negative', 'neutr', 'negative', 'neutr', 'negative', 'neutr', 'negative', 'positive', 'neutr', 'neutr', 'positive', 'negative', 'neutr', 'negative', 'positive', 'positive', 'positive', 'positive', 'positive', 'negative', 'negative', 'positive', 'negative', 'positive', 'neutr', 'neutr', 'positive', 'negative', 'positive', 'neutr', 'positive', 'positive', 'negative', 'neutr', 'positive', 'neutr', 'negative', 'positive', 'neutr', 'positive', 'neutr', 'negative', 'positive', 'positive', 'positive', 'positive', 'positive', 'negative', 'positive', 'positive', 'neutr', 'positive', 'positive', 'positive', 'positive', 'positive', 'neutr', 'negative', 'neutr', 'positive', 'positive', 'negative', 'negative', 'positive', 'negative', 'positive', 'negative', 'positive', 'positive', 'negative', 'positive', 'positive', 'positive', 'positive', 'positive', 'neutr', 'positive', 'negative', 'positive', 'neutr', 'positive', 'neutr', 'negative', 'negative', 'positive', 'negative', 'positive', 'neutr', 'positive', 'neutr', 'negative', 'positive', 'negative', 'negative', 'negative', 'positive', 'negative', 'positive', 'neutr', 'neutr', 'neutr', 'negative', 'negative', 'negative', 'neutr', 'positive', 'positive', 'positive', 'positive', 'negative', 'negative', 'neutr', 'positive', 'neutr', 'negative', 'positive', 'neutr', 'positive', 'positive', 'negative', 'negative', 'neutr', 'neutr', 'positive', 'neutr', 'negative', 'negative', 'positive', 'negative', 'positive', 'negative', 'positive', 'neutr', 'positive', 'positive', 'positive', 'positive', 'neutr', 'positive', 'neutr', 'neutr', 'positive', 'neutr', 'neutr', 'positive', 'positive', 'negative', 'neutr', 'positive', 'positive', 'positive', 'positive', 'positive', 'negative', 'positive', 'positive', 'positive', 'negative', 'neutr', 'positive', 'neutr', 'neutr', 'neutr', 'positive', 'neutr', 'positive', 'neutr', 'positive', 'neutr', 'negative', 'negative', 'neutr', 'positive', 'positive', 'positive', 'positive', 'negative', 'positive', 'positive', 'positive', 'negative', 'positive', 'neutr', 'negative', 'positive', 'positive', 'neutr', 'neutr', 'positive', 'positive', 'positive', 'negative', 'neutr', 'positive', 'negative', 'neutr', 'neutr', 'positive', 'positive', 'positive', 'neutr', 'positive', 'positive', 'positive', 'negative', 'neutr', 'neutr', 'neutr', 'positive', 'negative', 'neutr', 'positive', 'positive', 'negative', 'neutr', 'positive', 'negative', 'negative', 'neutr', 'positive', 'positive', 'neutr', 'positive', 'negative', 'positive', 'negative', 'negative', 'positive', 'positive', 'negative', 'neutr', 'negative', 'positive', 'positive', 'positive', 'neutr', 'positive', 'neutr', 'negative', 'negative', 'positive', 'neutr', 'positive', 'negative', 'negative', 'negative', 'positive', 'positive', 'positive', 'positive', 'positive', 'neutr', 'positive', 'neutr', 'positive', 'negative', 'positive', 'neutr', 'neutr', 'positive', 'positive', 'negative', 'positive', 'positive', 'positive', 'positive', 'positive', 'neutr', 'neutr', 'positive', 'neutr', 'neutr', 'neutr', 'positive', 'neutr', 'negative', 'negative', 'positive', 'neutr', 'positive', 'neutr', 'positive', 'neutr', 'positive', 'positive', 'negative', 'positive', 'positive', 'positive', 'positive', 'positive', 'positive', 'negative', 'positive', 'positive', 'neutr', 'positive', 'positive', 'neutr', 'positive', 'positive', 'positive', 'positive', 'positive', 'neutr', 'negative', 'positive', 'positive', 'positive', 'positive', 'positive', 'negative', 'neutr', 'positive', 'neutr', 'positive', 'positive', 'neutr', 'negative', 'negative', 'positive', 'positive', 'neutr', 'positive', 'positive', 'positive', 'positive', 'positive', 'neutr', 'positive', 'positive', 'neutr', 'negative', 'neutr', 'neutr', 'neutr', 'positive', 'positive', 'negative', 'neutr', 'neutr', 'positive', 'neutr', 'negative', 'positive', 'positive', 'positive', 'positive', 'negative', 'neutr', 'positive', 'negative', 'neutr', 'positive', 'positive', 'negative', 'positive', 'positive', 'positive', 'negative', 'neutr', 'positive', 'positive', 'positive', 'positive', 'positive', 'neutr', 'positive', 'negative', 'positive', 'neutr', 'positive', 'neutr', 'positive', 'positive', 'negative', 'negative', 'neutr', 'positive', 'negative', 'positive', 'negative', 'positive', 'positive', 'positive', 'positive', 'positive', 'neutr', 'positive', 'neutr', 'positive', 'positive', 'positive', 'positive', 'neutr', 'positive', 'positive', 'positive', 'positive', 'negative', 'positive', 'neutr', 'positive', 'positive', 'negative', 'neutr', 'neutr', 'positive', 'neutr', 'neutr', 'positive', 'positive', 'neutr', 'positive', 'negative', 'positive', 'neutr', 'positive', 'positive', 'neutr', 'positive', 'positive', 'neutr', 'positive', 'negative', 'positive', 'negative', 'negative', 'neutr', 'positive', 'negative', 'positive', 'neutr', 'negative', 'negative', 'neutr', 'positive', 'positive', 'positive', 'neutr', 'positive', 'negative', 'negative', 'negative', 'negative', 'positive', 'negative', 'neutr', 'negative', 'negative', 'neutr', 'negative', 'negative', 'positive', 'negative', 'negative', 'positive', 'negative', 'neutr', 'neutr', 'negative', 'positive', 'neutr', 'neutr', 'negative', 'positive', 'positive', 'positive', 'positive', 'positive', 'neutr', 'negative', 'positive', 'neutr', 'neutr', 'neutr', 'negative', 'positive', 'positive', 'neutr', 'neutr', 'positive', 'neutr', 'neutr', 'positive', 'neutr', 'positive', 'negative', 'positive', 'neutr', 'negative', 'negative', 'negative', 'positive', 'neutr', 'neutr', 'positive', 'positive', 'negative', 'positive', 'negative', 'neutr', 'positive', 'negative', 'positive', 'positive', 'positive', 'positive', 'positive', 'positive', 'positive', 'negative', 'positive', 'positive', 'positive', 'negative', 'negative', 'neutr', 'neutr', 'negative', 'neutr', 'positive', 'neutr', 'neutr', 'neutr', 'positive', 'neutr', 'negative', 'neutr', 'neutr', 'neutr', 'neutr', 'negative', 'positive', 'neutr', 'negative', 'neutr', 'positive', 'positive', 'neutr', 'negative', 'negative', 'negative', 'positive', 'neutr', 'neutr', 'negative', 'positive', 'negative', 'positive', 'negative', 'negative', 'positive', 'negative', 'negative', 'negative', 'negative', 'positive', 'positive', 'negative', 'positive', 'positive', 'positive', 'positive', 'positive', 'neutr', 'neutr', 'negative', 'positive', 'negative', 'neutr', 'positive', 'positive', 'neutr', 'negative', 'negative', 'neutr', 'positive', 'positive', 'positive', 'positive', 'neutr', 'neutr', 'neutr', 'neutr', 'positive', 'neutr', 'negative', 'positive', 'positive', 'negative', 'negative', 'positive', 'positive', 'positive', 'negative', 'positive', 'positive', 'neutr', 'positive', 'positive', 'positive', 'positive', 'neutr', 'neutr', 'neutr', 'positive', 'neutr', 'positive', 'negative', 'neutr', 'neutr', 'negative', 'negative', 'negative', 'positive', 'negative', 'negative', 'neutr', 'negative', 'positive', 'positive', 'neutr', 'neutr', 'positive', 'positive', 'neutr', 'positive', 'neutr', 'positive', 'negative', 'positive', 'positive', 'positive', 'neutr', 'neutr', 'neutr', 'positive', 'neutr', 'negative', 'positive', 'neutr', 'positive', 'positive', 'negative', 'neutr', 'positive', 'negative', 'neutr', 'neutr', 'neutr', 'positive', 'neutr', 'neutr', 'negative', 'negative', 'positive', 'neutr', 'positive', 'positive', 'positive', 'negative', 'neutr', 'positive', 'positive', 'positive', 'negative', 'negative', 'negative', 'negative', 'positive', 'negative', 'neutr', 'positive', 'neutr', 'positive', 'negative', 'negative', 'negative', 'positive', 'neutr', 'positive', 'positive', 'positive', 'negative', 'positive', 'positive', 'positive', 'negative', 'positive', 'positive', 'neutr', 'neutr', 'negative', 'positive', 'neutr', 'neutr', 'negative', 'positive', 'positive', 'neutr', 'negative', 'positive', 'neutr', 'positive', 'negative', 'positive', 'positive', 'positive', 'positive', 'negative', 'positive', 'positive', 'negative', 'neutr', 'positive', 'positive', 'positive', 'positive', 'neutr', 'positive', 'negative', 'neutr', 'negative', 'positive', 'negative', 'positive', 'positive', 'positive', 'neutr', 'positive', 'neutr', 'positive', 'positive', 'neutr', 'positive', 'positive', 'positive', 'neutr', 'positive', 'negative', 'positive', 'neutr', 'positive', 'neutr', 'positive', 'neutr', 'positive', 'negative', 'positive', 'neutr', 'positive', 'negative', 'negative', 'positive', 'neutr', 'neutr', 'negative', 'neutr', 'positive', 'positive', 'neutr', 'neutr', 'positive', 'positive', 'positive', 'neutr', 'positive', 'neutr', 'positive', 'positive', 'negative', 'negative', 'neutr', 'positive', 'neutr', 'positive', 'negative', 'positive', 'neutr', 'positive', 'positive', 'positive', 'neutr', 'neutr', 'positive', 'positive', 'neutr', 'negative', 'positive', 'positive', 'positive', 'negative', 'negative', 'positive', 'neutr', 'positive', 'positive', 'neutr', 'neutr', 'positive', 'neutr', 'neutr', 'neutr', 'negative', 'positive', 'neutr', 'neutr', 'positive', 'neutr', 'neutr', 'positive', 'neutr', 'neutr', 'negative', 'positive', 'positive', 'positive', 'neutr', 'neutr', 'positive', 'neutr', 'neutr', 'positive', 'neutr', 'negative', 'negative', 'positive', 'positive', 'positive', 'positive', 'positive', 'positive', 'negative', 'positive', 'positive', 'neutr', 'negative', 'neutr', 'positive', 'negative', 'positive', 'negative', 'negative', 'positive', 'negative', 'neutr', 'negative', 'neutr', 'positive', 'positive', 'positive', 'positive', 'positive', 'negative', 'positive', 'neutr', 'positive', 'negative', 'positive', 'positive', 'positive', 'neutr', 'positive', 'positive', 'neutr', 'negative', 'positive', 'neutr', 'positive', 'negative', 'negative', 'neutr', 'positive', 'positive', 'positive', 'neutr', 'positive', 'positive', 'positive', 'positive', 'negative', 'negative', 'negative', 'neutr', 'neutr', 'neutr', 'negative', 'negative', 'negative', 'positive', 'negative', 'negative', 'neutr', 'negative', 'negative', 'positive', 'negative', 'positive', 'neutr', 'neutr', 'positive', 'positive', 'positive', 'positive', 'positive', 'negative', 'positive', 'positive', 'negative', 'negative', 'positive', 'positive', 'neutr', 'neutr', 'neutr', 'neutr', 'neutr', 'positive', 'neutr', 'negative', 'positive', 'positive', 'neutr', 'neutr', 'negative', 'positive', 'neutr', 'positive', 'positive', 'positive', 'positive', 'positive', 'positive', 'positive', 'neutr', 'positive', 'positive', 'positive', 'negative', 'negative', 'positive', 'positive', 'positive', 'positive', 'positive', 'negative', 'neutr', 'negative', 'negative', 'positive', 'positive', 'positive', 'neutr', 'positive', 'positive', 'negative', 'positive', 'neutr', 'negative', 'negative', 'positive', 'positive', 'positive', 'positive', 'neutr', 'positive', 'neutr', 'negative', 'positive', 'positive', 'neutr', 'neutr', 'positive', 'neutr', 'positive', 'positive', 'positive', 'positive', 'positive', 'neutr', 'positive', 'positive', 'positive', 'negative', 'neutr', 'neutr', 'neutr', 'positive', 'positive', 'positive', 'positive', 'positive', 'positive', 'positive', 'positive', 'positive', 'positive', 'positive', 'positive', 'negative', 'neutr', 'positive', 'neutr', 'positive', 'positive', 'negative', 'negative', 'positive', 'neutr', 'positive', 'positive', 'positive', 'negative', 'negative', 'positive', 'positive', 'negative', 'neutr', 'neutr', 'neutr', 'positive', 'negative', 'positive', 'positive', 'neutr', 'positive', 'negative', 'neutr', 'positive', 'negative', 'negative', 'positive', 'neutr', 'neutr', 'positive', 'negative', 'negative', 'positive', 'positive', 'negative', 'positive', 'negative', 'neutr', 'negative', 'positive', 'positive', 'neutr', 'neutr', 'negative', 'positive', 'negative', 'positive', 'positive', 'positive', 'positive', 'negative', 'negative', 'positive', 'positive', 'neutr', 'neutr', 'neutr', 'neutr', 'negative', 'positive', 'positive', 'positive', 'neutr', 'positive', 'positive', 'positive', 'negative', 'neutr', 'negative', 'positive', 'negative', 'negative', 'positive', 'positive', 'positive', 'negative', 'neutr', 'positive', 'negative', 'neutr', 'positive', 'negative', 'positive', 'positive', 'positive', 'positive', 'positive', 'positive', 'positive', 'neutr', 'neutr', 'positive', 'negative', 'neutr', 'negative', 'positive', 'positive', 'neutr', 'positive', 'positive', 'neutr', 'positive', 'neutr', 'negative', 'negative', 'positive', 'positive', 'positive', 'negative', 'neutr', 'positive', 'neutr', 'positive', 'neutr', 'positive', 'positive', 'negative', 'positive', 'neutr', 'positive', 'negative', 'negative', 'neutr', 'neutr', 'positive', 'positive', 'negative', 'negative', 'neutr', 'positive', 'positive', 'negative', 'positive', 'positive', 'neutr', 'positive', 'neutr', 'positive', 'neutr', 'positive', 'neutr', 'positive', 'positive', 'neutr', 'positive', 'positive', 'neutr', 'negative', 'neutr', 'neutr', 'neutr', 'positive', 'positive', 'positive', 'neutr', 'positive', 'positive', 'negative', 'positive', 'neutr', 'positive', 'negative', 'negative', 'positive', 'neutr', 'neutr', 'neutr', 'positive', 'negative', 'neutr', 'positive', 'positive', 'neutr', 'negative', 'neutr', 'positive', 'neutr', 'positive', 'positive', 'negative', 'positive', 'neutr', 'neutr', 'positive', 'neutr', 'positive', 'positive', 'positive', 'neutr', 'neutr', 'negative', 'neutr', 'neutr', 'negative', 'positive', 'negative', 'positive', 'positive', 'neutr', 'positive', 'positive', 'positive', 'positive', 'positive', 'positive', 'neutr', 'neutr', 'positive', 'negative', 'positive', 'negative', 'positive', 'positive', 'positive', 'positive', 'positive', 'neutr', 'positive', 'negative', 'neutr', 'positive', 'positive', 'negative', 'neutr', 'negative', 'positive', 'neutr', 'neutr', 'negative', 'neutr', 'neutr', 'negative', 'positive', 'positive', 'negative', 'positive', 'positive', 'positive', 'negative', 'positive', 'negative', 'neutr', 'positive', 'positive', 'positive', 'negative', 'neutr', 'positive', 'positive', 'neutr', 'positive', 'positive', 'positive', 'neutr', 'positive', 'negative', 'positive', 'neutr', 'positive', 'neutr', 'neutr', 'negative', 'positive', 'positive', 'neutr', 'positive', 'neutr', 'neutr', 'positive', 'neutr', 'positive', 'positive', 'positive', 'positive', 'negative', 'negative', 'positive', 'positive', 'positive', 'positive', 'neutr', 'negative', 'negative', 'neutr', 'negative', 'positive', 'positive', 'positive', 'positive', 'neutr', 'positive', 'positive', 'positive', 'positive', 'neutr', 'positive', 'negative', 'positive', 'negative', 'positive', 'positive', 'neutr', 'neutr', 'neutr', 'positive', 'positive', 'positive', 'negative', 'negative', 'positive', 'negative', 'positive', 'neutr', 'positive', 'positive', 'positive', 'negative', 'positive', 'neutr', 'negative', 'neutr', 'negative', 'neutr', 'negative', 'neutr', 'neutr', 'negative', 'negative', 'neutr', 'positive', 'positive', 'positive', 'neutr', 'positive', 'negative', 'positive', 'negative', 'positive', 'positive', 'negative', 'positive', 'negative', 'neutr', 'neutr', 'negative', 'positive', 'neutr', 'positive', 'neutr', 'positive', 'neutr', 'positive', 'positive', 'neutr', 'negative', 'negative', 'positive', 'positive', 'neutr', 'positive', 'positive', 'positive', 'negative', 'negative', 'positive', 'negative', 'positive', 'neutr', 'positive', 'neutr', 'positive', 'positive', 'neutr', 'positive', 'positive', 'positive', 'negative', 'positive', 'negative', 'positive', 'neutr', 'positive', 'positive', 'neutr', 'positive', 'positive', 'positive', 'positive', 'neutr', 'neutr', 'negative', 'neutr', 'positive', 'positive', 'positive', 'positive', 'positive', 'neutr', 'neutr', 'positive', 'positive', 'positive', 'positive', 'neutr', 'neutr', 'neutr', 'neutr', 'neutr', 'negative', 'positive', 'positive', 'negative', 'positive', 'neutr', 'negative', 'positive', 'positive', 'neutr', 'negative', 'neutr', 'positive', 'neutr', 'positive', 'positive', 'positive', 'positive', 'negative', 'positive', 'positive', 'positive', 'negative', 'positive', 'positive', 'positive', 'negative', 'positive', 'positive', 'positive', 'positive', 'neutr', 'negative', 'neutr', 'neutr', 'negative', 'neutr', 'positive', 'positive', 'neutr', 'neutr', 'neutr', 'neutr', 'positive', 'neutr', 'positive', 'neutr', 'positive', 'neutr', 'neutr', 'positive', 'positive', 'negative', 'positive', 'neutr', 'negative', 'negative', 'positive', 'positive', 'neutr', 'neutr', 'negative', 'neutr', 'positive', 'positive', 'neutr', 'positive', 'negative', 'positive', 'neutr', 'neutr', 'positive', 'positive', 'positive', 'positive', 'neutr', 'neutr', 'positive', 'positive', 'positive', 'negative', 'positive', 'positive', 'positive', 'neutr', 'positive', 'positive', 'negative', 'neutr', 'positive', 'positive', 'neutr', 'positive', 'neutr', 'neutr', 'positive', 'positive', 'neutr', 'positive', 'neutr', 'positive', 'neutr', 'neutr', 'neutr', 'neutr', 'neutr', 'neutr', 'positive', 'positive', 'positive', 'positive', 'positive', 'positive', 'neutr', 'positive', 'neutr', 'positive', 'neutr', 'positive', 'positive', 'negative', 'negative', 'neutr', 'positive', 'positive', 'neutr', 'negative', 'positive', 'positive', 'positive', 'positive', 'positive', 'neutr', 'negative', 'positive', 'neutr', 'positive', 'negative', 'positive', 'positive', 'neutr', 'negative', 'neutr', 'positive', 'positive', 'neutr', 'positive', 'positive', 'neutr', 'neutr', 'negative', 'negative', 'neutr', 'positive', 'negative', 'positive', 'neutr', 'positive', 'neutr', 'negative', 'negative', 'negative', 'neutr', 'positive', 'neutr', 'positive', 'positive', 'positive', 'positive', 'negative', 'negative', 'neutr', 'negative', 'negative', 'neutr', 'neutr', 'negative', 'neutr', 'positive', 'positive', 'neutr', 'positive', 'positive', 'negative', 'neutr', 'positive', 'negative', 'neutr', 'neutr', 'neutr', 'neutr', 'positive', 'positive', 'neutr', 'negative', 'positive', 'positive', 'positive', 'positive', 'negative', 'negative', 'negative', 'positive', 'positive', 'negative', 'neutr', 'positive', 'positive', 'negative', 'positive', 'negative', 'positive', 'neutr', 'negative', 'neutr', 'negative', 'negative', 'neutr', 'negative', 'negative', 'positive', 'positive', 'negative', 'neutr', 'positive', 'neutr', 'positive', 'positive', 'negative', 'negative', 'negative', 'neutr', 'negative', 'negative', 'neutr', 'negative', 'positive', 'negative', 'negative', 'positive', 'positive', 'neutr', 'neutr', 'negative', 'negative', 'negative', 'neutr', 'positive', 'neutr', 'neutr', 'neutr', 'negative', 'positive', 'neutr', 'positive', 'neutr', 'positive', 'positive', 'positive', 'negative', 'neutr', 'neutr', 'positive', 'neutr', 'negative', 'negative', 'positive', 'negative', 'negative', 'positive', 'neutr', 'positive', 'neutr', 'positive', 'negative', 'negative', 'neutr', 'positive', 'negative', 'negative', 'positive', 'negative', 'positive', 'negative', 'neutr', 'positive', 'neutr', 'negative', 'positive', 'neutr', 'positive', 'positive', 'positive', 'positive', 'neutr', 'neutr', 'negative', 'neutr', 'positive', 'positive', 'positive', 'positive', 'neutr', 'positive', 'positive', 'positive', 'positive', 'neutr', 'negative', 'positive', 'positive', 'positive', 'positive', 'neutr', 'positive', 'positive', 'neutr', 'positive', 'positive', 'neutr', 'positive', 'positive', 'neutr', 'negative', 'positive', 'neutr', 'positive', 'negative', 'negative', 'positive', 'neutr', 'negative', 'neutr', 'positive', 'positive', 'neutr', 'positive', 'neutr', 'positive', 'neutr', 'negative', 'positive', 'positive', 'neutr', 'positive', 'negative', 'positive', 'negative', 'positive', 'positive', 'positive', 'neutr', 'negative', 'positive', 'neutr', 'neutr', 'positive', 'positive', 'positive', 'positive', 'positive', 'negative', 'neutr', 'positive', 'positive', 'positive', 'positive', 'negative', 'negative', 'neutr', 'negative', 'positive', 'positive', 'neutr', 'neutr', 'positive', 'negative', 'positive', 'neutr', 'positive', 'negative', 'positive', 'positive', 'neutr', 'positive', 'positive', 'neutr', 'neutr', 'positive', 'positive', 'negative', 'negative', 'positive', 'positive', 'neutr', 'negative', 'positive', 'positive', 'negative', 'neutr', 'negative', 'positive', 'negative', 'neutr', 'neutr', 'neutr', 'negative', 'negative', 'positive', 'positive', 'positive', 'negative', 'negative', 'positive', 'negative', 'negative', 'neutr', 'negative', 'positive', 'neutr', 'neutr', 'positive', 'positive', 'positive', 'positive', 'neutr', 'positive', 'negative', 'positive', 'positive', 'positive', 'negative', 'neutr', 'negative', 'positive', 'neutr', 'neutr', 'negative', 'neutr', 'positive', 'neutr', 'neutr', 'positive', 'negative', 'negative', 'positive', 'negative', 'positive', 'negative', 'negative', 'positive', 'neutr', 'neutr', 'neutr', 'positive', 'negative', 'positive', 'positive', 'positive', 'positive', 'negative', 'positive', 'neutr', 'neutr', 'neutr', 'positive', 'neutr', 'positive', 'positive', 'positive', 'neutr', 'neutr', 'negative', 'negative', 'positive', 'positive', 'negative', 'neutr', 'positive', 'neutr', 'neutr', 'positive', 'positive', 'negative', 'neutr', 'negative', 'positive', 'positive', 'neutr', 'positive', 'positive', 'neutr', 'positive', 'positive', 'negative', 'positive', 'positive', 'neutr', 'negative', 'negative', 'neutr', 'neutr', 'negative', 'positive', 'positive', 'negative', 'neutr', 'positive', 'positive', 'positive', 'negative', 'negative', 'neutr', 'negative', 'positive', 'positive', 'neutr', 'positive', 'neutr', 'negative', 'positive', 'neutr', 'neutr', 'neutr', 'positive', 'negative', 'negative', 'neutr', 'neutr', 'negative', 'negative', 'negative', 'positive', 'positive', 'neutr', 'positive', 'positive', 'positive', 'negative', 'neutr', 'positive', 'neutr', 'positive', 'positive', 'neutr', 'positive', 'negative', 'positive', 'negative', 'positive', 'neutr', 'neutr', 'neutr', 'neutr', 'neutr', 'positive', 'positive', 'neutr', 'negative', 'positive', 'positive', 'positive', 'positive', 'positive', 'neutr', 'positive', 'positive', 'positive', 'positive', 'positive', 'neutr', 'neutr', 'positive', 'negative', 'positive', 'positive', 'negative', 'positive', 'positive', 'neutr', 'positive', 'positive', 'positive', 'negative', 'negative', 'positive', 'neutr', 'neutr', 'positive', 'positive', 'positive', 'positive', 'neutr', 'positive', 'negative', 'negative', 'negative', 'positive', 'positive', 'negative', 'negative', 'positive', 'positive', 'positive', 'positive', 'positive', 'positive', 'positive', 'negative', 'neutr', 'negative', 'negative', 'negative', 'positive', 'positive', 'negative', 'positive', 'positive', 'positive', 'neutr', 'neutr', 'negative', 'negative', 'positive', 'neutr', 'negative', 'neutr', 'positive', 'negative', 'positive', 'positive', 'negative', 'negative', 'positive', 'positive', 'positive', 'positive', 'negative', 'positive', 'positive', 'positive', 'neutr', 'neutr', 'positive', 'positive', 'neutr', 'neutr', 'negative', 'positive', 'negative', 'negative', 'neutr', 'negative', 'neutr', 'positive', 'positive', 'negative', 'neutr', 'negative', 'positive', 'positive', 'neutr', 'positive', 'positive', 'negative', 'positive', 'positive', 'positive', 'neutr', 'positive', 'neutr', 'neutr', 'neutr', 'positive', 'neutr', 'neutr', 'neutr', 'positive', 'positive', 'negative', 'negative', 'positive', 'neutr', 'neutr', 'positive', 'negative', 'negative', 'neutr', 'neutr', 'positive', 'neutr', 'negative', 'positive', 'neutr', 'positive', 'positive', 'positive', 'positive', 'positive', 'negative', 'positive', 'positive', 'positive', 'positive', 'neutr', 'positive', 'neutr', 'negative', 'negative', 'positive', 'negative', 'neutr', 'positive', 'positive', 'positive', 'positive', 'positive', 'neutr', 'neutr', 'positive', 'positive', 'negative', 'positive', 'positive', 'positive', 'negative', 'positive', 'positive', 'positive', 'positive', 'positive', 'positive', 'negative', 'neutr', 'neutr', 'positive', 'positive', 'positive', 'positive', 'positive', 'neutr', 'neutr', 'neutr', 'positive', 'neutr', 'neutr', 'positive', 'neutr', 'positive', 'positive', 'positive', 'negative', 'negative', 'positive', 'positive', 'negative', 'positive', 'negative', 'positive', 'negative', 'positive', 'positive', 'positive', 'negative', 'negative', 'positive', 'neutr', 'positive', 'neutr', 'negative', 'neutr', 'positive', 'positive', 'neutr', 'negative', 'neutr', 'positive', 'negative', 'positive', 'negative', 'neutr', 'negative', 'positive', 'negative', 'neutr', 'positive', 'negative', 'neutr', 'neutr', 'positive', 'negative', 'negative', 'positive', 'neutr', 'positive', 'positive', 'neutr', 'negative', 'positive', 'positive', 'neutr', 'neutr', 'negative', 'neutr', 'neutr', 'positive', 'positive', 'positive', 'neutr', 'neutr', 'positive', 'positive', 'negative', 'negative', 'positive', 'neutr', 'positive', 'positive', 'positive', 'positive', 'negative', 'positive', 'positive', 'positive', 'positive', 'negative', 'positive', 'negative', 'positive', 'neutr', 'negative', 'positive', 'positive', 'neutr', 'neutr', 'neutr', 'neutr', 'positive', 'positive', 'negative', 'positive', 'positive', 'neutr', 'negative', 'negative', 'negative', 'positive', 'negative', 'neutr', 'positive', 'negative', 'positive', 'negative', 'negative', 'neutr', 'negative', 'neutr', 'positive', 'positive', 'positive', 'neutr', 'neutr', 'positive', 'negative', 'negative', 'positive', 'neutr', 'negative', 'negative', 'neutr', 'negative', 'negative', 'negative', 'negative', 'negative', 'positive', 'positive', 'neutr', 'negative', 'positive', 'positive', 'negative', 'neutr', 'neutr', 'negative', 'positive', 'neutr', 'neutr', 'positive', 'positive', 'positive', 'positive', 'negative', 'positive', 'positive', 'neutr', 'neutr', 'positive', 'negative', 'positive', 'positive', 'positive', 'neutr', 'negative', 'neutr', 'neutr', 'neutr', 'positive', 'neutr', 'negative', 'neutr', 'neutr', 'positive', 'positive', 'negative', 'neutr', 'positive', 'positive', 'positive', 'positive', 'positive', 'positive', 'positive', 'neutr', 'negative', 'neutr', 'neutr', 'negative', 'positive', 'positive', 'negative', 'neutr', 'negative', 'positive', 'positive', 'negative', 'negative', 'positive', 'negative', 'positive', 'neutr', 'positive', 'neutr', 'neutr', 'neutr', 'positive', 'negative', 'negative', 'positive', 'negative', 'neutr', 'neutr', 'positive', 'positive', 'neutr', 'positive', 'neutr', 'positive', 'positive', 'positive', 'negative', 'negative', 'negative', 'negative', 'neutr', 'negative', 'neutr', 'neutr', 'positive', 'positive', 'positive', 'positive', 'positive', 'neutr', 'negative', 'neutr', 'positive', 'negative', 'positive', 'positive', 'negative', 'neutr', 'neutr', 'positive', 'positive', 'neutr', 'positive', 'positive', 'positive', 'positive', 'neutr', 'positive', 'positive', 'positive', 'neutr', 'negative', 'negative', 'positive', 'positive', 'positive', 'positive', 'neutr', 'negative', 'positive', 'positive', 'positive', 'negative', 'positive', 'neutr', 'negative', 'positive', 'positive', 'neutr', 'positive', 'neutr', 'neutr', 'positive', 'positive', 'neutr', 'neutr', 'neutr', 'positive', 'positive', 'neutr', 'positive', 'positive', 'neutr', 'neutr', 'positive', 'neutr', 'positive', 'negative', 'negative', 'negative', 'positive', 'positive', 'negative', 'positive', 'positive', 'positive', 'neutr', 'negative', 'positive', 'positive', 'positive', 'positive', 'negative', 'positive', 'positive', 'neutr', 'negative', 'negative', 'neutr', 'positive', 'negative', 'positive', 'neutr', 'positive', 'negative', 'positive', 'negative', 'positive', 'neutr', 'positive', 'neutr', 'positive', 'positive', 'neutr', 'positive', 'neutr', 'positive', 'neutr', 'neutr', 'neutr', 'positive', 'negative', 'neutr', 'positive', 'positive', 'positive', 'negative', 'positive', 'positive', 'negative', 'positive', 'neutr', 'positive', 'positive', 'negative', 'neutr', 'neutr', 'positive', 'negative', 'negative', 'neutr', 'positive', 'positive', 'negative', 'negative', 'positive', 'positive', 'negative', 'positive', 'neutr', 'negative', 'negative', 'negative', 'neutr', 'positive', 'positive', 'neutr', 'neutr', 'neutr', 'negative', 'negative', 'positive', 'positive', 'neutr', 'neutr', 'neutr', 'negative', 'neutr', 'positive', 'neutr', 'positive', 'neutr', 'positive', 'positive', 'negative', 'negative', 'neutr', 'positive', 'positive', 'negative', 'positive', 'neutr', 'positive', 'positive', 'negative', 'neutr', 'neutr', 'neutr', 'neutr', 'neutr', 'negative', 'positive', 'positive', 'negative', 'neutr', 'negative', 'positive', 'neutr', 'neutr', 'negative', 'negative', 'negative', 'positive', 'positive', 'neutr', 'positive', 'negative', 'neutr', 'negative', 'positive', 'neutr', 'neutr', 'neutr', 'negative', 'positive', 'positive', 'positive', 'positive', 'positive', 'negative', 'neutr', 'positive', 'positive', 'negative', 'positive', 'positive', 'neutr', 'positive', 'neutr', 'positive', 'neutr', 'positive', 'neutr', 'positive', 'negative', 'positive', 'neutr', 'neutr', 'neutr', 'negative', 'positive', 'neutr', 'neutr', 'neutr', 'neutr', 'positive', 'negative', 'positive', 'positive', 'positive', 'positive', 'neutr', 'positive', 'neutr', 'negative', 'neutr', 'positive', 'positive', 'positive', 'neutr', 'positive', 'neutr', 'positive', 'positive', 'neutr', 'neutr', 'positive', 'negative', 'negative', 'negative', 'neutr', 'negative', 'positive', 'positive', 'neutr', 'neutr', 'positive', 'neutr', 'neutr', 'negative', 'neutr', 'positive', 'negative', 'neutr', 'neutr', 'positive', 'positive', 'positive', 'positive', 'positive', 'negative', 'negative', 'positive', 'negative', 'positive', 'positive', 'positive', 'positive', 'positive', 'negative', 'positive', 'neutr', 'negative', 'positive', 'neutr', 'positive', 'positive', 'negative', 'positive', 'negative', 'neutr', 'positive', 'neutr', 'neutr', 'neutr', 'neutr', 'positive', 'positive', 'positive', 'negative', 'positive', 'positive', 'negative', 'negative', 'neutr', 'neutr', 'positive', 'positive', 'positive', 'positive', 'positive', 'positive', 'neutr', 'positive', 'neutr', 'neutr', 'neutr', 'positive', 'positive', 'positive', 'positive', 'positive', 'positive', 'negative', 'neutr', 'neutr', 'positive', 'positive', 'positive', 'neutr', 'positive', 'neutr', 'positive', 'neutr', 'neutr', 'neutr', 'neutr', 'positive', 'neutr', 'neutr', 'neutr', 'neutr', 'neutr', 'neutr', 'positive', 'neutr', 'neutr', 'positive', 'negative', 'positive', 'negative', 'positive', 'neutr', 'neutr', 'neutr', 'positive', 'neutr', 'positive', 'neutr', 'negative', 'neutr', 'positive', 'positive', 'negative', 'positive', 'negative', 'positive', 'positive', 'positive', 'positive', 'neutr', 'neutr', 'neutr', 'neutr', 'positive', 'neutr', 'neutr', 'neutr', 'positive', 'neutr', 'positive', 'positive', 'positive', 'positive', 'neutr', 'positive', 'neutr', 'positive', 'positive', 'neutr', 'negative', 'positive', 'positive', 'neutr', 'neutr', 'negative', 'positive', 'positive', 'negative', 'positive', 'positive', 'positive', 'neutr', 'positive', 'neutr', 'neutr', 'neutr', 'positive', 'neutr', 'positive', 'positive', 'neutr', 'neutr', 'positive', 'negative', 'positive', 'positive', 'negative', 'negative', 'positive', 'negative', 'neutr', 'negative', 'positive', 'positive', 'negative', 'positive', 'neutr', 'positive', 'neutr', 'negative', 'negative', 'neutr', 'neutr', 'neutr', 'neutr', 'negative', 'neutr', 'positive', 'negative', 'positive', 'neutr', 'negative', 'negative', 'negative', 'negative', 'neutr', 'positive', 'negative', 'neutr', 'positive', 'positive', 'negative', 'positive', 'negative', 'neutr', 'negative', 'neutr', 'neutr', 'negative', 'positive', 'neutr', 'positive', 'negative', 'positive', 'negative', 'negative', 'positive', 'positive', 'negative', 'neutr', 'positive', 'positive', 'neutr', 'negative', 'neutr', 'positive', 'neutr', 'neutr', 'positive', 'negative', 'positive', 'positive', 'positive', 'neutr', 'neutr', 'positive', 'negative', 'positive', 'positive', 'negative', 'negative', 'neutr', 'neutr', 'negative', 'positive', 'positive', 'neutr', 'positive', 'positive', 'neutr', 'negative', 'neutr', 'positive', 'positive', 'neutr', 'neutr', 'neutr', 'neutr', 'negative', 'neutr', 'neutr', 'negative', 'positive', 'positive', 'positive', 'neutr', 'positive', 'positive', 'positive', 'positive', 'neutr', 'positive', 'positive', 'positive', 'neutr', 'neutr', 'negative', 'negative', 'positive', 'neutr', 'positive', 'neutr', 'negative', 'positive', 'negative', 'positive', 'neutr', 'negative', 'positive', 'neutr', 'positive', 'neutr', 'positive', 'neutr', 'negative', 'neutr', 'neutr', 'positive', 'positive', 'positive', 'neutr', 'positive', 'positive', 'neutr', 'positive', 'positive', 'positive', 'negative', 'neutr', 'neutr', 'positive', 'negative', 'negative', 'negative', 'positive', 'positive', 'neutr', 'neutr', 'neutr', 'negative', 'neutr', 'positive', 'positive', 'positive', 'positive', 'neutr', 'neutr', 'neutr', 'positive', 'neutr', 'negative', 'negative', 'negative', 'negative', 'neutr', 'negative', 'negative', 'negative', 'positive', 'neutr', 'positive', 'positive', 'negative', 'positive', 'positive', 'neutr', 'negative', 'negative', 'neutr', 'neutr', 'positive', 'positive', 'neutr', 'neutr', 'negative', 'negative', 'neutr', 'neutr', 'positive', 'positive', 'positive', 'neutr', 'negative', 'neutr', 'neutr', 'negative', 'positive', 'negative', 'positive', 'negative', 'positive', 'neutr', 'positive', 'negative', 'positive', 'positive', 'neutr', 'positive', 'positive', 'neutr', 'negative', 'neutr', 'negative', 'negative', 'neutr', 'negative', 'neutr', 'neutr', 'neutr', 'positive', 'neutr', 'positive', 'negative', 'neutr', 'positive', 'positive', 'positive', 'neutr', 'positive', 'positive', 'neutr', 'neutr', 'negative', 'neutr', 'neutr', 'positive', 'neutr', 'neutr', 'neutr', 'positive', 'negative', 'positive', 'positive', 'positive', 'positive', 'neutr', 'positive', 'positive', 'positive', 'positive', 'positive', 'neutr', 'neutr', 'positive', 'negative', 'positive', 'neutr', 'neutr', 'negative', 'negative', 'positive', 'positive', 'positive', 'positive', 'positive', 'positive', 'positive', 'positive', 'positive', 'positive', 'neutr', 'positive', 'positive', 'positive', 'positive', 'positive', 'positive', 'positive', 'neutr', 'positive', 'neutr', 'positive', 'neutr', 'negative', 'positive', 'neutr', 'neutr', 'positive', 'negative', 'positive', 'positive', 'positive', 'negative', 'positive', 'negative', 'neutr', 'positive', 'neutr', 'positive', 'neutr', 'negative', 'positive', 'positive', 'positive', 'negative', 'neutr', 'positive', 'positive', 'negative', 'negative', 'positive', 'positive', 'positive', 'positive', 'negative', 'positive', 'positive', 'positive', 'positive', 'neutr', 'negative', 'neutr', 'neutr', 'negative', 'positive', 'neutr', 'positive', 'positive', 'neutr', 'neutr', 'neutr', 'positive', 'positive', 'neutr', 'positive', 'neutr', 'neutr', 'positive', 'neutr', 'positive', 'negative', 'neutr', 'positive', 'positive', 'neutr', 'negative', 'neutr', 'neutr', 'neutr', 'positive', 'neutr', 'negative', 'positive', 'positive', 'positive', 'neutr', 'neutr', 'neutr', 'negative', 'positive', 'negative', 'positive', 'positive', 'negative', 'positive', 'negative', 'positive', 'neutr', 'neutr', 'neutr', 'positive', 'positive', 'positive', 'negative', 'positive', 'negative', 'positive', 'positive', 'neutr', 'positive', 'neutr', 'positive', 'neutr', 'negative', 'neutr', 'negative', 'negative', 'positive', 'positive', 'neutr', 'positive', 'positive', 'negative', 'negative', 'neutr', 'neutr', 'negative', 'negative', 'neutr', 'neutr', 'positive', 'positive', 'positive', 'neutr', 'positive', 'positive', 'neutr', 'positive', 'positive', 'negative', 'neutr', 'negative', 'positive', 'positive', 'positive', 'neutr', 'negative', 'neutr', 'positive', 'positive', 'positive', 'positive', 'positive', 'positive', 'negative', 'negative', 'negative', 'neutr', 'positive', 'neutr', 'neutr', 'neutr', 'neutr', 'positive', 'negative', 'negative', 'positive', 'negative', 'neutr', 'neutr', 'neutr', 'neutr', 'neutr', 'negative', 'neutr', 'neutr', 'positive', 'positive', 'positive', 'neutr', 'positive', 'negative', 'positive', 'negative', 'positive', 'positive', 'positive', 'negative', 'negative', 'negative', 'negative', 'positive', 'positive', 'positive', 'neutr', 'neutr', 'positive', 'neutr', 'positive', 'negative', 'positive', 'positive', 'negative', 'positive', 'negative', 'positive', 'positive', 'positive', 'neutr', 'negative', 'neutr', 'neutr', 'positive', 'neutr', 'negative', 'positive', 'positive', 'positive', 'neutr', 'negative', 'negative', 'positive', 'positive', 'positive', 'negative', 'neutr', 'positive', 'neutr', 'neutr', 'negative', 'positive', 'positive', 'positive', 'neutr', 'neutr', 'neutr', 'positive', 'negative', 'neutr', 'negative', 'neutr', 'positive', 'neutr', 'positive', 'neutr', 'positive', 'positive', 'neutr', 'neutr', 'positive', 'neutr', 'neutr', 'positive', 'negative', 'negative', 'positive', 'neutr', 'neutr', 'negative', 'negative', 'positive', 'positive', 'negative', 'positive', 'positive', 'neutr', 'neutr', 'negative', 'negative', 'neutr', 'positive', 'neutr', 'neutr', 'positive', 'neutr', 'negative', 'neutr', 'positive', 'positive', 'positive', 'positive', 'positive', 'negative', 'neutr', 'positive', 'positive', 'neutr', 'positive', 'neutr', 'positive', 'negative', 'positive', 'neutr', 'neutr', 'negative', 'negative', 'neutr', 'positive', 'negative', 'negative', 'neutr', 'neutr', 'neutr', 'neutr', 'negative', 'positive', 'neutr', 'positive', 'neutr', 'neutr', 'positive', 'neutr', 'neutr', 'positive', 'negative', 'positive', 'positive', 'positive', 'negative', 'neutr', 'neutr', 'positive', 'neutr', 'positive', 'positive', 'positive', 'positive', 'negative', 'neutr', 'neutr', 'neutr', 'positive', 'positive', 'neutr', 'neutr', 'positive', 'positive', 'positive', 'neutr', 'positive', 'negative', 'neutr', 'positive', 'neutr', 'positive', 'neutr', 'positive', 'neutr', 'positive', 'negative', 'neutr', 'positive', 'negative', 'negative', 'neutr', 'neutr', 'positive', 'positive', 'neutr', 'positive', 'positive', 'neutr', 'positive', 'positive', 'neutr', 'positive', 'positive', 'positive', 'negative', 'negative', 'neutr', 'neutr', 'positive', 'neutr', 'neutr', 'neutr', 'positive', 'negative', 'neutr', 'negative', 'neutr', 'positive', 'neutr', 'negative', 'neutr', 'positive', 'neutr', 'neutr', 'neutr', 'neutr', 'neutr', 'neutr', 'neutr', 'negative', 'negative', 'positive', 'positive', 'neutr', 'positive', 'positive', 'neutr', 'positive', 'positive', 'negative', 'positive', 'positive', 'neutr', 'positive', 'positive', 'positive', 'positive', 'neutr', 'negative', 'positive', 'neutr', 'neutr', 'neutr', 'positive', 'positive', 'positive', 'positive', 'positive', 'positive', 'negative', 'positive', 'neutr', 'neutr', 'negative', 'neutr', 'positive', 'positive', 'negative', 'neutr', 'neutr', 'neutr', 'positive', 'negative', 'neutr', 'negative', 'neutr', 'neutr', 'positive', 'neutr', 'positive', 'positive', 'neutr', 'positive', 'positive', 'neutr', 'neutr', 'positive', 'negative', 'negative', 'positive', 'neutr', 'neutr', 'neutr', 'positive', 'neutr', 'neutr', 'neutr', 'positive', 'neutr', 'positive', 'neutr', 'neutr', 'neutr', 'neutr', 'negative', 'positive', 'neutr', 'neutr', 'neutr', 'neutr', 'neutr', 'positive', 'neutr', 'positive', 'positive', 'neutr', 'neutr', 'neutr', 'neutr', 'neutr', 'positive', 'positive', 'positive', 'neutr', 'neutr', 'positive', 'neutr', 'negative', 'neutr', 'positive', 'negative', 'negative', 'positive', 'neutr', 'positive', 'negative', 'positive', 'negative', 'positive', 'positive', 'neutr', 'positive', 'neutr', 'positive', 'neutr', 'positive', 'negative', 'neutr', 'neutr', 'positive', 'positive', 'neutr', 'neutr', 'positive', 'positive', 'neutr', 'neutr', 'neutr', 'positive', 'positive', 'positive', 'positive', 'positive', 'positive', 'positive', 'neutr', 'positive', 'positive', 'negative', 'negative', 'neutr', 'positive', 'negative', 'positive', 'positive', 'neutr', 'positive', 'positive', 'positive', 'positive', 'neutr', 'neutr', 'positive', 'neutr', 'positive', 'neutr', 'positive', 'neutr', 'neutr', 'positive', 'positive', 'positive', 'positive', 'neutr', 'negative', 'positive', 'positive', 'neutr', 'positive', 'positive', 'neutr', 'positive', 'negative', 'positive', 'negative', 'neutr', 'neutr', 'positive', 'positive', 'positive', 'neutr', 'positive', 'neutr', 'positive', 'neutr', 'positive', 'positive', 'negative', 'positive', 'neutr', 'negative', 'positive', 'neutr', 'positive', 'positive', 'positive', 'neutr', 'positive', 'neutr', 'negative', 'neutr', 'neutr', 'neutr', 'negative', 'negative', 'positive', 'positive', 'positive', 'neutr', 'positive', 'neutr', 'positive', 'positive', 'negative', 'neutr', 'neutr', 'positive', 'positive', 'negative', 'positive', 'positive', 'positive', 'positive', 'neutr', 'positive', 'neutr', 'negative', 'neutr', 'negative', 'positive', 'neutr', 'positive', 'neutr', 'negative', 'neutr', 'positive', 'neutr', 'negative', 'positive', 'positive', 'neutr', 'positive', 'positive', 'neutr', 'positive', 'neutr', 'positive', 'neutr', 'neutr', 'neutr', 'positive', 'positive', 'negative', 'negative', 'positive', 'positive', 'neutr', 'neutr', 'positive', 'negative', 'negative', 'negative', 'positive', 'positive', 'negative', 'negative', 'neutr', 'neutr', 'positive', 'neutr', 'positive', 'positive', 'negative', 'neutr', 'neutr', 'neutr', 'positive', 'positive', 'positive', 'negative', 'neutr', 'negative', 'neutr', 'positive', 'neutr', 'positive', 'neutr', 'neutr', 'negative', 'negative', 'positive', 'positive', 'negative', 'neutr', 'negative', 'positive', 'positive', 'positive', 'negative', 'neutr', 'neutr', 'positive', 'positive', 'negative', 'neutr', 'neutr', 'negative', 'positive', 'negative', 'neutr', 'positive', 'positive', 'negative', 'negative', 'neutr', 'positive', 'negative', 'positive', 'positive', 'positive', 'positive', 'positive', 'neutr', 'positive', 'negative', 'positive', 'positive', 'positive', 'negative', 'neutr', 'positive', 'neutr', 'neutr', 'positive', 'negative', 'neutr', 'neutr', 'negative', 'negative', 'positive', 'negative', 'neutr', 'negative', 'neutr', 'positive', 'neutr', 'negative', 'positive', 'neutr', 'negative', 'neutr', 'positive', 'neutr', 'negative', 'positive', 'negative', 'negative', 'neutr', 'positive', 'negative', 'positive', 'negative', 'positive', 'positive', 'negative', 'positive', 'neutr', 'negative', 'negative', 'negative', 'negative', 'neutr', 'positive', 'neutr', 'neutr', 'positive', 'positive', 'positive', 'negative', 'negative', 'neutr', 'negative', 'negative', 'negative', 'negative', 'positive', 'positive', 'positive', 'neutr', 'negative', 'negative', 'positive', 'positive', 'positive', 'negative', 'neutr', 'negative', 'negative', 'neutr', 'negative', 'positive', 'positive', 'negative', 'neutr', 'positive', 'neutr', 'negative', 'neutr', 'negative', 'neutr', 'positive', 'neutr', 'negative', 'neutr', 'positive', 'neutr', 'negative', 'negative', 'negative', 'negative', 'positive', 'neutr', 'neutr', 'positive', 'positive', 'positive', 'positive', 'neutr', 'positive', 'neutr', 'positive', 'positive', 'positive', 'neutr', 'positive', 'positive', 'neutr', 'neutr', 'positive', 'positive', 'neutr', 'positive', 'positive', 'neutr', 'positive', 'positive', 'neutr', 'negative', 'positive', 'positive', 'positive', 'negative', 'positive', 'positive', 'positive', 'negative', 'positive', 'neutr', 'neutr', 'positive', 'negative', 'positive', 'neutr', 'negative', 'positive', 'positive', 'negative', 'neutr', 'negative', 'positive', 'negative', 'positive', 'neutr', 'negative', 'positive', 'negative', 'neutr', 'positive', 'positive', 'positive', 'negative', 'positive', 'negative', 'positive', 'positive', 'neutr', 'positive', 'negative', 'neutr', 'positive', 'negative', 'negative', 'neutr', 'positive', 'negative', 'negative', 'positive', 'positive', 'positive', 'neutr', 'neutr', 'neutr', 'neutr', 'positive', 'positive', 'negative', 'negative', 'positive', 'negative', 'positive', 'positive', 'positive', 'neutr', 'negative', 'negative', 'neutr', 'neutr', 'positive', 'positive', 'neutr', 'neutr', 'positive', 'neutr', 'negative', 'positive', 'positive', 'positive', 'neutr', 'positive', 'neutr', 'negative', 'positive', 'positive', 'neutr', 'neutr', 'positive', 'neutr', 'neutr', 'positive', 'neutr', 'positive', 'positive', 'positive', 'neutr', 'positive', 'positive', 'negative', 'negative', 'positive', 'positive', 'positive', 'positive', 'neutr', 'negative', 'negative', 'positive', 'positive', 'positive', 'positive', 'negative', 'positive', 'positive', 'positive', 'positive', 'negative', 'neutr', 'negative', 'positive', 'positive', 'negative', 'negative', 'positive', 'positive', 'positive', 'negative', 'positive', 'neutr', 'negative', 'positive', 'neutr', 'negative', 'negative', 'positive', 'positive', 'negative', 'positive', 'positive', 'negative', 'neutr', 'neutr', 'negative', 'positive', 'negative', 'positive', 'neutr', 'negative', 'negative', 'neutr', 'negative', 'negative', 'negative', 'neutr', 'positive', 'neutr', 'positive', 'negative', 'positive', 'positive', 'positive', 'positive', 'positive', 'positive', 'positive', 'neutr', 'negative', 'neutr', 'negative', 'positive', 'positive', 'positive', 'negative', 'positive', 'positive', 'neutr', 'positive', 'positive', 'neutr', 'positive', 'positive', 'positive', 'positive', 'neutr', 'positive', 'negative', 'positive', 'neutr', 'positive', 'positive', 'neutr', 'positive', 'negative', 'negative', 'negative', 'neutr', 'neutr', 'positive', 'neutr', 'neutr', 'neutr', 'positive', 'neutr', 'positive', 'positive', 'neutr', 'positive', 'neutr', 'positive', 'neutr', 'positive', 'positive', 'positive', 'negative', 'negative', 'negative', 'neutr', 'positive', 'positive', 'neutr', 'negative', 'positive', 'neutr', 'positive', 'positive', 'positive', 'neutr', 'negative', 'neutr', 'positive', 'positive', 'neutr', 'neutr', 'negative', 'negative', 'negative', 'neutr', 'positive', 'positive', 'neutr', 'negative', 'neutr', 'negative', 'neutr', 'neutr', 'negative', 'positive', 'positive', 'negative', 'positive', 'positive', 'neutr', 'positive', 'positive', 'positive', 'positive', 'positive', 'neutr', 'neutr', 'positive', 'neutr', 'neutr', 'neutr', 'negative', 'neutr', 'negative', 'negative', 'neutr', 'positive', 'neutr', 'neutr', 'neutr', 'positive', 'positive', 'positive', 'positive', 'positive', 'positive', 'positive', 'neutr', 'positive', 'neutr', 'negative', 'negative', 'positive', 'positive', 'neutr', 'negative', 'positive', 'neutr', 'positive', 'positive', 'negative', 'positive', 'positive', 'positive', 'neutr', 'neutr', 'negative', 'neutr', 'negative', 'positive', 'neutr', 'positive', 'neutr', 'positive', 'negative', 'positive', 'neutr', 'positive', 'negative', 'positive', 'neutr', 'negative', 'negative', 'positive', 'negative', 'neutr', 'positive', 'positive', 'positive', 'negative', 'neutr', 'neutr', 'negative', 'neutr', 'negative', 'negative', 'negative', 'neutr', 'neutr', 'neutr', 'positive', 'neutr', 'neutr', 'positive', 'positive', 'positive', 'positive', 'negative', 'positive', 'neutr', 'negative', 'negative', 'negative', 'neutr', 'positive', 'neutr', 'neutr', 'positive', 'positive', 'positive', 'positive', 'negative', 'positive', 'negative', 'negative', 'negative', 'positive', 'positive', 'positive', 'negative', 'negative', 'neutr', 'positive', 'positive', 'positive', 'negative', 'negative', 'positive', 'neutr', 'positive', 'positive', 'neutr', 'positive', 'negative', 'negative', 'negative', 'positive', 'positive', 'positive', 'neutr', 'positive', 'negative', 'positive', 'negative', 'positive', 'neutr', 'negative', 'positive', 'positive', 'neutr', 'negative', 'negative', 'positive', 'neutr', 'positive', 'positive', 'neutr', 'positive', 'positive', 'positive', 'neutr', 'negative', 'positive', 'positive', 'positive', 'negative', 'positive', 'neutr', 'positive', 'negative', 'neutr', 'negative', 'neutr', 'neutr', 'positive', 'positive', 'positive', 'negative', 'neutr', 'positive', 'positive', 'positive', 'negative', 'neutr', 'positive', 'neutr', 'positive', 'positive', 'positive', 'negative', 'positive', 'positive', 'positive', 'positive', 'positive', 'positive', 'neutr', 'positive', 'neutr', 'positive', 'neutr', 'positive', 'positive', 'positive', 'neutr', 'negative', 'positive', 'neutr', 'negative', 'neutr', 'positive', 'positive', 'positive', 'neutr', 'positive', 'positive', 'positive', 'positive', 'negative', 'positive', 'negative', 'negative', 'positive', 'positive', 'neutr', 'positive', 'negative', 'positive', 'positive', 'neutr', 'positive', 'neutr', 'positive', 'positive', 'neutr', 'positive', 'negative', 'neutr', 'neutr', 'positive', 'negative', 'neutr', 'neutr', 'negative', 'negative', 'neutr', 'neutr', 'neutr', 'negative', 'positive', 'positive', 'positive', 'negative', 'neutr', 'negative', 'neutr', 'neutr', 'positive', 'positive', 'neutr', 'positive', 'neutr', 'positive', 'neutr', 'negative', 'positive', 'negative', 'neutr', 'neutr', 'positive', 'positive', 'positive', 'positive', 'neutr', 'positive', 'positive', 'negative', 'positive', 'positive', 'neutr', 'positive', 'positive', 'negative', 'positive', 'positive', 'negative', 'positive', 'positive', 'neutr', 'negative', 'positive', 'positive', 'neutr', 'negative', 'positive', 'positive', 'positive', 'positive', 'negative', 'negative', 'positive', 'positive', 'neutr', 'neutr', 'positive', 'positive', 'neutr', 'positive', 'neutr', 'positive', 'neutr', 'neutr', 'negative', 'positive', 'neutr', 'positive', 'positive', 'neutr', 'negative', 'neutr', 'neutr', 'positive', 'positive', 'negative', 'negative', 'positive', 'negative', 'neutr', 'neutr', 'positive', 'positive', 'neutr', 'positive', 'positive', 'neutr', 'negative', 'negative', 'negative', 'neutr', 'positive', 'negative', 'neutr', 'neutr', 'positive', 'neutr', 'negative', 'positive', 'neutr', 'negative', 'neutr', 'positive', 'positive', 'positive', 'neutr', 'positive', 'neutr', 'positive', 'neutr', 'positive', 'positive', 'positive', 'neutr', 'positive', 'positive', 'positive', 'positive', 'neutr', 'negative', 'positive', 'neutr', 'positive', 'negative', 'positive', 'positive', 'positive', 'positive', 'negative', 'neutr', 'negative', 'positive', 'negative', 'neutr', 'neutr', 'neutr', 'positive', 'positive', 'negative', 'positive', 'neutr', 'neutr', 'neutr', 'positive', 'neutr', 'neutr', 'positive', 'positive', 'neutr', 'neutr', 'positive', 'negative', 'negative', 'neutr', 'positive', 'negative', 'neutr', 'positive', 'negative', 'neutr', 'neutr', 'positive', 'positive', 'neutr', 'negative', 'negative', 'positive', 'positive', 'neutr', 'positive', 'neutr', 'negative', 'negative', 'neutr', 'positive', 'neutr', 'neutr', 'neutr', 'positive', 'neutr', 'negative', 'neutr', 'positive', 'neutr', 'positive', 'neutr', 'positive', 'neutr', 'neutr', 'negative', 'positive', 'neutr', 'negative', 'neutr', 'negative', 'positive', 'positive', 'negative', 'positive', 'positive', 'neutr', 'positive', 'positive', 'positive', 'negative', 'neutr', 'positive', 'negative', 'neutr', 'positive', 'positive', 'neutr', 'neutr', 'neutr', 'neutr', 'positive', 'positive', 'neutr', 'positive', 'neutr', 'positive', 'positive', 'negative', 'neutr', 'neutr', 'negative', 'neutr', 'positive', 'positive', 'negative', 'neutr', 'neutr', 'negative', 'positive', 'negative', 'neutr', 'neutr', 'negative', 'neutr', 'negative', 'neutr', 'negative', 'positive', 'neutr', 'negative', 'positive', 'negative', 'negative', 'negative', 'positive', 'negative', 'neutr', 'neutr', 'neutr', 'neutr', 'negative', 'neutr', 'positive', 'neutr', 'neutr', 'positive', 'negative', 'neutr', 'neutr', 'positive', 'neutr', 'negative', 'negative', 'positive', 'neutr', 'negative', 'neutr', 'positive', 'positive', 'positive', 'positive', 'negative', 'positive', 'positive', 'positive', 'negative', 'negative', 'neutr', 'negative', 'neutr', 'positive', 'positive', 'negative', 'neutr', 'positive', 'neutr', 'positive', 'positive', 'negative', 'neutr', 'negative', 'neutr', 'positive', 'neutr', 'positive', 'neutr', 'positive', 'neutr', 'negative', 'negative', 'neutr', 'negative', 'negative', 'neutr', 'neutr', 'negative', 'neutr', 'positive', 'positive', 'neutr', 'positive', 'neutr', 'negative', 'positive', 'neutr', 'positive', 'neutr', 'neutr', 'positive', 'neutr', 'positive', 'positive', 'positive', 'neutr', 'neutr', 'positive', 'negative', 'neutr', 'positive', 'positive', 'positive', 'neutr', 'neutr', 'negative', 'negative', 'negative', 'negative', 'positive', 'neutr', 'neutr', 'neutr', 'neutr', 'positive', 'negative', 'positive', 'neutr', 'positive', 'negative', 'positive', 'positive', 'positive', 'neutr', 'neutr', 'positive', 'neutr', 'negative', 'negative', 'positive', 'negative', 'positive', 'neutr', 'positive', 'positive', 'positive', 'neutr', 'positive', 'positive', 'positive', 'positive', 'positive', 'neutr', 'positive', 'positive', 'neutr', 'neutr', 'positive', 'positive', 'neutr', 'positive', 'positive', 'positive', 'neutr', 'positive', 'negative', 'negative', 'positive', 'negative', 'negative', 'negative', 'positive', 'neutr', 'neutr', 'negative', 'positive', 'positive', 'negative', 'neutr', 'negative', 'neutr', 'negative', 'negative', 'positive', 'positive', 'positive', 'positive', 'positive', 'positive', 'positive', 'neutr', 'positive', 'negative', 'positive', 'negative', 'positive', 'negative', 'negative', 'positive', 'negative', 'negative', 'positive', 'positive', 'negative', 'neutr', 'negative', 'negative', 'neutr', 'neutr', 'neutr', 'neutr', 'positive', 'neutr', 'positive', 'neutr', 'negative', 'positive', 'negative', 'neutr', 'positive', 'negative', 'neutr', 'neutr', 'positive', 'positive', 'positive', 'negative', 'positive', 'neutr', 'positive', 'neutr', 'positive', 'neutr', 'positive', 'neutr', 'neutr', 'neutr', 'neutr', 'positive', 'negative', 'negative', 'neutr', 'neutr', 'negative', 'negative', 'positive', 'positive', 'negative', 'neutr', 'neutr', 'positive', 'neutr', 'positive', 'positive', 'negative', 'negative', 'negative', 'negative', 'negative', 'positive', 'neutr', 'neutr', 'negative', 'positive', 'negative', 'neutr', 'positive', 'neutr', 'positive', 'positive', 'positive', 'positive', 'positive', 'positive', 'positive', 'negative', 'positive', 'negative', 'neutr', 'negative', 'negative', 'negative', 'positive', 'negative', 'neutr', 'positive', 'neutr', 'negative', 'negative', 'positive', 'neutr', 'positive', 'negative', 'neutr', 'negative', 'positive', 'positive', 'neutr', 'neutr', 'neutr', 'neutr', 'positive', 'neutr', 'negative', 'positive', 'neutr', 'neutr', 'neutr', 'neutr', 'negative', 'neutr', 'neutr', 'positive', 'neutr', 'neutr', 'negative', 'negative', 'neutr', 'neutr', 'neutr', 'positive', 'negative', 'positive', 'positive', 'neutr', 'neutr', 'positive', 'neutr', 'positive', 'positive', 'negative', 'negative', 'neutr', 'positive', 'negative', 'positive', 'positive', 'negative', 'neutr', 'positive', 'neutr', 'neutr', 'negative', 'negative', 'positive', 'negative', 'neutr', 'neutr', 'neutr', 'negative', 'neutr', 'neutr', 'negative', 'positive', 'positive', 'neutr', 'neutr', 'neutr', 'neutr', 'neutr', 'positive', 'negative', 'negative', 'neutr', 'negative', 'positive', 'negative', 'positive', 'positive', 'positive', 'negative', 'neutr', 'positive', 'negative', 'negative', 'neutr', 'positive', 'negative', 'neutr', 'positive', 'neutr', 'positive', 'neutr', 'neutr', 'negative', 'positive', 'negative', 'neutr', 'neutr', 'negative', 'neutr', 'negative', 'negative', 'negative', 'negative', 'neutr', 'negative', 'negative', 'positive', 'negative', 'positive', 'positive', 'negative', 'neutr', 'negative', 'positive', 'neutr', 'positive', 'negative', 'negative', 'neutr', 'positive', 'negative', 'neutr', 'negative', 'neutr', 'positive', 'negative', 'positive', 'positive', 'positive', 'positive', 'negative', 'positive', 'negative', 'negative', 'positive', 'negative', 'positive', 'neutr', 'neutr', 'positive', 'neutr', 'negative', 'positive', 'positive', 'positive', 'neutr', 'negative', 'negative', 'positive', 'positive', 'negative', 'neutr', 'neutr', 'positive', 'positive', 'positive', 'negative', 'neutr', 'positive', 'positive', 'neutr', 'positive', 'positive', 'negative', 'positive', 'negative', 'negative', 'negative', 'positive', 'negative', 'positive', 'positive', 'positive', 'positive', 'positive', 'positive', 'positive', 'neutr', 'neutr', 'negative', 'negative', 'negative', 'positive', 'positive', 'negative', 'positive', 'positive', 'positive', 'neutr', 'positive', 'positive', 'neutr', 'neutr', 'negative', 'positive', 'negative', 'negative', 'positive', 'neutr', 'neutr', 'negative', 'neutr', 'neutr', 'negative', 'neutr', 'positive', 'positive', 'positive', 'positive', 'neutr', 'positive', 'negative', 'negative', 'positive', 'neutr', 'neutr', 'negative', 'neutr', 'neutr', 'neutr', 'neutr', 'neutr', 'positive', 'neutr', 'negative', 'neutr', 'negative', 'neutr', 'positive', 'positive', 'positive', 'positive', 'positive', 'neutr', 'positive', 'positive', 'neutr', 'negative', 'negative', 'negative', 'neutr', 'neutr', 'neutr', 'neutr', 'positive', 'positive', 'neutr', 'positive', 'neutr', 'neutr', 'negative', 'neutr', 'neutr', 'positive', 'positive', 'neutr', 'positive', 'negative', 'neutr', 'neutr', 'positive', 'negative', 'neutr', 'neutr', 'neutr', 'positive', 'neutr', 'positive', 'positive', 'positive', 'neutr', 'positive', 'positive', 'positive', 'positive', 'neutr', 'negative', 'neutr', 'positive', 'positive', 'negative', 'neutr', 'positive', 'positive', 'positive', 'positive', 'positive', 'positive', 'positive', 'positive', 'positive', 'positive', 'positive', 'negative', 'neutr', 'positive', 'positive', 'negative', 'neutr', 'positive', 'positive', 'positive', 'positive', 'positive', 'positive', 'positive', 'positive', 'positive', 'negative', 'negative', 'negative', 'positive', 'positive', 'negative', 'positive', 'positive', 'positive', 'negative', 'positive', 'neutr', 'positive', 'negative', 'neutr', 'negative', 'neutr', 'positive', 'neutr', 'negative', 'neutr', 'negative', 'neutr', 'neutr', 'neutr', 'positive', 'positive', 'negative', 'neutr', 'negative', 'negative', 'positive', 'neutr', 'neutr', 'negative', 'neutr', 'positive', 'positive', 'neutr', 'negative', 'positive', 'positive', 'neutr', 'positive', 'negative', 'positive', 'neutr', 'negative', 'negative', 'neutr', 'neutr', 'positive', 'negative', 'positive', 'negative', 'positive', 'negative', 'negative', 'positive', 'positive', 'positive', 'neutr', 'negative', 'positive', 'neutr', 'positive', 'positive', 'positive', 'neutr', 'positive', 'neutr', 'positive', 'negative', 'positive', 'negative', 'positive', 'negative', 'positive', 'positive', 'positive', 'neutr', 'neutr', 'positive', 'negative', 'negative', 'positive', 'positive', 'positive', 'positive', 'positive', 'neutr', 'negative', 'positive', 'positive', 'neutr', 'neutr', 'neutr', 'positive', 'neutr', 'positive', 'negative', 'positive', 'neutr', 'negative', 'neutr', 'neutr', 'positive', 'neutr', 'neutr', 'negative', 'negative', 'negative', 'neutr', 'positive', 'negative', 'positive', 'positive', 'neutr', 'positive', 'neutr', 'positive', 'neutr', 'neutr', 'neutr', 'neutr', 'negative', 'positive', 'positive', 'neutr', 'negative', 'neutr', 'positive', 'neutr', 'negative', 'neutr', 'neutr', 'negative', 'positive', 'neutr', 'neutr', 'positive', 'neutr', 'negative', 'positive', 'neutr', 'negative', 'positive', 'negative', 'negative', 'negative', 'positive', 'positive', 'positive', 'neutr', 'negative', 'neutr', 'positive', 'negative', 'positive', 'negative', 'neutr', 'positive', 'positive', 'negative', 'neutr', 'positive', 'negative', 'positive', 'negative', 'negative', 'positive', 'negative', 'negative', 'neutr', 'neutr', 'positive', 'neutr', 'positive', 'positive', 'positive', 'neutr', 'positive', 'negative', 'neutr', 'negative', 'positive', 'positive', 'negative', 'neutr', 'neutr', 'negative', 'neutr', 'positive', 'positive', 'positive', 'positive', 'negative', 'negative', 'positive', 'negative', 'positive', 'positive', 'positive', 'positive', 'positive', 'negative', 'positive', 'negative', 'positive', 'neutr', 'positive', 'neutr', 'negative', 'positive', 'positive', 'neutr', 'positive', 'positive', 'negative', 'positive', 'positive', 'negative', 'positive', 'positive', 'neutr', 'neutr', 'positive', 'neutr', 'positive', 'positive', 'positive', 'negative', 'negative', 'negative', 'negative', 'neutr', 'positive', 'positive', 'positive', 'neutr', 'positive', 'neutr', 'negative', 'neutr', 'neutr', 'positive', 'positive', 'negative', 'positive', 'positive', 'positive', 'neutr', 'negative', 'neutr', 'positive', 'neutr', 'positive', 'positive', 'neutr', 'negative', 'positive', 'neutr', 'positive', 'positive', 'positive', 'negative', 'positive', 'positive', 'negative', 'positive', 'negative', 'positive', 'positive', 'negative', 'positive', 'positive', 'positive', 'positive', 'neutr', 'positive', 'positive', 'positive', 'positive', 'positive', 'positive', 'negative', 'neutr', 'neutr', 'positive', 'positive', 'neutr', 'positive', 'negative', 'neutr', 'positive', 'negative', 'neutr', 'positive', 'neutr', 'neutr', 'neutr', 'neutr', 'positive', 'neutr', 'negative', 'negative', 'positive', 'positive', 'positive', 'neutr', 'positive', 'positive', 'negative', 'negative', 'positive', 'neutr', 'neutr', 'negative', 'neutr', 'neutr', 'positive', 'neutr', 'positive', 'positive', 'negative', 'positive', 'negative', 'positive', 'neutr', 'negative', 'negative', 'neutr', 'positive', 'positive', 'neutr', 'neutr', 'positive', 'neutr', 'positive', 'neutr', 'neutr', 'negative', 'neutr', 'positive', 'positive', 'positive', 'negative', 'negative', 'positive', 'positive', 'negative', 'positive', 'positive', 'neutr', 'positive', 'positive', 'neutr', 'negative', 'positive', 'negative', 'positive', 'positive', 'negative', 'positive', 'negative', 'neutr', 'neutr', 'positive', 'neutr', 'positive', 'positive', 'positive', 'positive', 'negative', 'neutr', 'positive', 'positive', 'neutr', 'positive', 'positive', 'neutr', 'positive', 'neutr', 'positive', 'positive', 'positive', 'positive', 'negative', 'positive', 'positive', 'neutr', 'positive', 'neutr', 'neutr', 'positive', 'positive', 'positive', 'neutr', 'positive', 'negative', 'positive', 'positive', 'positive', 'positive', 'neutr', 'neutr', 'positive', 'neutr', 'negative', 'positive', 'neutr', 'neutr', 'positive', 'positive', 'positive', 'positive', 'neutr', 'neutr', 'positive', 'neutr', 'neutr', 'neutr', 'positive', 'neutr', 'neutr', 'negative', 'neutr', 'positive', 'positive', 'negative', 'positive', 'neutr', 'negative', 'negative', 'positive', 'neutr', 'neutr', 'negative', 'negative', 'neutr', 'negative', 'negative', 'neutr', 'positive', 'positive', 'positive', 'neutr', 'positive', 'neutr', 'neutr', 'neutr', 'neutr', 'negative', 'negative', 'positive', 'positive', 'negative', 'positive', 'positive', 'neutr', 'negative', 'neutr', 'negative', 'positive', 'neutr', 'neutr', 'positive', 'neutr', 'negative', 'neutr', 'negative', 'neutr', 'positive', 'positive', 'positive', 'neutr', 'positive', 'positive', 'neutr', 'neutr', 'positive', 'neutr', 'positive', 'negative', 'positive', 'neutr', 'neutr', 'positive', 'positive', 'negative', 'positive', 'neutr', 'negative', 'neutr', 'negative', 'negative', 'negative', 'positive', 'positive', 'positive', 'positive', 'negative', 'negative', 'positive', 'positive', 'neutr', 'negative', 'negative', 'neutr', 'neutr', 'negative', 'negative', 'neutr', 'neutr', 'negative', 'positive', 'negative', 'neutr', 'positive', 'positive', 'neutr', 'negative', 'neutr', 'negative', 'negative', 'positive', 'neutr', 'negative', 'neutr', 'negative', 'neutr', 'neutr', 'positive', 'neutr', 'positive', 'positive', 'negative', 'neutr', 'negative', 'positive', 'negative', 'positive', 'positive', 'negative', 'positive', 'positive', 'negative', 'neutr', 'neutr', 'positive', 'neutr', 'positive', 'negative', 'negative', 'positive', 'positive', 'neutr', 'positive', 'negative', 'neutr', 'positive', 'positive', 'positive', 'neutr', 'positive', 'positive', 'negative', 'neutr', 'neutr', 'positive', 'negative', 'negative', 'positive', 'negative', 'neutr', 'negative', 'neutr', 'neutr', 'positive', 'neutr', 'positive', 'positive', 'positive', 'negative', 'positive', 'positive', 'neutr', 'neutr', 'negative', 'positive', 'positive', 'negative', 'neutr', 'neutr', 'neutr', 'neutr', 'neutr', 'positive', 'negative', 'neutr', 'positive', 'positive', 'neutr', 'positive', 'positive', 'neutr', 'neutr', 'positive', 'negative', 'positive', 'neutr', 'positive', 'negative', 'neutr', 'neutr', 'negative', 'negative', 'positive', 'negative', 'positive', 'positive', 'neutr', 'positive', 'neutr', 'neutr', 'positive', 'neutr', 'neutr', 'positive', 'positive', 'neutr', 'positive', 'negative', 'neutr', 'positive', 'neutr', 'neutr', 'positive', 'positive', 'neutr', 'positive', 'neutr', 'neutr', 'neutr', 'neutr', 'neutr', 'neutr', 'positive', 'neutr', 'negative', 'negative', 'positive', 'positive', 'positive', 'positive', 'positive', 'negative', 'positive', 'neutr', 'positive', 'positive', 'neutr', 'neutr', 'neutr', 'negative', 'negative', 'positive', 'positive', 'negative', 'positive', 'positive', 'neutr', 'positive', 'positive', 'neutr', 'positive', 'neutr', 'positive', 'neutr', 'positive', 'positive', 'neutr', 'positive', 'positive', 'neutr', 'positive', 'neutr', 'neutr', 'positive', 'positive', 'positive', 'negative', 'positive', 'negative', 'positive', 'positive', 'neutr', 'positive', 'negative', 'neutr', 'neutr', 'neutr', 'positive', 'neutr', 'positive', 'negative', 'positive', 'positive', 'neutr', 'positive', 'positive', 'positive', 'neutr', 'positive', 'positive', 'positive', 'positive', 'neutr', 'negative', 'neutr', 'neutr', 'positive', 'positive', 'neutr', 'negative', 'negative', 'neutr', 'positive', 'positive', 'neutr', 'negative', 'positive', 'positive', 'neutr', 'positive', 'negative', 'neutr', 'neutr', 'positive', 'negative', 'positive', 'positive', 'neutr', 'positive', 'neutr', 'negative', 'neutr', 'negative', 'neutr', 'negative', 'negative', 'neutr', 'positive', 'positive', 'negative', 'positive', 'negative', 'neutr', 'neutr', 'neutr', 'positive', 'positive', 'neutr', 'positive', 'positive', 'neutr', 'neutr', 'positive', 'positive', 'negative', 'positive', 'negative', 'neutr', 'positive', 'neutr', 'positive', 'negative', 'neutr', 'negative', 'neutr', 'neutr', 'neutr', 'positive', 'neutr', 'neutr', 'positive', 'positive', 'positive', 'positive', 'negative', 'neutr', 'neutr', 'positive', 'positive', 'negative', 'positive', 'negative', 'neutr', 'negative', 'positive', 'neutr', 'positive', 'positive', 'positive', 'neutr', 'neutr', 'positive', 'positive', 'negative', 'positive', 'positive', 'neutr', 'negative', 'positive', 'negative', 'positive', 'positive', 'negative', 'positive', 'positive', 'negative', 'negative', 'neutr', 'positive', 'neutr', 'neutr', 'positive', 'negative', 'neutr', 'positive', 'neutr', 'neutr', 'negative', 'positive', 'neutr', 'negative', 'positive', 'negative', 'positive', 'positive', 'positive', 'negative', 'positive', 'positive', 'negative', 'negative', 'positive', 'negative', 'negative', 'neutr', 'negative', 'neutr', 'neutr', 'positive', 'negative', 'positive', 'positive', 'negative', 'positive', 'positive', 'positive', 'positive', 'neutr', 'positive', 'neutr', 'neutr', 'positive', 'neutr', 'neutr', 'positive', 'neutr', 'positive', 'neutr', 'negative', 'positive', 'positive', 'positive', 'positive', 'positive', 'neutr', 'positive', 'neutr', 'neutr', 'positive', 'negative', 'positive', 'neutr', 'neutr', 'positive', 'positive', 'negative', 'neutr', 'negative', 'neutr', 'positive', 'negative', 'neutr', 'neutr', 'neutr', 'neutr', 'positive', 'neutr', 'positive', 'negative', 'negative', 'negative', 'negative', 'negative', 'positive', 'positive', 'neutr', 'negative', 'positive', 'positive', 'neutr', 'neutr', 'positive', 'neutr', 'neutr', 'negative', 'negative', 'positive', 'positive', 'positive', 'neutr', 'negative', 'negative', 'negative', 'positive', 'positive', 'positive', 'neutr', 'neutr', 'neutr', 'negative', 'negative', 'negative', 'positive', 'neutr', 'positive', 'positive', 'negative', 'positive', 'positive', 'positive', 'positive', 'neutr', 'neutr', 'positive', 'neutr', 'negative', 'positive', 'positive', 'positive', 'positive', 'negative', 'positive', 'positive', 'neutr', 'neutr', 'positive', 'positive', 'negative', 'neutr', 'neutr', 'positive', 'neutr', 'negative', 'negative', 'positive', 'positive', 'neutr', 'positive', 'neutr', 'neutr', 'positive', 'positive', 'positive', 'positive', 'negative', 'positive', 'positive', 'neutr', 'negative', 'positive', 'positive', 'neutr', 'negative', 'positive', 'positive', 'neutr', 'neutr', 'neutr', 'positive', 'positive', 'negative', 'positive', 'positive', 'positive', 'positive', 'positive', 'positive', 'positive', 'negative', 'neutr', 'negative', 'positive', 'positive', 'positive', 'neutr', 'negative', 'positive', 'positive', 'neutr', 'neutr', 'neutr', 'positive', 'neutr', 'neutr', 'neutr', 'neutr', 'negative', 'neutr', 'positive', 'neutr', 'positive', 'positive', 'positive', 'neutr', 'negative', 'neutr', 'negative', 'neutr', 'positive', 'positive', 'neutr', 'negative', 'positive', 'positive', 'neutr', 'positive', 'neutr', 'positive', 'positive', 'neutr', 'neutr', 'positive', 'positive', 'neutr', 'positive', 'positive', 'positive', 'negative', 'negative', 'neutr', 'positive', 'positive', 'neutr', 'neutr', 'negative', 'negative', 'positive', 'positive', 'neutr', 'positive', 'positive', 'positive', 'neutr', 'neutr', 'neutr', 'positive', 'negative', 'negative', 'neutr', 'negative', 'positive', 'positive', 'neutr', 'neutr', 'negative', 'neutr', 'neutr', 'positive', 'neutr', 'positive', 'negative', 'neutr', 'negative', 'neutr', 'neutr', 'neutr', 'negative', 'negative', 'positive', 'neutr', 'negative', 'neutr', 'negative', 'negative', 'negative', 'neutr', 'neutr', 'positive', 'positive', 'positive', 'neutr', 'positive', 'neutr', 'positive', 'neutr', 'positive', 'negative', 'negative', 'neutr', 'neutr', 'positive', 'neutr', 'positive', 'neutr', 'neutr', 'positive', 'positive', 'negative', 'positive', 'negative', 'positive', 'neutr', 'neutr', 'positive', 'positive', 'positive', 'neutr', 'negative', 'neutr', 'negative', 'positive', 'positive', 'positive', 'neutr', 'negative', 'negative', 'positive', 'positive', 'positive', 'negative', 'neutr', 'negative', 'positive', 'negative', 'positive', 'negative', 'positive', 'positive', 'neutr', 'positive', 'positive', 'positive', 'positive', 'neutr', 'positive', 'positive', 'positive', 'neutr', 'positive', 'positive', 'neutr', 'negative', 'positive', 'positive', 'positive', 'negative', 'positive', 'neutr', 'negative', 'positive', 'negative', 'negative', 'positive', 'neutr', 'negative', 'neutr', 'negative', 'negative', 'positive', 'neutr', 'neutr', 'neutr', 'neutr', 'negative', 'positive', 'positive', 'neutr', 'negative', 'positive', 'neutr', 'neutr', 'positive', 'neutr', 'positive', 'positive', 'neutr', 'positive', 'positive', 'positive', 'negative', 'negative', 'negative', 'neutr', 'positive', 'positive', 'positive', 'neutr', 'positive', 'positive', 'negative', 'positive', 'negative', 'negative', 'positive', 'positive', 'neutr', 'neutr', 'positive', 'neutr', 'neutr', 'negative', 'neutr', 'positive', 'neutr', 'neutr', 'negative', 'positive', 'neutr', 'positive', 'neutr', 'positive', 'positive', 'neutr', 'positive', 'negative', 'positive', 'neutr', 'neutr', 'neutr', 'positive', 'neutr', 'positive', 'negative', 'neutr', 'positive', 'positive', 'negative', 'positive', 'negative', 'positive', 'neutr', 'neutr', 'positive', 'neutr', 'neutr', 'positive', 'neutr', 'neutr', 'negative', 'neutr', 'negative', 'neutr', 'neutr', 'positive', 'positive', 'positive', 'positive', 'positive', 'positive', 'neutr', 'positive', 'negative', 'positive', 'negative', 'negative', 'negative', 'neutr', 'positive', 'negative', 'neutr', 'positive', 'positive', 'positive', 'positive', 'neutr', 'negative', 'negative', 'neutr', 'positive', 'positive', 'neutr', 'neutr', 'negative', 'neutr', 'neutr', 'neutr', 'neutr', 'positive', 'positive', 'positive', 'neutr', 'positive', 'negative', 'negative', 'negative', 'neutr', 'negative', 'neutr', 'negative', 'neutr', 'positive', 'negative', 'negative', 'neutr', 'negative', 'neutr', 'negative', 'positive', 'positive', 'negative', 'positive', 'neutr', 'positive', 'positive', 'neutr', 'neutr', 'neutr', 'positive', 'negative', 'neutr', 'positive', 'negative', 'negative', 'negative', 'negative', 'negative', 'neutr', 'neutr', 'positive', 'negative', 'negative', 'positive', 'negative', 'neutr', 'positive', 'neutr', 'positive', 'negative', 'negative', 'neutr', 'positive', 'positive', 'negative', 'negative', 'neutr', 'negative', 'negative', 'positive', 'negative', 'positive', 'negative', 'positive', 'positive', 'neutr', 'negative', 'negative', 'positive', 'negative', 'neutr', 'neutr', 'positive', 'neutr', 'negative', 'positive', 'negative', 'positive', 'positive', 'neutr', 'negative', 'neutr', 'neutr', 'neutr', 'positive', 'negative', 'neutr', 'negative', 'negative', 'neutr', 'positive', 'positive', 'positive', 'positive', 'negative', 'positive', 'negative', 'neutr', 'neutr', 'neutr', 'negative', 'neutr', 'positive', 'neutr', 'positive', 'neutr', 'neutr', 'neutr', 'negative', 'positive', 'positive', 'positive', 'neutr', 'positive', 'positive', 'positive', 'neutr', 'positive', 'negative', 'neutr', 'positive', 'positive', 'positive', 'neutr', 'positive', 'positive', 'neutr', 'positive', 'positive', 'neutr', 'positive', 'neutr', 'positive', 'neutr', 'positive', 'positive', 'neutr', 'neutr', 'positive', 'positive', 'neutr', 'positive', 'neutr', 'positive', 'positive', 'neutr', 'positive', 'negative', 'neutr', 'negative', 'neutr', 'negative', 'neutr', 'neutr', 'neutr', 'negative', 'positive', 'negative', 'negative', 'neutr', 'negative', 'negative', 'neutr', 'negative', 'positive', 'positive', 'positive', 'negative', 'neutr', 'negative', 'negative', 'positive', 'neutr', 'positive', 'positive', 'positive', 'negative', 'neutr', 'negative', 'positive', 'positive', 'neutr', 'neutr', 'neutr', 'negative', 'positive', 'positive', 'negative', 'negative', 'positive', 'negative', 'negative', 'neutr', 'neutr', 'positive', 'positive', 'positive', 'positive', 'negative', 'negative', 'neutr', 'positive', 'negative', 'positive', 'negative', 'neutr', 'negative', 'positive', 'positive', 'neutr', 'positive', 'positive', 'positive', 'positive', 'negative', 'positive', 'negative', 'positive', 'positive', 'positive', 'negative', 'positive', 'negative', 'positive', 'positive', 'negative', 'neutr', 'negative', 'positive', 'positive', 'neutr', 'negative', 'neutr', 'negative', 'positive', 'neutr', 'positive', 'neutr', 'neutr', 'neutr', 'negative', 'positive', 'positive', 'neutr', 'positive', 'neutr', 'negative', 'negative', 'negative', 'positive', 'positive', 'neutr', 'neutr', 'neutr', 'neutr', 'positive', 'positive', 'negative', 'positive', 'neutr', 'neutr', 'neutr', 'positive', 'neutr', 'negative', 'negative', 'positive', 'positive', 'positive', 'positive', 'neutr', 'positive', 'positive', 'positive', 'negative', 'negative', 'negative', 'positive', 'neutr', 'negative', 'positive', 'positive', 'positive', 'positive', 'negative', 'neutr', 'neutr', 'neutr', 'negative', 'positive', 'positive', 'neutr', 'positive', 'neutr', 'positive', 'positive', 'neutr', 'positive', 'positive', 'positive', 'negative', 'positive', 'positive', 'positive', 'positive', 'negative', 'neutr', 'negative', 'positive', 'neutr', 'positive', 'neutr', 'positive', 'positive', 'positive', 'neutr', 'positive', 'neutr', 'positive', 'negative', 'neutr', 'positive', 'positive', 'neutr', 'neutr', 'negative', 'neutr', 'positive', 'positive', 'positive', 'positive', 'negative', 'neutr', 'neutr', 'negative', 'neutr', 'positive', 'neutr', 'negative', 'positive', 'positive', 'negative', 'negative', 'positive', 'neutr', 'negative', 'positive', 'neutr', 'positive', 'positive', 'neutr', 'neutr', 'negative', 'positive', 'neutr', 'negative', 'neutr', 'positive', 'neutr', 'positive', 'neutr', 'neutr', 'neutr', 'neutr', 'positive', 'positive', 'positive', 'positive', 'negative', 'positive', 'negative', 'positive', 'neutr', 'positive', 'positive', 'neutr', 'negative', 'positive', 'positive', 'neutr', 'positive', 'negative', 'neutr', 'positive', 'positive', 'negative', 'negative', 'positive', 'positive', 'positive', 'neutr', 'neutr', 'neutr', 'neutr', 'neutr', 'neutr', 'positive', 'positive', 'negative', 'neutr', 'negative', 'positive', 'positive', 'negative', 'positive', 'negative', 'neutr', 'positive', 'positive', 'negative', 'negative', 'positive', 'neutr', 'positive', 'negative', 'negative', 'positive', 'neutr', 'neutr', 'neutr', 'positive', 'positive', 'positive', 'neutr', 'positive', 'positive', 'positive', 'neutr', 'neutr', 'positive', 'neutr', 'positive', 'positive', 'negative', 'positive', 'neutr', 'neutr', 'positive', 'neutr', 'neutr', 'neutr', 'positive', 'positive', 'negative', 'neutr', 'neutr', 'negative', 'positive', 'neutr', 'neutr', 'positive', 'negative', 'neutr', 'negative', 'negative', 'positive', 'positive', 'negative', 'positive', 'positive', 'neutr', 'positive', 'neutr', 'negative', 'neutr', 'positive', 'positive', 'neutr', 'neutr', 'neutr', 'negative', 'neutr', 'positive', 'negative', 'positive', 'positive', 'positive', 'negative', 'positive', 'positive', 'positive', 'positive', 'negative', 'neutr', 'neutr', 'neutr', 'neutr', 'neutr', 'negative', 'positive', 'positive', 'negative', 'positive', 'positive', 'positive', 'neutr', 'negative', 'neutr', 'negative', 'neutr', 'positive', 'neutr', 'negative', 'neutr', 'negative', 'neutr', 'neutr', 'negative', 'positive', 'negative', 'positive', 'neutr', 'positive', 'positive', 'negative', 'neutr', 'neutr', 'positive', 'neutr', 'positive', 'negative', 'neutr', 'negative', 'positive', 'negative', 'negative', 'neutr', 'negative', 'positive', 'neutr', 'negative', 'negative', 'positive', 'neutr', 'negative', 'positive', 'neutr', 'positive', 'neutr', 'negative', 'positive', 'negative', 'positive', 'positive', 'neutr', 'positive', 'positive', 'negative', 'positive', 'negative', 'positive', 'negative', 'neutr', 'neutr', 'positive', 'positive', 'neutr', 'positive', 'negative', 'negative', 'positive', 'negative', 'positive', 'positive', 'negative', 'neutr', 'negative', 'negative', 'positive', 'positive', 'negative', 'positive', 'positive', 'positive', 'neutr', 'neutr', 'positive', 'positive', 'positive', 'neutr', 'negative', 'positive', 'neutr', 'positive', 'negative', 'neutr', 'positive', 'positive', 'positive', 'negative', 'positive', 'neutr', 'positive', 'negative', 'negative', 'neutr', 'negative', 'neutr', 'neutr', 'neutr', 'positive', 'neutr', 'positive', 'positive', 'neutr', 'negative', 'positive', 'positive', 'neutr', 'negative', 'positive', 'positive', 'positive', 'positive', 'neutr', 'negative', 'negative', 'positive', 'positive', 'negative', 'positive', 'positive', 'positive', 'negative', 'positive', 'negative', 'positive', 'positive', 'positive', 'neutr', 'negative', 'neutr', 'neutr', 'positive', 'neutr', 'neutr', 'neutr', 'neutr', 'negative', 'positive', 'negative', 'positive', 'negative', 'positive', 'negative', 'positive', 'neutr', 'neutr', 'negative', 'negative', 'neutr', 'negative', 'positive', 'negative', 'positive', 'negative', 'positive', 'neutr', 'positive', 'positive', 'positive', 'neutr', 'positive', 'neutr', 'negative', 'neutr', 'neutr', 'negative', 'negative', 'neutr', 'positive', 'positive', 'negative', 'positive', 'positive', 'positive', 'positive', 'neutr', 'neutr', 'positive', 'neutr', 'positive', 'neutr', 'positive', 'negative', 'positive', 'neutr', 'neutr', 'positive', 'negative', 'neutr', 'positive', 'positive', 'neutr', 'neutr', 'positive', 'negative', 'positive', 'neutr', 'neutr', 'negative', 'positive', 'positive', 'neutr', 'negative', 'neutr', 'neutr', 'positive', 'neutr', 'neutr', 'neutr', 'neutr', 'positive', 'positive', 'neutr', 'neutr', 'positive', 'negative', 'negative', 'positive', 'negative', 'negative', 'negative', 'neutr', 'neutr', 'positive', 'negative', 'negative', 'positive', 'neutr', 'negative', 'negative', 'positive', 'positive', 'neutr', 'negative', 'negative', 'positive', 'neutr', 'neutr', 'positive', 'neutr', 'neutr', 'negative', 'positive', 'neutr', 'neutr', 'neutr', 'neutr', 'neutr', 'positive', 'negative', 'neutr', 'neutr', 'positive', 'negative', 'positive', 'neutr', 'positive', 'neutr', 'positive', 'positive', 'neutr', 'negative', 'negative', 'negative', 'neutr', 'negative', 'positive', 'negative', 'positive', 'neutr', 'neutr', 'positive', 'positive', 'neutr', 'positive', 'positive', 'neutr', 'neutr', 'neutr', 'positive', 'positive', 'positive', 'negative', 'neutr', 'neutr', 'positive', 'positive', 'neutr', 'positive', 'positive', 'positive', 'positive', 'negative', 'positive', 'positive', 'positive', 'positive', 'positive', 'positive', 'neutr', 'neutr', 'neutr', 'positive', 'positive', 'negative', 'positive', 'neutr', 'positive', 'positive', 'positive', 'neutr', 'neutr', 'neutr', 'positive', 'positive', 'neutr', 'positive', 'neutr', 'negative', 'neutr', 'positive', 'positive', 'neutr', 'neutr', 'positive', 'neutr', 'neutr', 'neutr', 'positive', 'positive', 'positive', 'positive', 'positive', 'neutr', 'positive', 'positive', 'neutr', 'neutr', 'positive', 'neutr', 'positive', 'negative', 'neutr', 'positive', 'positive', 'positive', 'neutr', 'neutr', 'neutr', 'positive', 'negative', 'positive', 'positive', 'negative', 'negative', 'negative', 'neutr', 'neutr', 'neutr', 'neutr', 'positive', 'neutr', 'negative', 'neutr', 'positive', 'negative', 'positive', 'negative', 'negative', 'neutr', 'neutr', 'positive', 'positive', 'negative', 'negative', 'neutr', 'negative', 'negative', 'positive', 'positive', 'positive', 'neutr', 'neutr', 'neutr', 'negative', 'neutr', 'neutr', 'positive', 'positive', 'neutr', 'positive', 'positive', 'neutr', 'positive', 'neutr', 'neutr', 'positive', 'positive', 'positive', 'positive', 'positive', 'neutr', 'positive', 'positive', 'neutr', 'neutr', 'neutr', 'positive', 'negative', 'positive', 'negative', 'neutr', 'positive', 'neutr', 'positive', 'negative', 'positive', 'neutr', 'positive', 'neutr', 'negative', 'negative', 'negative', 'positive', 'negative', 'negative', 'neutr', 'negative', 'positive', 'positive', 'neutr', 'neutr', 'positive', 'positive', 'negative', 'negative', 'negative', 'negative', 'positive', 'positive', 'neutr', 'positive', 'positive', 'negative', 'positive', 'positive', 'positive', 'neutr', 'neutr', 'neutr', 'positive', 'neutr', 'positive', 'neutr', 'positive', 'neutr', 'positive', 'neutr', 'neutr', 'neutr', 'neutr', 'negative', 'negative', 'neutr', 'neutr', 'neutr', 'neutr', 'positive', 'negative', 'negative', 'neutr', 'neutr', 'positive', 'positive', 'negative', 'positive', 'positive', 'positive', 'positive', 'positive', 'positive', 'neutr', 'neutr', 'positive', 'neutr', 'positive', 'neutr', 'negative', 'neutr', 'neutr', 'positive', 'neutr', 'positive', 'neutr', 'negative', 'positive', 'positive', 'positive', 'positive', 'neutr', 'neutr', 'neutr', 'positive', 'neutr', 'negative', 'neutr', 'negative', 'positive', 'neutr', 'negative', 'negative', 'positive', 'positive', 'positive', 'positive', 'neutr', 'negative', 'positive', 'negative', 'negative', 'positive', 'negative', 'positive', 'neutr', 'positive', 'positive', 'positive', 'negative', 'neutr', 'neutr', 'positive', 'positive', 'positive', 'negative', 'neutr', 'positive', 'positive', 'positive', 'positive', 'neutr', 'positive', 'neutr', 'negative', 'neutr', 'neutr', 'neutr', 'neutr', 'positive', 'positive', 'neutr', 'positive', 'positive', 'positive', 'negative', 'positive', 'neutr', 'neutr', 'positive', 'positive', 'positive', 'neutr', 'negative', 'neutr', 'negative', 'positive', 'positive', 'neutr', 'positive', 'neutr', 'neutr', 'neutr', 'positive', 'positive', 'positive', 'positive', 'neutr', 'neutr', 'negative', 'positive', 'positive', 'neutr', 'positive', 'positive', 'negative', 'positive', 'positive', 'negative', 'positive', 'positive', 'neutr', 'positive', 'neutr', 'positive', 'neutr', 'negative', 'neutr', 'positive', 'neutr', 'negative', 'neutr', 'positive', 'positive', 'neutr', 'negative', 'positive', 'positive', 'positive', 'positive', 'negative', 'positive', 'neutr', 'neutr', 'positive', 'neutr', 'positive', 'positive', 'positive', 'neutr', 'neutr', 'neutr', 'positive', 'neutr', 'neutr', 'neutr', 'positive', 'positive', 'neutr', 'negative', 'negative', 'positive', 'neutr', 'negative', 'positive', 'neutr', 'neutr', 'negative', 'neutr', 'positive', 'negative', 'negative', 'neutr', 'positive', 'negative', 'neutr', 'positive', 'positive', 'neutr', 'neutr', 'positive', 'neutr', 'positive', 'neutr', 'neutr', 'positive', 'positive', 'positive', 'neutr', 'negative', 'positive', 'neutr', 'positive', 'negative', 'neutr', 'positive', 'positive', 'neutr', 'neutr', 'positive', 'positive', 'neutr', 'neutr', 'positive', 'positive', 'positive', 'neutr', 'positive', 'positive', 'neutr', 'positive', 'neutr', 'neutr', 'positive', 'positive', 'positive', 'neutr', 'positive', 'positive', 'positive', 'negative', 'negative', 'neutr', 'positive', 'neutr', 'positive', 'positive', 'negative', 'neutr', 'neutr', 'neutr', 'positive', 'positive', 'positive', 'positive', 'positive', 'negative', 'neutr', 'neutr', 'positive', 'neutr', 'neutr', 'positive', 'positive', 'positive', 'positive', 'neutr', 'neutr', 'negative', 'positive', 'neutr', 'positive', 'negative', 'neutr', 'neutr', 'positive', 'neutr', 'neutr', 'neutr', 'positive', 'neutr', 'negative', 'positive', 'negative', 'positive', 'negative', 'neutr', 'positive', 'negative', 'neutr', 'neutr', 'neutr', 'negative', 'positive', 'positive', 'positive', 'positive', 'positive', 'neutr', 'positive', 'neutr', 'negative', 'positive', 'positive', 'positive', 'negative', 'positive', 'positive', 'neutr', 'positive', 'negative', 'negative', 'neutr', 'positive', 'positive', 'positive', 'negative', 'positive', 'neutr', 'negative', 'positive', 'positive', 'neutr', 'positive', 'positive', 'positive', 'neutr', 'neutr', 'positive', 'negative', 'positive', 'positive', 'neutr', 'negative', 'positive', 'neutr', 'positive', 'neutr', 'negative', 'negative', 'negative', 'positive', 'neutr', 'positive', 'neutr', 'positive', 'positive', 'positive', 'neutr', 'positive', 'positive', 'positive', 'neutr', 'positive', 'neutr', 'neutr', 'positive', 'neutr', 'positive', 'negative', 'positive', 'neutr', 'positive', 'negative', 'neutr', 'neutr', 'negative', 'positive', 'positive', 'neutr', 'neutr', 'positive', 'negative', 'negative', 'negative', 'neutr', 'positive', 'negative', 'positive', 'positive', 'positive', 'negative', 'neutr', 'negative', 'positive', 'negative', 'negative', 'neutr', 'positive', 'positive', 'positive', 'negative', 'positive', 'positive', 'negative', 'neutr', 'neutr', 'positive', 'neutr', 'positive', 'neutr', 'negative', 'neutr', 'negative', 'positive', 'neutr', 'positive', 'negative', 'neutr', 'neutr', 'neutr', 'positive', 'negative', 'neutr', 'negative', 'neutr', 'positive', 'negative', 'positive', 'positive', 'positive', 'neutr', 'neutr', 'neutr', 'positive', 'positive', 'positive', 'neutr', 'positive', 'neutr', 'positive', 'positive', 'negative', 'positive', 'positive', 'neutr', 'neutr', 'positive', 'positive', 'positive', 'neutr', 'negative', 'positive', 'neutr', 'negative', 'positive', 'negative', 'neutr', 'positive', 'neutr', 'negative', 'negative', 'negative', 'negative', 'positive', 'positive', 'neutr', 'positive', 'neutr', 'positive', 'neutr', 'negative', 'positive', 'positive', 'negative', 'neutr', 'positive', 'negative', 'positive', 'neutr', 'positive', 'positive', 'neutr', 'neutr', 'positive', 'neutr', 'positive', 'positive', 'neutr', 'positive', 'positive', 'positive', 'positive', 'neutr', 'positive', 'positive', 'negative', 'neutr', 'positive', 'positive', 'negative', 'positive', 'negative', 'negative', 'positive', 'neutr', 'positive', 'negative', 'neutr', 'positive', 'neutr', 'positive', 'negative', 'negative', 'positive', 'positive', 'positive', 'neutr', 'positive', 'positive', 'negative', 'neutr', 'neutr', 'neutr', 'positive', 'positive', 'positive', 'positive', 'positive', 'positive', 'positive', 'neutr', 'neutr', 'neutr', 'neutr', 'positive', 'positive', 'positive', 'neutr', 'positive', 'negative', 'positive', 'neutr', 'neutr', 'positive', 'neutr', 'positive', 'positive', 'neutr', 'neutr', 'neutr', 'neutr', 'negative', 'positive', 'positive', 'neutr', 'positive', 'positive', 'neutr', 'positive', 'neutr', 'positive', 'negative', 'positive', 'positive', 'neutr', 'neutr', 'neutr', 'positive', 'positive', 'neutr', 'positive', 'positive', 'positive', 'positive', 'neutr', 'negative', 'neutr', 'positive', 'neutr', 'negative', 'positive', 'neutr', 'neutr', 'positive', 'positive', 'positive', 'positive', 'neutr', 'negative', 'positive', 'neutr', 'positive', 'neutr', 'positive', 'neutr', 'neutr', 'neutr', 'positive', 'neutr', 'positive', 'neutr', 'positive', 'positive', 'positive', 'positive', 'neutr', 'positive', 'neutr', 'neutr', 'neutr', 'neutr', 'negative', 'neutr', 'neutr', 'positive', 'positive', 'positive', 'negative', 'positive', 'positive', 'positive', 'positive', 'negative', 'positive', 'positive', 'positive', 'neutr', 'positive', 'neutr', 'neutr', 'neutr', 'neutr', 'neutr', 'negative', 'neutr', 'positive', 'neutr', 'neutr', 'positive', 'negative', 'negative', 'negative', 'positive', 'positive', 'positive', 'positive', 'neutr', 'neutr', 'neutr', 'neutr', 'neutr', 'positive', 'positive', 'neutr', 'positive', 'neutr', 'negative', 'negative', 'negative', 'negative', 'positive', 'positive', 'positive', 'positive', 'negative', 'neutr', 'positive', 'positive', 'negative', 'neutr', 'negative', 'neutr', 'positive', 'neutr', 'negative', 'positive', 'neutr', 'negative', 'positive', 'positive', 'neutr', 'positive', 'negative', 'negative', 'neutr', 'neutr', 'neutr', 'negative', 'positive', 'positive', 'negative', 'positive', 'positive', 'positive', 'negative', 'neutr', 'negative', 'positive', 'neutr', 'positive', 'positive', 'positive', 'negative', 'neutr', 'positive', 'positive', 'negative', 'positive', 'negative', 'positive', 'negative', 'positive', 'positive', 'positive', 'negative', 'neutr', 'positive', 'neutr', 'neutr', 'negative', 'neutr', 'positive', 'neutr', 'positive', 'positive', 'negative', 'negative', 'positive', 'neutr', 'neutr', 'positive', 'neutr', 'neutr', 'neutr', 'negative', 'positive', 'neutr', 'negative', 'neutr', 'positive', 'neutr', 'negative', 'neutr', 'neutr', 'positive', 'positive', 'negative', 'positive', 'positive', 'positive', 'negative', 'positive', 'positive', 'positive', 'negative', 'positive', 'neutr', 'positive', 'negative', 'positive', 'positive', 'neutr', 'neutr', 'neutr', 'positive', 'positive', 'positive', 'positive', 'neutr', 'positive', 'positive', 'neutr', 'negative', 'positive', 'neutr', 'positive', 'positive', 'neutr', 'neutr', 'neutr', 'neutr', 'positive', 'neutr', 'positive', 'negative', 'negative', 'neutr', 'neutr', 'positive', 'neutr', 'positive', 'neutr', 'positive', 'negative', 'positive', 'neutr', 'positive', 'positive', 'neutr', 'negative', 'positive', 'positive', 'negative', 'neutr', 'negative', 'neutr', 'negative', 'negative', 'positive', 'positive', 'positive', 'positive', 'positive', 'positive', 'negative', 'positive', 'neutr', 'positive', 'neutr', 'neutr', 'positive', 'neutr', 'neutr', 'neutr', 'positive', 'neutr', 'positive', 'positive', 'neutr', 'positive', 'negative', 'negative', 'neutr', 'neutr', 'neutr', 'positive', 'positive', 'neutr', 'positive', 'positive', 'positive', 'neutr', 'positive', 'positive', 'negative', 'negative', 'positive', 'neutr', 'positive', 'neutr', 'positive', 'negative', 'neutr', 'neutr', 'neutr', 'negative', 'negative', 'positive', 'positive', 'positive', 'positive', 'neutr', 'positive', 'neutr', 'neutr', 'neutr', 'positive', 'negative', 'positive', 'negative', 'neutr', 'negative', 'positive', 'positive', 'neutr', 'negative', 'neutr', 'negative', 'positive', 'neutr', 'positive', 'negative', 'neutr', 'positive', 'negative', 'neutr', 'positive', 'neutr', 'positive', 'positive', 'negative', 'negative', 'neutr', 'neutr', 'positive', 'negative', 'positive', 'negative', 'positive', 'neutr', 'positive', 'neutr', 'positive', 'negative', 'neutr', 'neutr', 'negative', 'positive', 'neutr', 'neutr', 'positive', 'positive', 'positive', 'positive', 'negative', 'neutr', 'negative', 'neutr', 'neutr', 'positive', 'positive', 'positive', 'neutr', 'neutr', 'neutr', 'neutr', 'neutr', 'neutr', 'neutr', 'negative', 'positive', 'positive', 'neutr', 'neutr', 'positive', 'positive', 'positive', 'neutr', 'neutr', 'negative', 'positive', 'neutr', 'positive', 'positive', 'neutr', 'neutr', 'positive', 'neutr', 'neutr', 'neutr', 'positive', 'negative', 'positive', 'positive', 'neutr', 'positive', 'neutr', 'positive', 'positive', 'neutr', 'neutr', 'neutr', 'positive', 'neutr', 'negative', 'neutr', 'positive', 'positive', 'neutr', 'positive', 'positive', 'positive', 'negative', 'positive', 'negative', 'neutr', 'neutr', 'positive', 'neutr', 'positive', 'positive', 'neutr', 'neutr', 'positive', 'positive', 'positive', 'neutr', 'neutr', 'negative', 'negative', 'positive', 'positive', 'positive', 'neutr', 'negative', 'positive', 'positive', 'negative', 'positive', 'positive', 'positive', 'neutr', 'positive', 'neutr', 'negative', 'positive', 'positive', 'positive', 'positive', 'negative', 'neutr', 'positive', 'neutr', 'positive', 'positive', 'positive', 'neutr', 'positive', 'positive', 'neutr', 'neutr', 'neutr', 'positive', 'negative', 'neutr', 'positive', 'positive', 'negative', 'neutr', 'neutr', 'positive', 'positive', 'positive', 'neutr', 'negative', 'positive', 'neutr', 'positive', 'positive', 'positive', 'positive', 'neutr', 'neutr', 'positive', 'negative', 'positive', 'positive', 'neutr', 'neutr', 'positive', 'neutr', 'negative', 'positive', 'negative', 'positive', 'negative', 'negative', 'positive', 'positive', 'positive', 'positive', 'negative', 'positive', 'positive', 'negative', 'positive', 'positive', 'positive', 'neutr', 'negative', 'neutr', 'positive', 'positive', 'neutr', 'neutr', 'positive', 'negative', 'negative', 'positive', 'neutr', 'positive', 'positive', 'neutr', 'neutr', 'neutr', 'neutr', 'positive', 'neutr', 'positive', 'neutr', 'neutr', 'positive', 'neutr', 'negative', 'positive', 'positive', 'negative', 'neutr', 'positive', 'neutr', 'positive', 'neutr', 'positive', 'positive', 'positive', 'neutr', 'negative', 'neutr', 'neutr', 'positive', 'positive', 'positive', 'neutr', 'neutr', 'negative', 'neutr', 'positive', 'positive', 'positive', 'neutr', 'neutr', 'neutr', 'neutr', 'positive', 'neutr', 'positive', 'positive', 'positive', 'neutr', 'neutr', 'neutr', 'positive', 'neutr', 'positive', 'positive', 'neutr', 'positive', 'neutr', 'neutr', 'positive', 'positive', 'positive', 'positive', 'neutr', 'negative', 'negative', 'neutr', 'neutr', 'neutr', 'negative', 'positive', 'neutr', 'neutr', 'negative', 'negative', 'negative', 'neutr', 'neutr', 'positive', 'positive', 'negative', 'negative', 'positive', 'positive', 'positive', 'neutr', 'neutr', 'neutr', 'positive', 'negative', 'neutr', 'negative', 'neutr', 'positive', 'negative', 'negative', 'negative', 'positive', 'positive', 'neutr', 'positive', 'positive', 'neutr', 'positive', 'negative', 'positive', 'neutr', 'neutr', 'positive', 'negative', 'positive', 'positive', 'positive', 'negative', 'neutr', 'negative', 'negative', 'positive', 'neutr', 'neutr', 'neutr', 'negative', 'negative', 'negative', 'positive', 'negative', 'positive', 'neutr', 'neutr', 'positive', 'positive', 'neutr', 'positive', 'neutr', 'neutr', 'negative', 'negative', 'positive', 'neutr', 'negative', 'neutr', 'neutr', 'positive', 'neutr', 'negative', 'positive', 'positive', 'positive', 'positive', 'positive', 'neutr', 'positive', 'positive', 'positive', 'positive', 'negative', 'neutr', 'positive', 'neutr', 'neutr', 'positive', 'negative', 'neutr', 'neutr', 'positive', 'positive', 'positive', 'positive', 'neutr', 'positive', 'neutr', 'positive', 'negative', 'positive', 'neutr', 'neutr', 'neutr', 'positive', 'positive', 'positive', 'negative', 'positive', 'neutr', 'neutr', 'neutr', 'neutr', 'positive', 'positive', 'positive', 'neutr', 'positive', 'negative', 'positive', 'neutr', 'positive', 'neutr', 'positive', 'positive', 'negative', 'positive', 'neutr', 'negative', 'positive', 'neutr', 'positive', 'neutr', 'neutr', 'positive', 'positive', 'positive', 'positive', 'positive', 'negative', 'neutr', 'positive', 'negative', 'negative', 'positive', 'positive', 'neutr', 'neutr', 'positive', 'neutr', 'neutr', 'positive', 'positive', 'negative', 'positive', 'neutr', 'neutr', 'positive', 'negative', 'positive', 'positive', 'positive', 'positive', 'positive', 'neutr', 'positive', 'neutr', 'negative', 'positive', 'neutr', 'positive', 'positive', 'positive', 'positive', 'neutr', 'neutr', 'neutr', 'positive', 'positive', 'positive', 'positive', 'positive', 'positive', 'positive', 'negative', 'neutr', 'positive', 'negative', 'neutr', 'positive', 'positive', 'positive', 'positive', 'positive', 'positive', 'positive', 'negative', 'positive', 'neutr', 'neutr', 'positive', 'positive', 'positive', 'positive', 'positive', 'neutr', 'positive', 'neutr', 'positive', 'negative', 'positive', 'positive', 'positive', 'positive', 'positive', 'positive', 'neutr', 'negative', 'positive', 'neutr', 'negative', 'neutr', 'negative', 'negative', 'neutr', 'positive', 'negative', 'positive', 'neutr', 'negative', 'neutr', 'negative', 'positive', 'neutr', 'negative', 'positive', 'neutr', 'positive', 'neutr', 'neutr', 'positive', 'neutr', 'neutr', 'positive', 'neutr', 'positive', 'neutr', 'positive', 'negative', 'positive', 'positive', 'positive', 'neutr', 'negative', 'neutr', 'negative', 'positive', 'negative', 'positive', 'neutr', 'positive', 'neutr', 'negative', 'positive', 'neutr', 'positive', 'positive', 'positive', 'neutr', 'positive', 'negative', 'positive', 'neutr', 'neutr', 'neutr', 'neutr', 'neutr', 'positive', 'neutr', 'neutr', 'neutr', 'neutr', 'positive', 'neutr', 'positive', 'negative', 'neutr', 'positive', 'positive', 'negative', 'positive', 'neutr', 'neutr', 'negative', 'neutr', 'positive', 'neutr', 'neutr', 'negative', 'positive', 'positive', 'neutr', 'positive', 'neutr', 'positive', 'negative', 'positive', 'positive', 'positive', 'neutr', 'positive', 'positive', 'positive', 'positive', 'positive', 'neutr', 'positive', 'negative', 'neutr', 'positive', 'positive', 'negative', 'positive', 'negative', 'neutr', 'neutr', 'neutr', 'positive', 'neutr', 'neutr', 'positive', 'negative', 'positive', 'neutr', 'positive', 'neutr', 'positive', 'neutr', 'neutr', 'neutr', 'negative', 'negative', 'negative', 'positive', 'neutr', 'neutr', 'neutr', 'positive', 'neutr', 'positive', 'neutr', 'neutr', 'negative', 'positive', 'neutr', 'negative', 'positive', 'positive', 'neutr', 'positive', 'positive', 'positive', 'neutr', 'neutr', 'positive', 'neutr', 'negative', 'neutr', 'positive', 'negative', 'positive', 'neutr', 'negative', 'neutr', 'neutr', 'neutr', 'positive', 'positive', 'positive', 'positive', 'neutr', 'positive', 'negative', 'positive', 'negative', 'negative', 'positive', 'positive', 'positive', 'neutr', 'negative', 'neutr', 'positive', 'positive', 'neutr', 'positive', 'neutr', 'negative', 'neutr', 'negative', 'positive', 'positive', 'neutr', 'neutr', 'positive', 'positive', 'positive', 'negative', 'positive', 'positive', 'positive', 'negative', 'neutr', 'positive', 'neutr', 'neutr', 'neutr', 'neutr', 'positive', 'positive', 'neutr', 'positive', 'positive', 'negative', 'neutr', 'positive', 'positive', 'positive', 'neutr', 'negative', 'positive', 'negative', 'negative', 'negative', 'neutr', 'negative', 'positive', 'neutr', 'neutr', 'positive', 'neutr', 'positive', 'positive', 'neutr', 'neutr', 'negative', 'positive', 'positive', 'neutr', 'negative', 'positive', 'negative', 'negative', 'neutr', 'positive', 'positive', 'neutr', 'neutr', 'positive', 'negative', 'positive', 'positive', 'negative', 'neutr', 'positive', 'neutr', 'positive', 'neutr', 'neutr', 'positive', 'neutr', 'positive', 'negative', 'positive', 'negative', 'neutr', 'positive', 'negative', 'neutr', 'negative', 'neutr', 'neutr', 'negative', 'positive', 'neutr', 'positive', 'neutr', 'positive', 'negative', 'negative', 'neutr', 'positive', 'positive', 'neutr', 'neutr', 'positive', 'positive', 'negative', 'positive', 'positive', 'neutr', 'positive', 'neutr', 'negative', 'neutr', 'positive', 'positive', 'positive', 'negative', 'positive', 'neutr', 'neutr', 'neutr', 'positive', 'negative', 'positive', 'positive', 'neutr', 'positive', 'neutr', 'neutr', 'negative', 'positive', 'positive', 'positive', 'negative', 'positive', 'negative', 'neutr', 'neutr', 'negative', 'negative', 'neutr', 'positive', 'negative', 'negative', 'neutr', 'neutr', 'negative', 'negative', 'negative', 'neutr', 'positive', 'neutr', 'neutr', 'positive', 'positive', 'neutr', 'negative', 'neutr', 'neutr', 'positive', 'neutr', 'positive', 'positive', 'negative', 'neutr', 'positive', 'neutr', 'positive', 'neutr', 'neutr', 'negative', 'negative', 'negative', 'negative', 'neutr', 'neutr', 'negative', 'neutr', 'positive', 'positive', 'neutr', 'neutr', 'neutr', 'negative', 'negative', 'neutr', 'neutr', 'positive', 'neutr', 'positive', 'positive', 'negative', 'positive', 'neutr', 'positive', 'neutr', 'negative', 'positive', 'positive', 'positive', 'neutr', 'neutr', 'neutr', 'neutr', 'neutr', 'positive', 'neutr', 'positive', 'negative', 'negative', 'neutr', 'neutr', 'positive', 'positive', 'positive', 'positive', 'neutr', 'positive', 'positive', 'positive', 'neutr', 'positive', 'neutr', 'neutr', 'negative', 'positive', 'positive', 'positive', 'positive', 'positive', 'negative', 'positive', 'neutr', 'negative', 'positive', 'positive', 'positive', 'negative', 'neutr', 'positive', 'neutr', 'positive', 'positive', 'positive', 'positive', 'positive', 'neutr', 'positive', 'positive', 'positive', 'negative', 'neutr', 'positive', 'positive', 'negative', 'neutr', 'positive', 'negative', 'neutr', 'positive', 'neutr', 'neutr', 'negative', 'neutr', 'positive', 'neutr', 'neutr', 'negative', 'positive', 'positive', 'neutr', 'negative', 'negative', 'negative', 'positive', 'neutr', 'neutr', 'positive', 'negative', 'neutr', 'neutr', 'negative', 'neutr', 'neutr', 'negative', 'neutr', 'negative', 'neutr', 'neutr', 'neutr', 'neutr', 'neutr', 'neutr', 'positive', 'negative', 'positive', 'positive', 'positive', 'negative', 'negative', 'negative', 'neutr', 'positive', 'neutr', 'positive', 'neutr', 'positive', 'neutr', 'neutr', 'positive', 'positive', 'positive', 'negative', 'positive', 'neutr', 'positive', 'neutr', 'neutr', 'positive', 'negative', 'neutr', 'neutr', 'neutr', 'neutr', 'neutr', 'neutr', 'negative', 'neutr', 'positive', 'neutr', 'neutr', 'positive', 'positive', 'neutr', 'neutr', 'neutr', 'positive', 'positive', 'neutr', 'negative', 'negative', 'positive', 'positive', 'positive', 'positive', 'neutr', 'neutr', 'positive', 'positive', 'negative', 'neutr', 'positive', 'neutr', 'negative', 'positive', 'neutr', 'positive', 'positive', 'neutr', 'negative', 'positive', 'positive', 'neutr', 'negative', 'neutr', 'positive', 'positive', 'negative', 'neutr', 'neutr', 'neutr', 'neutr', 'positive', 'positive', 'positive', 'neutr', 'positive', 'negative', 'positive', 'positive', 'positive', 'negative', 'negative', 'negative', 'neutr', 'neutr', 'negative', 'positive', 'positive', 'neutr', 'positive', 'positive', 'positive', 'negative', 'negative', 'neutr', 'neutr', 'positive', 'positive', 'neutr', 'neutr', 'positive', 'negative', 'neutr', 'neutr', 'neutr', 'positive', 'positive', 'negative', 'neutr', 'positive', 'positive', 'positive', 'positive', 'positive', 'neutr', 'negative', 'negative', 'positive', 'negative', 'neutr', 'negative', 'positive', 'positive', 'neutr', 'negative', 'neutr', 'negative', 'negative', 'positive', 'negative', 'positive', 'neutr', 'neutr', 'negative', 'neutr', 'neutr', 'positive', 'positive', 'positive', 'neutr', 'neutr', 'neutr', 'neutr', 'neutr', 'positive', 'negative', 'positive', 'positive', 'negative', 'negative', 'negative', 'neutr', 'positive', 'positive', 'neutr', 'positive', 'neutr', 'positive', 'positive', 'negative', 'positive', 'positive', 'positive', 'negative', 'neutr', 'negative', 'positive', 'positive', 'neutr', 'positive', 'neutr', 'negative', 'neutr', 'neutr', 'positive', 'positive', 'positive', 'neutr', 'neutr', 'negative', 'positive', 'positive', 'positive', 'neutr', 'neutr', 'neutr', 'negative', 'neutr', 'negative', 'neutr', 'positive', 'negative', 'negative', 'positive', 'neutr', 'positive', 'positive', 'positive', 'positive', 'positive', 'positive', 'neutr', 'positive', 'positive', 'positive', 'negative', 'neutr', 'neutr', 'positive', 'neutr', 'positive', 'neutr', 'positive', 'neutr', 'neutr', 'neutr', 'positive', 'positive', 'neutr', 'neutr', 'positive', 'negative', 'positive', 'positive', 'positive', 'positive', 'negative', 'neutr', 'neutr', 'positive', 'positive', 'positive', 'positive', 'positive', 'negative', 'neutr', 'positive', 'negative', 'neutr', 'positive', 'neutr', 'neutr', 'positive', 'neutr', 'neutr', 'positive', 'positive', 'positive', 'neutr', 'positive', 'positive', 'positive', 'neutr', 'neutr', 'positive', 'positive', 'neutr', 'neutr', 'neutr', 'positive', 'positive', 'positive', 'neutr', 'positive', 'positive', 'neutr', 'positive', 'negative', 'positive', 'positive', 'positive', 'positive', 'positive', 'negative', 'positive', 'negative', 'positive', 'positive', 'negative', 'positive', 'negative', 'positive', 'negative', 'positive', 'negative', 'positive', 'neutr', 'negative', 'positive', 'neutr', 'positive', 'neutr', 'positive', 'negative', 'positive', 'neutr', 'positive', 'neutr', 'neutr', 'positive', 'positive', 'positive', 'positive', 'positive', 'negative', 'positive', 'negative', 'neutr', 'neutr', 'neutr', 'positive', 'negative', 'positive', 'neutr', 'neutr', 'neutr', 'neutr', 'positive', 'neutr', 'positive', 'positive', 'positive', 'negative', 'neutr', 'neutr', 'neutr', 'negative', 'negative', 'neutr', 'positive', 'positive', 'negative', 'negative', 'neutr', 'positive', 'negative', 'positive', 'positive', 'neutr', 'neutr', 'neutr', 'positive', 'neutr', 'positive', 'neutr', 'positive', 'positive', 'positive', 'neutr', 'negative', 'positive', 'positive', 'neutr', 'neutr', 'neutr', 'neutr', 'negative', 'positive', 'negative', 'positive', 'negative', 'positive', 'positive', 'positive', 'positive', 'positive', 'neutr', 'neutr', 'positive', 'negative', 'neutr', 'positive', 'neutr', 'neutr', 'positive', 'neutr', 'positive', 'neutr', 'neutr', 'positive', 'positive', 'neutr', 'positive', 'neutr', 'neutr', 'positive', 'positive', 'neutr', 'neutr', 'positive', 'neutr', 'neutr', 'negative', 'neutr', 'neutr', 'neutr', 'positive', 'positive', 'positive', 'neutr', 'neutr', 'neutr', 'neutr', 'neutr', 'negative', 'positive', 'neutr', 'positive', 'neutr', 'neutr', 'negative', 'positive', 'negative', 'neutr', 'positive', 'positive', 'neutr', 'neutr', 'positive', 'neutr', 'positive', 'positive', 'positive', 'positive', 'neutr', 'neutr', 'neutr', 'neutr', 'neutr', 'neutr', 'positive', 'neutr', 'positive', 'neutr', 'negative', 'positive', 'negative', 'negative', 'negative', 'positive', 'negative', 'positive', 'neutr', 'negative', 'negative', 'positive', 'neutr', 'positive', 'positive', 'negative', 'negative', 'negative', 'neutr', 'positive', 'neutr', 'neutr', 'positive', 'positive', 'neutr', 'negative', 'positive', 'negative', 'neutr', 'positive', 'positive', 'neutr', 'positive', 'neutr', 'neutr', 'positive', 'positive', 'negative', 'neutr', 'positive', 'neutr', 'neutr', 'negative', 'neutr', 'neutr', 'neutr', 'positive', 'neutr', 'neutr', 'positive', 'negative', 'positive', 'positive', 'neutr', 'positive', 'negative', 'positive', 'neutr', 'neutr', 'neutr', 'positive', 'positive', 'positive', 'neutr', 'neutr', 'negative', 'neutr', 'neutr', 'neutr', 'positive', 'positive', 'neutr', 'negative', 'positive', 'negative', 'neutr', 'positive', 'positive', 'positive', 'neutr', 'neutr', 'positive', 'neutr', 'neutr', 'positive', 'neutr', 'positive', 'neutr', 'neutr', 'neutr', 'neutr', 'positive', 'neutr', 'neutr', 'positive', 'neutr', 'neutr', 'positive', 'positive', 'neutr', 'neutr', 'neutr', 'neutr', 'negative', 'neutr', 'positive', 'positive', 'positive', 'neutr', 'positive', 'neutr', 'neutr', 'neutr', 'neutr', 'neutr', 'neutr', 'neutr', 'neutr', 'positive', 'positive', 'neutr', 'neutr', 'positive', 'neutr', 'neutr', 'neutr', 'positive', 'neutr', 'neutr', 'neutr', 'neutr', 'positive', 'negative', 'positive', 'positive', 'neutr', 'negative', 'positive', 'neutr', 'positive', 'positive', 'positive', 'positive', 'positive', 'neutr', 'positive', 'neutr', 'positive', 'neutr', 'positive', 'positive', 'positive', 'neutr', 'neutr', 'neutr', 'positive', 'positive', 'negative', 'positive', 'positive', 'positive', 'positive', 'positive', 'neutr', 'neutr', 'neutr', 'positive', 'positive', 'neutr', 'negative', 'neutr']\n"
          ]
        }
      ],
      "source": [
        "print(sentiment_col)"
      ]
    },
    {
      "cell_type": "code",
      "execution_count": null,
      "metadata": {
        "colab": {
          "base_uri": "https://localhost:8080/"
        },
        "id": "HViB71_M92tj",
        "outputId": "6a1e0d5c-18ef-4b51-c756-0a5febe03100"
      },
      "outputs": [
        {
          "name": "stderr",
          "output_type": "stream",
          "text": [
            "<ipython-input-8-a01ff0e1fc65>:1: SettingWithCopyWarning: \n",
            "A value is trying to be set on a copy of a slice from a DataFrame\n",
            "\n",
            "See the caveats in the documentation: https://pandas.pydata.org/pandas-docs/stable/user_guide/indexing.html#returning-a-view-versus-a-copy\n",
            "  bitcoin_news.drop('sentiment', axis=1, inplace=True)\n"
          ]
        }
      ],
      "source": [
        "bitcoin_news.drop('sentiment', axis=1, inplace=True)"
      ]
    },
    {
      "cell_type": "code",
      "execution_count": null,
      "metadata": {
        "colab": {
          "base_uri": "https://localhost:8080/"
        },
        "id": "WwlSFwKG92tj",
        "outputId": "257faac0-41b0-4850-d8fe-885a564124df"
      },
      "outputs": [
        {
          "name": "stderr",
          "output_type": "stream",
          "text": [
            "<ipython-input-9-9ebadc370530>:1: SettingWithCopyWarning: \n",
            "A value is trying to be set on a copy of a slice from a DataFrame.\n",
            "Try using .loc[row_indexer,col_indexer] = value instead\n",
            "\n",
            "See the caveats in the documentation: https://pandas.pydata.org/pandas-docs/stable/user_guide/indexing.html#returning-a-view-versus-a-copy\n",
            "  bitcoin_news['sentiment'] = sentiment_col\n",
            "<ipython-input-9-9ebadc370530>:2: SettingWithCopyWarning: \n",
            "A value is trying to be set on a copy of a slice from a DataFrame.\n",
            "Try using .loc[row_indexer,col_indexer] = value instead\n",
            "\n",
            "See the caveats in the documentation: https://pandas.pydata.org/pandas-docs/stable/user_guide/indexing.html#returning-a-view-versus-a-copy\n",
            "  bitcoin_news['polarity'] = polarity_col\n",
            "<ipython-input-9-9ebadc370530>:3: SettingWithCopyWarning: \n",
            "A value is trying to be set on a copy of a slice from a DataFrame.\n",
            "Try using .loc[row_indexer,col_indexer] = value instead\n",
            "\n",
            "See the caveats in the documentation: https://pandas.pydata.org/pandas-docs/stable/user_guide/indexing.html#returning-a-view-versus-a-copy\n",
            "  bitcoin_news['subjectivity'] = subjectivity_col\n"
          ]
        }
      ],
      "source": [
        "bitcoin_news['sentiment'] = sentiment_col\n",
        "bitcoin_news['polarity'] = polarity_col\n",
        "bitcoin_news['subjectivity'] = subjectivity_col"
      ]
    },
    {
      "cell_type": "code",
      "execution_count": null,
      "metadata": {
        "colab": {
          "base_uri": "https://localhost:8080/",
          "height": 293
        },
        "id": "MaIbSbIV92tj",
        "outputId": "efbe2a72-adbd-4117-a515-680bda79b578"
      },
      "outputs": [
        {
          "data": {
            "application/vnd.google.colaboratory.intrinsic+json": {
              "repr_error": "0",
              "type": "dataframe",
              "variable_name": "bitcoin_news"
            },
            "text/html": [
              "\n",
              "  <div id=\"df-c075c38c-ebce-43d3-b676-fe809ad1944a\" class=\"colab-df-container\">\n",
              "    <div>\n",
              "<style scoped>\n",
              "    .dataframe tbody tr th:only-of-type {\n",
              "        vertical-align: middle;\n",
              "    }\n",
              "\n",
              "    .dataframe tbody tr th {\n",
              "        vertical-align: top;\n",
              "    }\n",
              "\n",
              "    .dataframe thead th {\n",
              "        text-align: right;\n",
              "    }\n",
              "</style>\n",
              "<table border=\"1\" class=\"dataframe\">\n",
              "  <thead>\n",
              "    <tr style=\"text-align: right;\">\n",
              "      <th></th>\n",
              "      <th>date</th>\n",
              "      <th>source</th>\n",
              "      <th>subject</th>\n",
              "      <th>text</th>\n",
              "      <th>title</th>\n",
              "      <th>url</th>\n",
              "      <th>sentiment</th>\n",
              "      <th>polarity</th>\n",
              "      <th>subjectivity</th>\n",
              "    </tr>\n",
              "  </thead>\n",
              "  <tbody>\n",
              "    <tr>\n",
              "      <th>5</th>\n",
              "      <td>2023-12-19 05:25:00</td>\n",
              "      <td>CryptoPotato</td>\n",
              "      <td>bitcoin</td>\n",
              "      <td>Yonsei found that during BTC s rally in early ...</td>\n",
              "      <td>Is This Why Bitcoin s Price Rally Was Halted  ...</td>\n",
              "      <td>https://cryptopotato.com/is-this-why-bitcoins-...</td>\n",
              "      <td>negative</td>\n",
              "      <td>-0.01</td>\n",
              "      <td>0.38</td>\n",
              "    </tr>\n",
              "    <tr>\n",
              "      <th>6</th>\n",
              "      <td>2023-12-19 04:50:11</td>\n",
              "      <td>CryptoNews</td>\n",
              "      <td>bitcoin</td>\n",
              "      <td>Cathie Wood led ARK Invest fund sold around   ...</td>\n",
              "      <td>Cathie Wood s Ark Invest Sells       Million i...</td>\n",
              "      <td>https://cryptonews.comhttps://cryptonews.com/n...</td>\n",
              "      <td>positive</td>\n",
              "      <td>0.3</td>\n",
              "      <td>0.1</td>\n",
              "    </tr>\n",
              "    <tr>\n",
              "      <th>7</th>\n",
              "      <td>2023-12-19 04:10:00</td>\n",
              "      <td>CryptoPotato</td>\n",
              "      <td>bitcoin</td>\n",
              "      <td>Bitcoin s      surge pales in comparison to th...</td>\n",
              "      <td>Bitcoin Soared      in      But These Companie...</td>\n",
              "      <td>https://cryptopotato.com/bitcoin-soared-150-in...</td>\n",
              "      <td>neutr</td>\n",
              "      <td>0.0</td>\n",
              "      <td>0.0</td>\n",
              "    </tr>\n",
              "    <tr>\n",
              "      <th>9</th>\n",
              "      <td>2023-12-19 02:59:59</td>\n",
              "      <td>CoinTelegraph</td>\n",
              "      <td>bitcoin</td>\n",
              "      <td>The SEC has pushed back its decision on a rost...</td>\n",
              "      <td>SEC delays several Ethereum ETFs  pushing fina...</td>\n",
              "      <td>https://cointelegraph.com/news/sec-delays-ethe...</td>\n",
              "      <td>negative</td>\n",
              "      <td>-0.08</td>\n",
              "      <td>0.64</td>\n",
              "    </tr>\n",
              "    <tr>\n",
              "      <th>21</th>\n",
              "      <td>2023-12-18 18:33:34</td>\n",
              "      <td>CoinTelegraph</td>\n",
              "      <td>bitcoin</td>\n",
              "      <td>Bitcoin may remain under pressure for a few da...</td>\n",
              "      <td>Price analysis        SPX  DXY  BTC  ETH  BNB ...</td>\n",
              "      <td>https://cointelegraph.com/news/price-analysis-...</td>\n",
              "      <td>negative</td>\n",
              "      <td>-0.27</td>\n",
              "      <td>0.33</td>\n",
              "    </tr>\n",
              "  </tbody>\n",
              "</table>\n",
              "</div>\n",
              "    <div class=\"colab-df-buttons\">\n",
              "\n",
              "  <div class=\"colab-df-container\">\n",
              "    <button class=\"colab-df-convert\" onclick=\"convertToInteractive('df-c075c38c-ebce-43d3-b676-fe809ad1944a')\"\n",
              "            title=\"Convert this dataframe to an interactive table.\"\n",
              "            style=\"display:none;\">\n",
              "\n",
              "  <svg xmlns=\"http://www.w3.org/2000/svg\" height=\"24px\" viewBox=\"0 -960 960 960\">\n",
              "    <path d=\"M120-120v-720h720v720H120Zm60-500h600v-160H180v160Zm220 220h160v-160H400v160Zm0 220h160v-160H400v160ZM180-400h160v-160H180v160Zm440 0h160v-160H620v160ZM180-180h160v-160H180v160Zm440 0h160v-160H620v160Z\"/>\n",
              "  </svg>\n",
              "    </button>\n",
              "\n",
              "  <style>\n",
              "    .colab-df-container {\n",
              "      display:flex;\n",
              "      gap: 12px;\n",
              "    }\n",
              "\n",
              "    .colab-df-convert {\n",
              "      background-color: #E8F0FE;\n",
              "      border: none;\n",
              "      border-radius: 50%;\n",
              "      cursor: pointer;\n",
              "      display: none;\n",
              "      fill: #1967D2;\n",
              "      height: 32px;\n",
              "      padding: 0 0 0 0;\n",
              "      width: 32px;\n",
              "    }\n",
              "\n",
              "    .colab-df-convert:hover {\n",
              "      background-color: #E2EBFA;\n",
              "      box-shadow: 0px 1px 2px rgba(60, 64, 67, 0.3), 0px 1px 3px 1px rgba(60, 64, 67, 0.15);\n",
              "      fill: #174EA6;\n",
              "    }\n",
              "\n",
              "    .colab-df-buttons div {\n",
              "      margin-bottom: 4px;\n",
              "    }\n",
              "\n",
              "    [theme=dark] .colab-df-convert {\n",
              "      background-color: #3B4455;\n",
              "      fill: #D2E3FC;\n",
              "    }\n",
              "\n",
              "    [theme=dark] .colab-df-convert:hover {\n",
              "      background-color: #434B5C;\n",
              "      box-shadow: 0px 1px 3px 1px rgba(0, 0, 0, 0.15);\n",
              "      filter: drop-shadow(0px 1px 2px rgba(0, 0, 0, 0.3));\n",
              "      fill: #FFFFFF;\n",
              "    }\n",
              "  </style>\n",
              "\n",
              "    <script>\n",
              "      const buttonEl =\n",
              "        document.querySelector('#df-c075c38c-ebce-43d3-b676-fe809ad1944a button.colab-df-convert');\n",
              "      buttonEl.style.display =\n",
              "        google.colab.kernel.accessAllowed ? 'block' : 'none';\n",
              "\n",
              "      async function convertToInteractive(key) {\n",
              "        const element = document.querySelector('#df-c075c38c-ebce-43d3-b676-fe809ad1944a');\n",
              "        const dataTable =\n",
              "          await google.colab.kernel.invokeFunction('convertToInteractive',\n",
              "                                                    [key], {});\n",
              "        if (!dataTable) return;\n",
              "\n",
              "        const docLinkHtml = 'Like what you see? Visit the ' +\n",
              "          '<a target=\"_blank\" href=https://colab.research.google.com/notebooks/data_table.ipynb>data table notebook</a>'\n",
              "          + ' to learn more about interactive tables.';\n",
              "        element.innerHTML = '';\n",
              "        dataTable['output_type'] = 'display_data';\n",
              "        await google.colab.output.renderOutput(dataTable, element);\n",
              "        const docLink = document.createElement('div');\n",
              "        docLink.innerHTML = docLinkHtml;\n",
              "        element.appendChild(docLink);\n",
              "      }\n",
              "    </script>\n",
              "  </div>\n",
              "\n",
              "\n",
              "<div id=\"df-233d4dbd-7f2b-4c86-b989-9010a61cd46d\">\n",
              "  <button class=\"colab-df-quickchart\" onclick=\"quickchart('df-233d4dbd-7f2b-4c86-b989-9010a61cd46d')\"\n",
              "            title=\"Suggest charts\"\n",
              "            style=\"display:none;\">\n",
              "\n",
              "<svg xmlns=\"http://www.w3.org/2000/svg\" height=\"24px\"viewBox=\"0 0 24 24\"\n",
              "     width=\"24px\">\n",
              "    <g>\n",
              "        <path d=\"M19 3H5c-1.1 0-2 .9-2 2v14c0 1.1.9 2 2 2h14c1.1 0 2-.9 2-2V5c0-1.1-.9-2-2-2zM9 17H7v-7h2v7zm4 0h-2V7h2v10zm4 0h-2v-4h2v4z\"/>\n",
              "    </g>\n",
              "</svg>\n",
              "  </button>\n",
              "\n",
              "<style>\n",
              "  .colab-df-quickchart {\n",
              "      --bg-color: #E8F0FE;\n",
              "      --fill-color: #1967D2;\n",
              "      --hover-bg-color: #E2EBFA;\n",
              "      --hover-fill-color: #174EA6;\n",
              "      --disabled-fill-color: #AAA;\n",
              "      --disabled-bg-color: #DDD;\n",
              "  }\n",
              "\n",
              "  [theme=dark] .colab-df-quickchart {\n",
              "      --bg-color: #3B4455;\n",
              "      --fill-color: #D2E3FC;\n",
              "      --hover-bg-color: #434B5C;\n",
              "      --hover-fill-color: #FFFFFF;\n",
              "      --disabled-bg-color: #3B4455;\n",
              "      --disabled-fill-color: #666;\n",
              "  }\n",
              "\n",
              "  .colab-df-quickchart {\n",
              "    background-color: var(--bg-color);\n",
              "    border: none;\n",
              "    border-radius: 50%;\n",
              "    cursor: pointer;\n",
              "    display: none;\n",
              "    fill: var(--fill-color);\n",
              "    height: 32px;\n",
              "    padding: 0;\n",
              "    width: 32px;\n",
              "  }\n",
              "\n",
              "  .colab-df-quickchart:hover {\n",
              "    background-color: var(--hover-bg-color);\n",
              "    box-shadow: 0 1px 2px rgba(60, 64, 67, 0.3), 0 1px 3px 1px rgba(60, 64, 67, 0.15);\n",
              "    fill: var(--button-hover-fill-color);\n",
              "  }\n",
              "\n",
              "  .colab-df-quickchart-complete:disabled,\n",
              "  .colab-df-quickchart-complete:disabled:hover {\n",
              "    background-color: var(--disabled-bg-color);\n",
              "    fill: var(--disabled-fill-color);\n",
              "    box-shadow: none;\n",
              "  }\n",
              "\n",
              "  .colab-df-spinner {\n",
              "    border: 2px solid var(--fill-color);\n",
              "    border-color: transparent;\n",
              "    border-bottom-color: var(--fill-color);\n",
              "    animation:\n",
              "      spin 1s steps(1) infinite;\n",
              "  }\n",
              "\n",
              "  @keyframes spin {\n",
              "    0% {\n",
              "      border-color: transparent;\n",
              "      border-bottom-color: var(--fill-color);\n",
              "      border-left-color: var(--fill-color);\n",
              "    }\n",
              "    20% {\n",
              "      border-color: transparent;\n",
              "      border-left-color: var(--fill-color);\n",
              "      border-top-color: var(--fill-color);\n",
              "    }\n",
              "    30% {\n",
              "      border-color: transparent;\n",
              "      border-left-color: var(--fill-color);\n",
              "      border-top-color: var(--fill-color);\n",
              "      border-right-color: var(--fill-color);\n",
              "    }\n",
              "    40% {\n",
              "      border-color: transparent;\n",
              "      border-right-color: var(--fill-color);\n",
              "      border-top-color: var(--fill-color);\n",
              "    }\n",
              "    60% {\n",
              "      border-color: transparent;\n",
              "      border-right-color: var(--fill-color);\n",
              "    }\n",
              "    80% {\n",
              "      border-color: transparent;\n",
              "      border-right-color: var(--fill-color);\n",
              "      border-bottom-color: var(--fill-color);\n",
              "    }\n",
              "    90% {\n",
              "      border-color: transparent;\n",
              "      border-bottom-color: var(--fill-color);\n",
              "    }\n",
              "  }\n",
              "</style>\n",
              "\n",
              "  <script>\n",
              "    async function quickchart(key) {\n",
              "      const quickchartButtonEl =\n",
              "        document.querySelector('#' + key + ' button');\n",
              "      quickchartButtonEl.disabled = true;  // To prevent multiple clicks.\n",
              "      quickchartButtonEl.classList.add('colab-df-spinner');\n",
              "      try {\n",
              "        const charts = await google.colab.kernel.invokeFunction(\n",
              "            'suggestCharts', [key], {});\n",
              "      } catch (error) {\n",
              "        console.error('Error during call to suggestCharts:', error);\n",
              "      }\n",
              "      quickchartButtonEl.classList.remove('colab-df-spinner');\n",
              "      quickchartButtonEl.classList.add('colab-df-quickchart-complete');\n",
              "    }\n",
              "    (() => {\n",
              "      let quickchartButtonEl =\n",
              "        document.querySelector('#df-233d4dbd-7f2b-4c86-b989-9010a61cd46d button');\n",
              "      quickchartButtonEl.style.display =\n",
              "        google.colab.kernel.accessAllowed ? 'block' : 'none';\n",
              "    })();\n",
              "  </script>\n",
              "</div>\n",
              "\n",
              "    </div>\n",
              "  </div>\n"
            ],
            "text/plain": [
              "                   date         source  subject  \\\n",
              "5   2023-12-19 05:25:00   CryptoPotato  bitcoin   \n",
              "6   2023-12-19 04:50:11     CryptoNews  bitcoin   \n",
              "7   2023-12-19 04:10:00   CryptoPotato  bitcoin   \n",
              "9   2023-12-19 02:59:59  CoinTelegraph  bitcoin   \n",
              "21  2023-12-18 18:33:34  CoinTelegraph  bitcoin   \n",
              "\n",
              "                                                 text  \\\n",
              "5   Yonsei found that during BTC s rally in early ...   \n",
              "6   Cathie Wood led ARK Invest fund sold around   ...   \n",
              "7   Bitcoin s      surge pales in comparison to th...   \n",
              "9   The SEC has pushed back its decision on a rost...   \n",
              "21  Bitcoin may remain under pressure for a few da...   \n",
              "\n",
              "                                                title  \\\n",
              "5   Is This Why Bitcoin s Price Rally Was Halted  ...   \n",
              "6   Cathie Wood s Ark Invest Sells       Million i...   \n",
              "7   Bitcoin Soared      in      But These Companie...   \n",
              "9   SEC delays several Ethereum ETFs  pushing fina...   \n",
              "21  Price analysis        SPX  DXY  BTC  ETH  BNB ...   \n",
              "\n",
              "                                                  url sentiment polarity  \\\n",
              "5   https://cryptopotato.com/is-this-why-bitcoins-...  negative    -0.01   \n",
              "6   https://cryptonews.comhttps://cryptonews.com/n...  positive      0.3   \n",
              "7   https://cryptopotato.com/bitcoin-soared-150-in...     neutr      0.0   \n",
              "9   https://cointelegraph.com/news/sec-delays-ethe...  negative    -0.08   \n",
              "21  https://cointelegraph.com/news/price-analysis-...  negative    -0.27   \n",
              "\n",
              "   subjectivity  \n",
              "5          0.38  \n",
              "6           0.1  \n",
              "7           0.0  \n",
              "9          0.64  \n",
              "21         0.33  "
            ]
          },
          "execution_count": 110,
          "metadata": {},
          "output_type": "execute_result"
        }
      ],
      "source": [
        "bitcoin_news.head()"
      ]
    },
    {
      "cell_type": "markdown",
      "metadata": {
        "id": "ZpHNzAmF92tk"
      },
      "source": [
        "## Convert all characters to lowercase and remove special characters"
      ]
    },
    {
      "cell_type": "code",
      "execution_count": null,
      "metadata": {
        "id": "htf29w5O92tk"
      },
      "outputs": [],
      "source": [
        "x = bitcoin_news.iloc[:,3:5]\n",
        "x.replace(\"[^a-zA-Z]\", \" \", regex=True, inplace=True)\n",
        "for cols in x.columns:\n",
        "    x[cols] = x[cols].apply(lambda s: s.lower() if isinstance(s, str) else s)"
      ]
    },
    {
      "cell_type": "code",
      "execution_count": null,
      "metadata": {
        "colab": {
          "base_uri": "https://localhost:8080/"
        },
        "id": "dN9fOfSv92tk",
        "outputId": "41fd9bdf-1e49-47a9-fb72-5255b11fe130"
      },
      "outputs": [
        {
          "name": "stdout",
          "output_type": "stream",
          "text": [
            "                                                 text  \\\n",
            "5   yonsei found that during btc s rally in early ...   \n",
            "6   cathie wood led ark invest fund sold around   ...   \n",
            "7   bitcoin s      surge pales in comparison to th...   \n",
            "9   the sec has pushed back its decision on a rost...   \n",
            "21  bitcoin may remain under pressure for a few da...   \n",
            "\n",
            "                                                title  \n",
            "5   is this why bitcoin s price rally was halted  ...  \n",
            "6   cathie wood s ark invest sells       million i...  \n",
            "7   bitcoin soared      in      but these companie...  \n",
            "9   sec delays several ethereum etfs  pushing fina...  \n",
            "21  price analysis        spx  dxy  btc  eth  bnb ...  \n"
          ]
        }
      ],
      "source": [
        "print(x.head())"
      ]
    },
    {
      "cell_type": "code",
      "execution_count": null,
      "metadata": {
        "colab": {
          "base_uri": "https://localhost:8080/"
        },
        "id": "0jGhcz_892tk",
        "outputId": "e2b6a94f-2260-4f91-bf53-ac0f8ce4393c"
      },
      "outputs": [
        {
          "name": "stdout",
          "output_type": "stream",
          "text": [
            "Collecting vaderSentiment\n",
            "  Downloading vaderSentiment-3.3.2-py2.py3-none-any.whl (125 kB)\n",
            "\u001b[?25l     \u001b[90m━━━━━━━━━━━━━━━━━━━━━━━━━━━━━━━━━━━━━━━━\u001b[0m \u001b[32m0.0/126.0 kB\u001b[0m \u001b[31m?\u001b[0m eta \u001b[36m-:--:--\u001b[0m\r\u001b[2K     \u001b[91m━━━━━━━━━━━━━━━━━━━━━━━━━━━━━━━━━━━━━━━\u001b[0m\u001b[90m╺\u001b[0m \u001b[32m122.9/126.0 kB\u001b[0m \u001b[31m3.7 MB/s\u001b[0m eta \u001b[36m0:00:01\u001b[0m\r\u001b[2K     \u001b[90m━━━━━━━━━━━━━━━━━━━━━━━━━━━━━━━━━━━━━━━━\u001b[0m \u001b[32m126.0/126.0 kB\u001b[0m \u001b[31m3.0 MB/s\u001b[0m eta \u001b[36m0:00:00\u001b[0m\n",
            "\u001b[?25hRequirement already satisfied: requests in /usr/local/lib/python3.10/dist-packages (from vaderSentiment) (2.31.0)\n",
            "Requirement already satisfied: charset-normalizer<4,>=2 in /usr/local/lib/python3.10/dist-packages (from requests->vaderSentiment) (3.3.2)\n",
            "Requirement already satisfied: idna<4,>=2.5 in /usr/local/lib/python3.10/dist-packages (from requests->vaderSentiment) (3.7)\n",
            "Requirement already satisfied: urllib3<3,>=1.21.1 in /usr/local/lib/python3.10/dist-packages (from requests->vaderSentiment) (2.0.7)\n",
            "Requirement already satisfied: certifi>=2017.4.17 in /usr/local/lib/python3.10/dist-packages (from requests->vaderSentiment) (2024.2.2)\n",
            "Installing collected packages: vaderSentiment\n",
            "Successfully installed vaderSentiment-3.3.2\n"
          ]
        }
      ],
      "source": [
        "!pip install vaderSentiment"
      ]
    },
    {
      "cell_type": "code",
      "execution_count": null,
      "metadata": {
        "id": "wIxGBU1T92tk"
      },
      "outputs": [],
      "source": [
        "from vaderSentiment.vaderSentiment import SentimentIntensityAnalyzer"
      ]
    },
    {
      "cell_type": "code",
      "execution_count": null,
      "metadata": {
        "id": "xAchbA7-92tk"
      },
      "outputs": [],
      "source": [
        "analyzer = SentimentIntensityAnalyzer()"
      ]
    },
    {
      "cell_type": "code",
      "execution_count": null,
      "metadata": {
        "id": "HRYOqYwb92tk"
      },
      "outputs": [],
      "source": [
        "vader_scores = []\n",
        "for text in x['text']:\n",
        "    vader_scores.append(analyzer.polarity_scores(text))"
      ]
    },
    {
      "cell_type": "code",
      "execution_count": null,
      "metadata": {
        "id": "WOJLMGoK92tk"
      },
      "outputs": [],
      "source": [
        "sentiment = []\n",
        "for score in vader_scores:\n",
        "    if score['compound'] >= 0.05:\n",
        "        sentiment.append('positive')\n",
        "    elif score['compound'] > -0.05 and score['compound'] < 0.05:\n",
        "        sentiment.append('neutral')\n",
        "    elif score['compound'] <= -0.05:\n",
        "        sentiment.append('negative')"
      ]
    },
    {
      "cell_type": "code",
      "execution_count": null,
      "metadata": {
        "colab": {
          "base_uri": "https://localhost:8080/"
        },
        "id": "qxFL_qM592tk",
        "outputId": "824e4858-429e-4c09-9e29-da8c4d383c0b"
      },
      "outputs": [
        {
          "name": "stderr",
          "output_type": "stream",
          "text": [
            "<ipython-input-16-7f6ac169f800>:1: SettingWithCopyWarning: \n",
            "A value is trying to be set on a copy of a slice from a DataFrame.\n",
            "Try using .loc[row_indexer,col_indexer] = value instead\n",
            "\n",
            "See the caveats in the documentation: https://pandas.pydata.org/pandas-docs/stable/user_guide/indexing.html#returning-a-view-versus-a-copy\n",
            "  bitcoin_news['sentiment'] = bitcoin_news['sentiment'].replace('neutr', 'neutral')\n"
          ]
        }
      ],
      "source": [
        "bitcoin_news['sentiment'] = bitcoin_news['sentiment'].replace('neutr', 'neutral')"
      ]
    },
    {
      "cell_type": "code",
      "execution_count": null,
      "metadata": {
        "id": "Hra-wpj-92tk"
      },
      "outputs": [],
      "source": [
        "index = 0\n",
        "false_count = 0\n",
        "true_count = 0\n",
        "for vader_sentiment in sentiment:\n",
        "    if vader_sentiment == bitcoin_news['sentiment'].iloc[index]:\n",
        "        true_count+=1\n",
        "    else:\n",
        "        false_count+=1"
      ]
    },
    {
      "cell_type": "code",
      "execution_count": null,
      "metadata": {
        "colab": {
          "base_uri": "https://localhost:8080/"
        },
        "id": "jZ_xwM1g92tl",
        "outputId": "b51d6bbb-b4b8-4532-cc9c-72a73afae48c"
      },
      "outputs": [
        {
          "name": "stdout",
          "output_type": "stream",
          "text": [
            "2573\n"
          ]
        }
      ],
      "source": [
        "print(true_count)"
      ]
    },
    {
      "cell_type": "code",
      "execution_count": null,
      "metadata": {
        "colab": {
          "base_uri": "https://localhost:8080/"
        },
        "id": "E9AbbgoP92tl",
        "outputId": "1a3f0d00-c00d-4a0d-f9de-eb12c1ec5542"
      },
      "outputs": [
        {
          "name": "stdout",
          "output_type": "stream",
          "text": [
            "7395\n"
          ]
        }
      ],
      "source": [
        "print(false_count)"
      ]
    },
    {
      "cell_type": "code",
      "execution_count": null,
      "metadata": {
        "colab": {
          "base_uri": "https://localhost:8080/"
        },
        "id": "QKEkwXTN92tl",
        "outputId": "8cd09640-eb6a-4f77-df20-7562f43a87b2"
      },
      "outputs": [
        {
          "name": "stderr",
          "output_type": "stream",
          "text": [
            "<ipython-input-18-d4fca72909f7>:1: SettingWithCopyWarning: \n",
            "A value is trying to be set on a copy of a slice from a DataFrame.\n",
            "Try using .loc[row_indexer,col_indexer] = value instead\n",
            "\n",
            "See the caveats in the documentation: https://pandas.pydata.org/pandas-docs/stable/user_guide/indexing.html#returning-a-view-versus-a-copy\n",
            "  bitcoin_news['vader_sentiment'] = sentiment\n"
          ]
        }
      ],
      "source": [
        "bitcoin_news['vader_sentiment'] = sentiment"
      ]
    },
    {
      "cell_type": "code",
      "execution_count": null,
      "metadata": {
        "colab": {
          "base_uri": "https://localhost:8080/"
        },
        "id": "7zwSuXTg-vi_",
        "outputId": "ceb3e772-cffe-4be4-eb33-b0b211b9bc78"
      },
      "outputs": [
        {
          "data": {
            "text/plain": [
              "array(['positive', 'negative', 'neutral'], dtype=object)"
            ]
          },
          "execution_count": 19,
          "metadata": {},
          "output_type": "execute_result"
        }
      ],
      "source": [
        "bitcoin_news['vader_sentiment'].unique()"
      ]
    },
    {
      "cell_type": "code",
      "execution_count": null,
      "metadata": {
        "id": "AI3uhAEe92tl"
      },
      "outputs": [],
      "source": [
        "bitcoin_news = bitcoin_news.rename(columns = {\"sentiment\" : \"textblob_sentiment\"})"
      ]
    },
    {
      "cell_type": "code",
      "execution_count": null,
      "metadata": {
        "colab": {
          "base_uri": "https://localhost:8080/",
          "height": 643
        },
        "id": "AZyGxmUo92tl",
        "outputId": "9861f3e7-f075-4fca-89a5-77b7b7ad2e26"
      },
      "outputs": [
        {
          "data": {
            "application/vnd.google.colaboratory.intrinsic+json": {
              "repr_error": "0",
              "type": "dataframe",
              "variable_name": "bitcoin_news"
            },
            "text/html": [
              "\n",
              "  <div id=\"df-77584bcc-175b-4267-ac17-55adab0e3ae4\" class=\"colab-df-container\">\n",
              "    <div>\n",
              "<style scoped>\n",
              "    .dataframe tbody tr th:only-of-type {\n",
              "        vertical-align: middle;\n",
              "    }\n",
              "\n",
              "    .dataframe tbody tr th {\n",
              "        vertical-align: top;\n",
              "    }\n",
              "\n",
              "    .dataframe thead th {\n",
              "        text-align: right;\n",
              "    }\n",
              "</style>\n",
              "<table border=\"1\" class=\"dataframe\">\n",
              "  <thead>\n",
              "    <tr style=\"text-align: right;\">\n",
              "      <th></th>\n",
              "      <th>date</th>\n",
              "      <th>source</th>\n",
              "      <th>subject</th>\n",
              "      <th>text</th>\n",
              "      <th>title</th>\n",
              "      <th>url</th>\n",
              "      <th>textblob_sentiment</th>\n",
              "      <th>polarity</th>\n",
              "      <th>subjectivity</th>\n",
              "      <th>vader_sentiment</th>\n",
              "    </tr>\n",
              "  </thead>\n",
              "  <tbody>\n",
              "    <tr>\n",
              "      <th>5</th>\n",
              "      <td>2023-12-19 05:25:00</td>\n",
              "      <td>CryptoPotato</td>\n",
              "      <td>bitcoin</td>\n",
              "      <td>Yonsei found that during BTC’s rally in early ...</td>\n",
              "      <td>Is This Why Bitcoin’s Price Rally Was Halted? ...</td>\n",
              "      <td>https://cryptopotato.com/is-this-why-bitcoins-...</td>\n",
              "      <td>negative</td>\n",
              "      <td>-0.01</td>\n",
              "      <td>0.38</td>\n",
              "      <td>positive</td>\n",
              "    </tr>\n",
              "    <tr>\n",
              "      <th>6</th>\n",
              "      <td>2023-12-19 04:50:11</td>\n",
              "      <td>CryptoNews</td>\n",
              "      <td>bitcoin</td>\n",
              "      <td>Cathie Wood led ARK Invest fund sold around 80...</td>\n",
              "      <td>Cathie Wood’s Ark Invest Sells $27.6 Million i...</td>\n",
              "      <td>https://cryptonews.comhttps://cryptonews.com/n...</td>\n",
              "      <td>positive</td>\n",
              "      <td>0.3</td>\n",
              "      <td>0.1</td>\n",
              "      <td>positive</td>\n",
              "    </tr>\n",
              "    <tr>\n",
              "      <th>7</th>\n",
              "      <td>2023-12-19 04:10:00</td>\n",
              "      <td>CryptoPotato</td>\n",
              "      <td>bitcoin</td>\n",
              "      <td>Bitcoin's 150% surge pales in comparison to th...</td>\n",
              "      <td>Bitcoin Soared 150% in 2023 But These Companie...</td>\n",
              "      <td>https://cryptopotato.com/bitcoin-soared-150-in...</td>\n",
              "      <td>neutral</td>\n",
              "      <td>0.0</td>\n",
              "      <td>0.0</td>\n",
              "      <td>positive</td>\n",
              "    </tr>\n",
              "    <tr>\n",
              "      <th>9</th>\n",
              "      <td>2023-12-19 02:59:59</td>\n",
              "      <td>CoinTelegraph</td>\n",
              "      <td>bitcoin</td>\n",
              "      <td>The SEC has pushed back its decision on a rost...</td>\n",
              "      <td>SEC delays several Ethereum ETFs, pushing fina...</td>\n",
              "      <td>https://cointelegraph.com/news/sec-delays-ethe...</td>\n",
              "      <td>negative</td>\n",
              "      <td>-0.08</td>\n",
              "      <td>0.64</td>\n",
              "      <td>positive</td>\n",
              "    </tr>\n",
              "    <tr>\n",
              "      <th>21</th>\n",
              "      <td>2023-12-18 18:33:34</td>\n",
              "      <td>CoinTelegraph</td>\n",
              "      <td>bitcoin</td>\n",
              "      <td>Bitcoin may remain under pressure for a few da...</td>\n",
              "      <td>Price analysis 12/18: SPX, DXY, BTC, ETH, BNB,...</td>\n",
              "      <td>https://cointelegraph.com/news/price-analysis-...</td>\n",
              "      <td>negative</td>\n",
              "      <td>-0.27</td>\n",
              "      <td>0.33</td>\n",
              "      <td>negative</td>\n",
              "    </tr>\n",
              "  </tbody>\n",
              "</table>\n",
              "</div>\n",
              "    <div class=\"colab-df-buttons\">\n",
              "\n",
              "  <div class=\"colab-df-container\">\n",
              "    <button class=\"colab-df-convert\" onclick=\"convertToInteractive('df-77584bcc-175b-4267-ac17-55adab0e3ae4')\"\n",
              "            title=\"Convert this dataframe to an interactive table.\"\n",
              "            style=\"display:none;\">\n",
              "\n",
              "  <svg xmlns=\"http://www.w3.org/2000/svg\" height=\"24px\" viewBox=\"0 -960 960 960\">\n",
              "    <path d=\"M120-120v-720h720v720H120Zm60-500h600v-160H180v160Zm220 220h160v-160H400v160Zm0 220h160v-160H400v160ZM180-400h160v-160H180v160Zm440 0h160v-160H620v160ZM180-180h160v-160H180v160Zm440 0h160v-160H620v160Z\"/>\n",
              "  </svg>\n",
              "    </button>\n",
              "\n",
              "  <style>\n",
              "    .colab-df-container {\n",
              "      display:flex;\n",
              "      gap: 12px;\n",
              "    }\n",
              "\n",
              "    .colab-df-convert {\n",
              "      background-color: #E8F0FE;\n",
              "      border: none;\n",
              "      border-radius: 50%;\n",
              "      cursor: pointer;\n",
              "      display: none;\n",
              "      fill: #1967D2;\n",
              "      height: 32px;\n",
              "      padding: 0 0 0 0;\n",
              "      width: 32px;\n",
              "    }\n",
              "\n",
              "    .colab-df-convert:hover {\n",
              "      background-color: #E2EBFA;\n",
              "      box-shadow: 0px 1px 2px rgba(60, 64, 67, 0.3), 0px 1px 3px 1px rgba(60, 64, 67, 0.15);\n",
              "      fill: #174EA6;\n",
              "    }\n",
              "\n",
              "    .colab-df-buttons div {\n",
              "      margin-bottom: 4px;\n",
              "    }\n",
              "\n",
              "    [theme=dark] .colab-df-convert {\n",
              "      background-color: #3B4455;\n",
              "      fill: #D2E3FC;\n",
              "    }\n",
              "\n",
              "    [theme=dark] .colab-df-convert:hover {\n",
              "      background-color: #434B5C;\n",
              "      box-shadow: 0px 1px 3px 1px rgba(0, 0, 0, 0.15);\n",
              "      filter: drop-shadow(0px 1px 2px rgba(0, 0, 0, 0.3));\n",
              "      fill: #FFFFFF;\n",
              "    }\n",
              "  </style>\n",
              "\n",
              "    <script>\n",
              "      const buttonEl =\n",
              "        document.querySelector('#df-77584bcc-175b-4267-ac17-55adab0e3ae4 button.colab-df-convert');\n",
              "      buttonEl.style.display =\n",
              "        google.colab.kernel.accessAllowed ? 'block' : 'none';\n",
              "\n",
              "      async function convertToInteractive(key) {\n",
              "        const element = document.querySelector('#df-77584bcc-175b-4267-ac17-55adab0e3ae4');\n",
              "        const dataTable =\n",
              "          await google.colab.kernel.invokeFunction('convertToInteractive',\n",
              "                                                    [key], {});\n",
              "        if (!dataTable) return;\n",
              "\n",
              "        const docLinkHtml = 'Like what you see? Visit the ' +\n",
              "          '<a target=\"_blank\" href=https://colab.research.google.com/notebooks/data_table.ipynb>data table notebook</a>'\n",
              "          + ' to learn more about interactive tables.';\n",
              "        element.innerHTML = '';\n",
              "        dataTable['output_type'] = 'display_data';\n",
              "        await google.colab.output.renderOutput(dataTable, element);\n",
              "        const docLink = document.createElement('div');\n",
              "        docLink.innerHTML = docLinkHtml;\n",
              "        element.appendChild(docLink);\n",
              "      }\n",
              "    </script>\n",
              "  </div>\n",
              "\n",
              "\n",
              "<div id=\"df-2332b7a5-e447-44dc-b72c-561fb346dfc1\">\n",
              "  <button class=\"colab-df-quickchart\" onclick=\"quickchart('df-2332b7a5-e447-44dc-b72c-561fb346dfc1')\"\n",
              "            title=\"Suggest charts\"\n",
              "            style=\"display:none;\">\n",
              "\n",
              "<svg xmlns=\"http://www.w3.org/2000/svg\" height=\"24px\"viewBox=\"0 0 24 24\"\n",
              "     width=\"24px\">\n",
              "    <g>\n",
              "        <path d=\"M19 3H5c-1.1 0-2 .9-2 2v14c0 1.1.9 2 2 2h14c1.1 0 2-.9 2-2V5c0-1.1-.9-2-2-2zM9 17H7v-7h2v7zm4 0h-2V7h2v10zm4 0h-2v-4h2v4z\"/>\n",
              "    </g>\n",
              "</svg>\n",
              "  </button>\n",
              "\n",
              "<style>\n",
              "  .colab-df-quickchart {\n",
              "      --bg-color: #E8F0FE;\n",
              "      --fill-color: #1967D2;\n",
              "      --hover-bg-color: #E2EBFA;\n",
              "      --hover-fill-color: #174EA6;\n",
              "      --disabled-fill-color: #AAA;\n",
              "      --disabled-bg-color: #DDD;\n",
              "  }\n",
              "\n",
              "  [theme=dark] .colab-df-quickchart {\n",
              "      --bg-color: #3B4455;\n",
              "      --fill-color: #D2E3FC;\n",
              "      --hover-bg-color: #434B5C;\n",
              "      --hover-fill-color: #FFFFFF;\n",
              "      --disabled-bg-color: #3B4455;\n",
              "      --disabled-fill-color: #666;\n",
              "  }\n",
              "\n",
              "  .colab-df-quickchart {\n",
              "    background-color: var(--bg-color);\n",
              "    border: none;\n",
              "    border-radius: 50%;\n",
              "    cursor: pointer;\n",
              "    display: none;\n",
              "    fill: var(--fill-color);\n",
              "    height: 32px;\n",
              "    padding: 0;\n",
              "    width: 32px;\n",
              "  }\n",
              "\n",
              "  .colab-df-quickchart:hover {\n",
              "    background-color: var(--hover-bg-color);\n",
              "    box-shadow: 0 1px 2px rgba(60, 64, 67, 0.3), 0 1px 3px 1px rgba(60, 64, 67, 0.15);\n",
              "    fill: var(--button-hover-fill-color);\n",
              "  }\n",
              "\n",
              "  .colab-df-quickchart-complete:disabled,\n",
              "  .colab-df-quickchart-complete:disabled:hover {\n",
              "    background-color: var(--disabled-bg-color);\n",
              "    fill: var(--disabled-fill-color);\n",
              "    box-shadow: none;\n",
              "  }\n",
              "\n",
              "  .colab-df-spinner {\n",
              "    border: 2px solid var(--fill-color);\n",
              "    border-color: transparent;\n",
              "    border-bottom-color: var(--fill-color);\n",
              "    animation:\n",
              "      spin 1s steps(1) infinite;\n",
              "  }\n",
              "\n",
              "  @keyframes spin {\n",
              "    0% {\n",
              "      border-color: transparent;\n",
              "      border-bottom-color: var(--fill-color);\n",
              "      border-left-color: var(--fill-color);\n",
              "    }\n",
              "    20% {\n",
              "      border-color: transparent;\n",
              "      border-left-color: var(--fill-color);\n",
              "      border-top-color: var(--fill-color);\n",
              "    }\n",
              "    30% {\n",
              "      border-color: transparent;\n",
              "      border-left-color: var(--fill-color);\n",
              "      border-top-color: var(--fill-color);\n",
              "      border-right-color: var(--fill-color);\n",
              "    }\n",
              "    40% {\n",
              "      border-color: transparent;\n",
              "      border-right-color: var(--fill-color);\n",
              "      border-top-color: var(--fill-color);\n",
              "    }\n",
              "    60% {\n",
              "      border-color: transparent;\n",
              "      border-right-color: var(--fill-color);\n",
              "    }\n",
              "    80% {\n",
              "      border-color: transparent;\n",
              "      border-right-color: var(--fill-color);\n",
              "      border-bottom-color: var(--fill-color);\n",
              "    }\n",
              "    90% {\n",
              "      border-color: transparent;\n",
              "      border-bottom-color: var(--fill-color);\n",
              "    }\n",
              "  }\n",
              "</style>\n",
              "\n",
              "  <script>\n",
              "    async function quickchart(key) {\n",
              "      const quickchartButtonEl =\n",
              "        document.querySelector('#' + key + ' button');\n",
              "      quickchartButtonEl.disabled = true;  // To prevent multiple clicks.\n",
              "      quickchartButtonEl.classList.add('colab-df-spinner');\n",
              "      try {\n",
              "        const charts = await google.colab.kernel.invokeFunction(\n",
              "            'suggestCharts', [key], {});\n",
              "      } catch (error) {\n",
              "        console.error('Error during call to suggestCharts:', error);\n",
              "      }\n",
              "      quickchartButtonEl.classList.remove('colab-df-spinner');\n",
              "      quickchartButtonEl.classList.add('colab-df-quickchart-complete');\n",
              "    }\n",
              "    (() => {\n",
              "      let quickchartButtonEl =\n",
              "        document.querySelector('#df-2332b7a5-e447-44dc-b72c-561fb346dfc1 button');\n",
              "      quickchartButtonEl.style.display =\n",
              "        google.colab.kernel.accessAllowed ? 'block' : 'none';\n",
              "    })();\n",
              "  </script>\n",
              "</div>\n",
              "\n",
              "    </div>\n",
              "  </div>\n"
            ],
            "text/plain": [
              "                   date         source  subject  \\\n",
              "5   2023-12-19 05:25:00   CryptoPotato  bitcoin   \n",
              "6   2023-12-19 04:50:11     CryptoNews  bitcoin   \n",
              "7   2023-12-19 04:10:00   CryptoPotato  bitcoin   \n",
              "9   2023-12-19 02:59:59  CoinTelegraph  bitcoin   \n",
              "21  2023-12-18 18:33:34  CoinTelegraph  bitcoin   \n",
              "\n",
              "                                                 text  \\\n",
              "5   Yonsei found that during BTC’s rally in early ...   \n",
              "6   Cathie Wood led ARK Invest fund sold around 80...   \n",
              "7   Bitcoin's 150% surge pales in comparison to th...   \n",
              "9   The SEC has pushed back its decision on a rost...   \n",
              "21  Bitcoin may remain under pressure for a few da...   \n",
              "\n",
              "                                                title  \\\n",
              "5   Is This Why Bitcoin’s Price Rally Was Halted? ...   \n",
              "6   Cathie Wood’s Ark Invest Sells $27.6 Million i...   \n",
              "7   Bitcoin Soared 150% in 2023 But These Companie...   \n",
              "9   SEC delays several Ethereum ETFs, pushing fina...   \n",
              "21  Price analysis 12/18: SPX, DXY, BTC, ETH, BNB,...   \n",
              "\n",
              "                                                  url textblob_sentiment  \\\n",
              "5   https://cryptopotato.com/is-this-why-bitcoins-...           negative   \n",
              "6   https://cryptonews.comhttps://cryptonews.com/n...           positive   \n",
              "7   https://cryptopotato.com/bitcoin-soared-150-in...            neutral   \n",
              "9   https://cointelegraph.com/news/sec-delays-ethe...           negative   \n",
              "21  https://cointelegraph.com/news/price-analysis-...           negative   \n",
              "\n",
              "   polarity subjectivity vader_sentiment  \n",
              "5     -0.01         0.38        positive  \n",
              "6       0.3          0.1        positive  \n",
              "7       0.0          0.0        positive  \n",
              "9     -0.08         0.64        positive  \n",
              "21    -0.27         0.33        negative  "
            ]
          },
          "execution_count": 22,
          "metadata": {},
          "output_type": "execute_result"
        }
      ],
      "source": [
        "bitcoin_news.head()"
      ]
    },
    {
      "cell_type": "code",
      "execution_count": null,
      "metadata": {
        "colab": {
          "base_uri": "https://localhost:8080/"
        },
        "id": "iAml8_DN92tl",
        "outputId": "91cd6dee-42b3-4489-93a2-0e8afdce20be"
      },
      "outputs": [
        {
          "data": {
            "text/plain": [
              "date                  object\n",
              "source                object\n",
              "subject               object\n",
              "text                  object\n",
              "title                 object\n",
              "url                   object\n",
              "textblob_sentiment    object\n",
              "polarity              object\n",
              "subjectivity          object\n",
              "vader_sentiment       object\n",
              "dtype: object"
            ]
          },
          "execution_count": 23,
          "metadata": {},
          "output_type": "execute_result"
        }
      ],
      "source": [
        "bitcoin_news.dtypes"
      ]
    },
    {
      "cell_type": "code",
      "execution_count": null,
      "metadata": {
        "id": "LSohMtg092tl"
      },
      "outputs": [],
      "source": [
        "bitcoin_news['polarity'] = pd.to_numeric(bitcoin_news['polarity'])"
      ]
    },
    {
      "cell_type": "code",
      "execution_count": null,
      "metadata": {
        "id": "eCKUxEWf92tl"
      },
      "outputs": [],
      "source": [
        "bitcoin_news['subjectivity'] = pd.to_numeric(bitcoin_news['subjectivity'])"
      ]
    },
    {
      "cell_type": "code",
      "execution_count": null,
      "metadata": {
        "id": "7EEiPwI_92tl"
      },
      "outputs": [],
      "source": [
        "bitcoin_news['date'] = pd.to_datetime(bitcoin_news['date'])"
      ]
    },
    {
      "cell_type": "code",
      "execution_count": null,
      "metadata": {
        "id": "5zo3NdUG92tl"
      },
      "outputs": [],
      "source": [
        "def parse(x):\n",
        "    return x.strftime(\"%d/%m/%Y\")\n",
        "\n",
        "bitcoin_news[\"date\"] = list(map(parse, bitcoin_news[\"date\"]))"
      ]
    },
    {
      "cell_type": "code",
      "execution_count": null,
      "metadata": {
        "colab": {
          "base_uri": "https://localhost:8080/",
          "height": 643
        },
        "id": "Fs1ylAau92tm",
        "outputId": "8ff2d9d3-9303-42ef-9ad8-c3c10d54961f"
      },
      "outputs": [
        {
          "data": {
            "application/vnd.google.colaboratory.intrinsic+json": {
              "repr_error": "0",
              "type": "dataframe",
              "variable_name": "bitcoin_news"
            },
            "text/html": [
              "\n",
              "  <div id=\"df-c5f3d2ee-8587-459d-8372-433e43e1db44\" class=\"colab-df-container\">\n",
              "    <div>\n",
              "<style scoped>\n",
              "    .dataframe tbody tr th:only-of-type {\n",
              "        vertical-align: middle;\n",
              "    }\n",
              "\n",
              "    .dataframe tbody tr th {\n",
              "        vertical-align: top;\n",
              "    }\n",
              "\n",
              "    .dataframe thead th {\n",
              "        text-align: right;\n",
              "    }\n",
              "</style>\n",
              "<table border=\"1\" class=\"dataframe\">\n",
              "  <thead>\n",
              "    <tr style=\"text-align: right;\">\n",
              "      <th></th>\n",
              "      <th>date</th>\n",
              "      <th>source</th>\n",
              "      <th>subject</th>\n",
              "      <th>text</th>\n",
              "      <th>title</th>\n",
              "      <th>url</th>\n",
              "      <th>textblob_sentiment</th>\n",
              "      <th>polarity</th>\n",
              "      <th>subjectivity</th>\n",
              "      <th>vader_sentiment</th>\n",
              "    </tr>\n",
              "  </thead>\n",
              "  <tbody>\n",
              "    <tr>\n",
              "      <th>5</th>\n",
              "      <td>19/12/2023</td>\n",
              "      <td>CryptoPotato</td>\n",
              "      <td>bitcoin</td>\n",
              "      <td>Yonsei found that during BTC’s rally in early ...</td>\n",
              "      <td>Is This Why Bitcoin’s Price Rally Was Halted? ...</td>\n",
              "      <td>https://cryptopotato.com/is-this-why-bitcoins-...</td>\n",
              "      <td>negative</td>\n",
              "      <td>-0.01</td>\n",
              "      <td>0.38</td>\n",
              "      <td>positive</td>\n",
              "    </tr>\n",
              "    <tr>\n",
              "      <th>6</th>\n",
              "      <td>19/12/2023</td>\n",
              "      <td>CryptoNews</td>\n",
              "      <td>bitcoin</td>\n",
              "      <td>Cathie Wood led ARK Invest fund sold around 80...</td>\n",
              "      <td>Cathie Wood’s Ark Invest Sells $27.6 Million i...</td>\n",
              "      <td>https://cryptonews.comhttps://cryptonews.com/n...</td>\n",
              "      <td>positive</td>\n",
              "      <td>0.30</td>\n",
              "      <td>0.10</td>\n",
              "      <td>positive</td>\n",
              "    </tr>\n",
              "    <tr>\n",
              "      <th>7</th>\n",
              "      <td>19/12/2023</td>\n",
              "      <td>CryptoPotato</td>\n",
              "      <td>bitcoin</td>\n",
              "      <td>Bitcoin's 150% surge pales in comparison to th...</td>\n",
              "      <td>Bitcoin Soared 150% in 2023 But These Companie...</td>\n",
              "      <td>https://cryptopotato.com/bitcoin-soared-150-in...</td>\n",
              "      <td>neutral</td>\n",
              "      <td>0.00</td>\n",
              "      <td>0.00</td>\n",
              "      <td>positive</td>\n",
              "    </tr>\n",
              "    <tr>\n",
              "      <th>9</th>\n",
              "      <td>19/12/2023</td>\n",
              "      <td>CoinTelegraph</td>\n",
              "      <td>bitcoin</td>\n",
              "      <td>The SEC has pushed back its decision on a rost...</td>\n",
              "      <td>SEC delays several Ethereum ETFs, pushing fina...</td>\n",
              "      <td>https://cointelegraph.com/news/sec-delays-ethe...</td>\n",
              "      <td>negative</td>\n",
              "      <td>-0.08</td>\n",
              "      <td>0.64</td>\n",
              "      <td>positive</td>\n",
              "    </tr>\n",
              "    <tr>\n",
              "      <th>21</th>\n",
              "      <td>18/12/2023</td>\n",
              "      <td>CoinTelegraph</td>\n",
              "      <td>bitcoin</td>\n",
              "      <td>Bitcoin may remain under pressure for a few da...</td>\n",
              "      <td>Price analysis 12/18: SPX, DXY, BTC, ETH, BNB,...</td>\n",
              "      <td>https://cointelegraph.com/news/price-analysis-...</td>\n",
              "      <td>negative</td>\n",
              "      <td>-0.27</td>\n",
              "      <td>0.33</td>\n",
              "      <td>negative</td>\n",
              "    </tr>\n",
              "  </tbody>\n",
              "</table>\n",
              "</div>\n",
              "    <div class=\"colab-df-buttons\">\n",
              "\n",
              "  <div class=\"colab-df-container\">\n",
              "    <button class=\"colab-df-convert\" onclick=\"convertToInteractive('df-c5f3d2ee-8587-459d-8372-433e43e1db44')\"\n",
              "            title=\"Convert this dataframe to an interactive table.\"\n",
              "            style=\"display:none;\">\n",
              "\n",
              "  <svg xmlns=\"http://www.w3.org/2000/svg\" height=\"24px\" viewBox=\"0 -960 960 960\">\n",
              "    <path d=\"M120-120v-720h720v720H120Zm60-500h600v-160H180v160Zm220 220h160v-160H400v160Zm0 220h160v-160H400v160ZM180-400h160v-160H180v160Zm440 0h160v-160H620v160ZM180-180h160v-160H180v160Zm440 0h160v-160H620v160Z\"/>\n",
              "  </svg>\n",
              "    </button>\n",
              "\n",
              "  <style>\n",
              "    .colab-df-container {\n",
              "      display:flex;\n",
              "      gap: 12px;\n",
              "    }\n",
              "\n",
              "    .colab-df-convert {\n",
              "      background-color: #E8F0FE;\n",
              "      border: none;\n",
              "      border-radius: 50%;\n",
              "      cursor: pointer;\n",
              "      display: none;\n",
              "      fill: #1967D2;\n",
              "      height: 32px;\n",
              "      padding: 0 0 0 0;\n",
              "      width: 32px;\n",
              "    }\n",
              "\n",
              "    .colab-df-convert:hover {\n",
              "      background-color: #E2EBFA;\n",
              "      box-shadow: 0px 1px 2px rgba(60, 64, 67, 0.3), 0px 1px 3px 1px rgba(60, 64, 67, 0.15);\n",
              "      fill: #174EA6;\n",
              "    }\n",
              "\n",
              "    .colab-df-buttons div {\n",
              "      margin-bottom: 4px;\n",
              "    }\n",
              "\n",
              "    [theme=dark] .colab-df-convert {\n",
              "      background-color: #3B4455;\n",
              "      fill: #D2E3FC;\n",
              "    }\n",
              "\n",
              "    [theme=dark] .colab-df-convert:hover {\n",
              "      background-color: #434B5C;\n",
              "      box-shadow: 0px 1px 3px 1px rgba(0, 0, 0, 0.15);\n",
              "      filter: drop-shadow(0px 1px 2px rgba(0, 0, 0, 0.3));\n",
              "      fill: #FFFFFF;\n",
              "    }\n",
              "  </style>\n",
              "\n",
              "    <script>\n",
              "      const buttonEl =\n",
              "        document.querySelector('#df-c5f3d2ee-8587-459d-8372-433e43e1db44 button.colab-df-convert');\n",
              "      buttonEl.style.display =\n",
              "        google.colab.kernel.accessAllowed ? 'block' : 'none';\n",
              "\n",
              "      async function convertToInteractive(key) {\n",
              "        const element = document.querySelector('#df-c5f3d2ee-8587-459d-8372-433e43e1db44');\n",
              "        const dataTable =\n",
              "          await google.colab.kernel.invokeFunction('convertToInteractive',\n",
              "                                                    [key], {});\n",
              "        if (!dataTable) return;\n",
              "\n",
              "        const docLinkHtml = 'Like what you see? Visit the ' +\n",
              "          '<a target=\"_blank\" href=https://colab.research.google.com/notebooks/data_table.ipynb>data table notebook</a>'\n",
              "          + ' to learn more about interactive tables.';\n",
              "        element.innerHTML = '';\n",
              "        dataTable['output_type'] = 'display_data';\n",
              "        await google.colab.output.renderOutput(dataTable, element);\n",
              "        const docLink = document.createElement('div');\n",
              "        docLink.innerHTML = docLinkHtml;\n",
              "        element.appendChild(docLink);\n",
              "      }\n",
              "    </script>\n",
              "  </div>\n",
              "\n",
              "\n",
              "<div id=\"df-bb6e6078-dbf3-40b1-9ef9-6a2b704c323d\">\n",
              "  <button class=\"colab-df-quickchart\" onclick=\"quickchart('df-bb6e6078-dbf3-40b1-9ef9-6a2b704c323d')\"\n",
              "            title=\"Suggest charts\"\n",
              "            style=\"display:none;\">\n",
              "\n",
              "<svg xmlns=\"http://www.w3.org/2000/svg\" height=\"24px\"viewBox=\"0 0 24 24\"\n",
              "     width=\"24px\">\n",
              "    <g>\n",
              "        <path d=\"M19 3H5c-1.1 0-2 .9-2 2v14c0 1.1.9 2 2 2h14c1.1 0 2-.9 2-2V5c0-1.1-.9-2-2-2zM9 17H7v-7h2v7zm4 0h-2V7h2v10zm4 0h-2v-4h2v4z\"/>\n",
              "    </g>\n",
              "</svg>\n",
              "  </button>\n",
              "\n",
              "<style>\n",
              "  .colab-df-quickchart {\n",
              "      --bg-color: #E8F0FE;\n",
              "      --fill-color: #1967D2;\n",
              "      --hover-bg-color: #E2EBFA;\n",
              "      --hover-fill-color: #174EA6;\n",
              "      --disabled-fill-color: #AAA;\n",
              "      --disabled-bg-color: #DDD;\n",
              "  }\n",
              "\n",
              "  [theme=dark] .colab-df-quickchart {\n",
              "      --bg-color: #3B4455;\n",
              "      --fill-color: #D2E3FC;\n",
              "      --hover-bg-color: #434B5C;\n",
              "      --hover-fill-color: #FFFFFF;\n",
              "      --disabled-bg-color: #3B4455;\n",
              "      --disabled-fill-color: #666;\n",
              "  }\n",
              "\n",
              "  .colab-df-quickchart {\n",
              "    background-color: var(--bg-color);\n",
              "    border: none;\n",
              "    border-radius: 50%;\n",
              "    cursor: pointer;\n",
              "    display: none;\n",
              "    fill: var(--fill-color);\n",
              "    height: 32px;\n",
              "    padding: 0;\n",
              "    width: 32px;\n",
              "  }\n",
              "\n",
              "  .colab-df-quickchart:hover {\n",
              "    background-color: var(--hover-bg-color);\n",
              "    box-shadow: 0 1px 2px rgba(60, 64, 67, 0.3), 0 1px 3px 1px rgba(60, 64, 67, 0.15);\n",
              "    fill: var(--button-hover-fill-color);\n",
              "  }\n",
              "\n",
              "  .colab-df-quickchart-complete:disabled,\n",
              "  .colab-df-quickchart-complete:disabled:hover {\n",
              "    background-color: var(--disabled-bg-color);\n",
              "    fill: var(--disabled-fill-color);\n",
              "    box-shadow: none;\n",
              "  }\n",
              "\n",
              "  .colab-df-spinner {\n",
              "    border: 2px solid var(--fill-color);\n",
              "    border-color: transparent;\n",
              "    border-bottom-color: var(--fill-color);\n",
              "    animation:\n",
              "      spin 1s steps(1) infinite;\n",
              "  }\n",
              "\n",
              "  @keyframes spin {\n",
              "    0% {\n",
              "      border-color: transparent;\n",
              "      border-bottom-color: var(--fill-color);\n",
              "      border-left-color: var(--fill-color);\n",
              "    }\n",
              "    20% {\n",
              "      border-color: transparent;\n",
              "      border-left-color: var(--fill-color);\n",
              "      border-top-color: var(--fill-color);\n",
              "    }\n",
              "    30% {\n",
              "      border-color: transparent;\n",
              "      border-left-color: var(--fill-color);\n",
              "      border-top-color: var(--fill-color);\n",
              "      border-right-color: var(--fill-color);\n",
              "    }\n",
              "    40% {\n",
              "      border-color: transparent;\n",
              "      border-right-color: var(--fill-color);\n",
              "      border-top-color: var(--fill-color);\n",
              "    }\n",
              "    60% {\n",
              "      border-color: transparent;\n",
              "      border-right-color: var(--fill-color);\n",
              "    }\n",
              "    80% {\n",
              "      border-color: transparent;\n",
              "      border-right-color: var(--fill-color);\n",
              "      border-bottom-color: var(--fill-color);\n",
              "    }\n",
              "    90% {\n",
              "      border-color: transparent;\n",
              "      border-bottom-color: var(--fill-color);\n",
              "    }\n",
              "  }\n",
              "</style>\n",
              "\n",
              "  <script>\n",
              "    async function quickchart(key) {\n",
              "      const quickchartButtonEl =\n",
              "        document.querySelector('#' + key + ' button');\n",
              "      quickchartButtonEl.disabled = true;  // To prevent multiple clicks.\n",
              "      quickchartButtonEl.classList.add('colab-df-spinner');\n",
              "      try {\n",
              "        const charts = await google.colab.kernel.invokeFunction(\n",
              "            'suggestCharts', [key], {});\n",
              "      } catch (error) {\n",
              "        console.error('Error during call to suggestCharts:', error);\n",
              "      }\n",
              "      quickchartButtonEl.classList.remove('colab-df-spinner');\n",
              "      quickchartButtonEl.classList.add('colab-df-quickchart-complete');\n",
              "    }\n",
              "    (() => {\n",
              "      let quickchartButtonEl =\n",
              "        document.querySelector('#df-bb6e6078-dbf3-40b1-9ef9-6a2b704c323d button');\n",
              "      quickchartButtonEl.style.display =\n",
              "        google.colab.kernel.accessAllowed ? 'block' : 'none';\n",
              "    })();\n",
              "  </script>\n",
              "</div>\n",
              "\n",
              "    </div>\n",
              "  </div>\n"
            ],
            "text/plain": [
              "          date         source  subject  \\\n",
              "5   19/12/2023   CryptoPotato  bitcoin   \n",
              "6   19/12/2023     CryptoNews  bitcoin   \n",
              "7   19/12/2023   CryptoPotato  bitcoin   \n",
              "9   19/12/2023  CoinTelegraph  bitcoin   \n",
              "21  18/12/2023  CoinTelegraph  bitcoin   \n",
              "\n",
              "                                                 text  \\\n",
              "5   Yonsei found that during BTC’s rally in early ...   \n",
              "6   Cathie Wood led ARK Invest fund sold around 80...   \n",
              "7   Bitcoin's 150% surge pales in comparison to th...   \n",
              "9   The SEC has pushed back its decision on a rost...   \n",
              "21  Bitcoin may remain under pressure for a few da...   \n",
              "\n",
              "                                                title  \\\n",
              "5   Is This Why Bitcoin’s Price Rally Was Halted? ...   \n",
              "6   Cathie Wood’s Ark Invest Sells $27.6 Million i...   \n",
              "7   Bitcoin Soared 150% in 2023 But These Companie...   \n",
              "9   SEC delays several Ethereum ETFs, pushing fina...   \n",
              "21  Price analysis 12/18: SPX, DXY, BTC, ETH, BNB,...   \n",
              "\n",
              "                                                  url textblob_sentiment  \\\n",
              "5   https://cryptopotato.com/is-this-why-bitcoins-...           negative   \n",
              "6   https://cryptonews.comhttps://cryptonews.com/n...           positive   \n",
              "7   https://cryptopotato.com/bitcoin-soared-150-in...            neutral   \n",
              "9   https://cointelegraph.com/news/sec-delays-ethe...           negative   \n",
              "21  https://cointelegraph.com/news/price-analysis-...           negative   \n",
              "\n",
              "    polarity  subjectivity vader_sentiment  \n",
              "5      -0.01          0.38        positive  \n",
              "6       0.30          0.10        positive  \n",
              "7       0.00          0.00        positive  \n",
              "9      -0.08          0.64        positive  \n",
              "21     -0.27          0.33        negative  "
            ]
          },
          "execution_count": 28,
          "metadata": {},
          "output_type": "execute_result"
        }
      ],
      "source": [
        "bitcoin_news.head()"
      ]
    },
    {
      "cell_type": "code",
      "execution_count": null,
      "metadata": {
        "colab": {
          "base_uri": "https://localhost:8080/"
        },
        "id": "wwXv0n1M92tm",
        "outputId": "4df5bd73-29a0-4de1-ad7f-c044c4c15a5a"
      },
      "outputs": [
        {
          "data": {
            "text/plain": [
              "date                   object\n",
              "source                 object\n",
              "subject                object\n",
              "text                   object\n",
              "title                  object\n",
              "url                    object\n",
              "textblob_sentiment     object\n",
              "polarity              float64\n",
              "subjectivity          float64\n",
              "vader_sentiment        object\n",
              "dtype: object"
            ]
          },
          "execution_count": 132,
          "metadata": {},
          "output_type": "execute_result"
        }
      ],
      "source": [
        "bitcoin_news.dtypes"
      ]
    },
    {
      "cell_type": "code",
      "execution_count": 90,
      "metadata": {
        "id": "Ud84eybK92tm"
      },
      "outputs": [],
      "source": [
        "bitcoin_prices = pd.read_csv(path + 'bitcoin_price.csv')"
      ]
    },
    {
      "cell_type": "code",
      "execution_count": null,
      "metadata": {
        "colab": {
          "base_uri": "https://localhost:8080/",
          "height": 206
        },
        "id": "END0C01j92ts",
        "outputId": "0027dd85-9afb-431d-bdd4-084d38d77e7c"
      },
      "outputs": [
        {
          "data": {
            "application/vnd.google.colaboratory.intrinsic+json": {
              "summary": "{\n  \"name\": \"bitcoin_prices\",\n  \"rows\": 1769,\n  \"fields\": [\n    {\n      \"column\": \"Date\",\n      \"properties\": {\n        \"dtype\": \"object\",\n        \"num_unique_values\": 1769,\n        \"samples\": [\n          \"07/16/2021\",\n          \"06/19/2023\",\n          \"02/03/2023\"\n        ],\n        \"semantic_type\": \"\",\n        \"description\": \"\"\n      }\n    },\n    {\n      \"column\": \"Close/Last\",\n      \"properties\": {\n        \"dtype\": \"number\",\n        \"std\": 16340.826975095568,\n        \"min\": 3864.9,\n        \"max\": 73237.7,\n        \"num_unique_values\": 1763,\n        \"samples\": [\n          11653.3,\n          26043.9,\n          23127.8\n        ],\n        \"semantic_type\": \"\",\n        \"description\": \"\"\n      }\n    },\n    {\n      \"column\": \"Volume\",\n      \"properties\": {\n        \"dtype\": \"number\",\n        \"std\": null,\n        \"min\": null,\n        \"max\": null,\n        \"num_unique_values\": 0,\n        \"samples\": [],\n        \"semantic_type\": \"\",\n        \"description\": \"\"\n      }\n    },\n    {\n      \"column\": \"Open\",\n      \"properties\": {\n        \"dtype\": \"number\",\n        \"std\": 16323.90409601321,\n        \"min\": 3864.6,\n        \"max\": 73257.1,\n        \"num_unique_values\": 1764,\n        \"samples\": [],\n        \"semantic_type\": \"\",\n        \"description\": \"\"\n      }\n    },\n    {\n      \"column\": \"High\",\n      \"properties\": {\n        \"dtype\": \"number\",\n        \"std\": 16535.197896600923,\n        \"min\": 3894.7,\n        \"max\": 73285.3,\n        \"num_unique_values\": 1737,\n        \"samples\": [],\n        \"semantic_type\": \"\",\n        \"description\": \"\"\n      }\n    },\n    {\n      \"column\": \"Low\",\n      \"properties\": {\n        \"dtype\": \"number\",\n        \"std\": 16154.754210658035,\n        \"min\": 3810.7,\n        \"max\": 72530.5,\n        \"num_unique_values\": 1750,\n        \"samples\": [],\n        \"semantic_type\": \"\",\n        \"description\": \"\"\n      }\n    }\n  ]\n}",
              "type": "dataframe",
              "variable_name": "bitcoin_prices"
            },
            "text/html": [
              "\n",
              "  <div id=\"df-f5a000ba-ea18-4aa7-a8fe-e626bc6a2271\" class=\"colab-df-container\">\n",
              "    <div>\n",
              "<style scoped>\n",
              "    .dataframe tbody tr th:only-of-type {\n",
              "        vertical-align: middle;\n",
              "    }\n",
              "\n",
              "    .dataframe tbody tr th {\n",
              "        vertical-align: top;\n",
              "    }\n",
              "\n",
              "    .dataframe thead th {\n",
              "        text-align: right;\n",
              "    }\n",
              "</style>\n",
              "<table border=\"1\" class=\"dataframe\">\n",
              "  <thead>\n",
              "    <tr style=\"text-align: right;\">\n",
              "      <th></th>\n",
              "      <th>Date</th>\n",
              "      <th>Close/Last</th>\n",
              "      <th>Volume</th>\n",
              "      <th>Open</th>\n",
              "      <th>High</th>\n",
              "      <th>Low</th>\n",
              "    </tr>\n",
              "  </thead>\n",
              "  <tbody>\n",
              "    <tr>\n",
              "      <th>0</th>\n",
              "      <td>03/22/2024</td>\n",
              "      <td>63389.0</td>\n",
              "      <td>NaN</td>\n",
              "      <td>65968.6</td>\n",
              "      <td>64324.3</td>\n",
              "      <td>63074.9</td>\n",
              "    </tr>\n",
              "    <tr>\n",
              "      <th>1</th>\n",
              "      <td>03/21/2024</td>\n",
              "      <td>65947.2</td>\n",
              "      <td>NaN</td>\n",
              "      <td>66746.4</td>\n",
              "      <td>66133.9</td>\n",
              "      <td>65151.8</td>\n",
              "    </tr>\n",
              "    <tr>\n",
              "      <th>2</th>\n",
              "      <td>03/20/2024</td>\n",
              "      <td>66467.4</td>\n",
              "      <td>NaN</td>\n",
              "      <td>61826.5</td>\n",
              "      <td>68161.7</td>\n",
              "      <td>66463.6</td>\n",
              "    </tr>\n",
              "    <tr>\n",
              "      <th>3</th>\n",
              "      <td>03/19/2024</td>\n",
              "      <td>62428.4</td>\n",
              "      <td>NaN</td>\n",
              "      <td>65860.5</td>\n",
              "      <td>63397.2</td>\n",
              "      <td>61859.5</td>\n",
              "    </tr>\n",
              "    <tr>\n",
              "      <th>4</th>\n",
              "      <td>03/18/2024</td>\n",
              "      <td>65734.7</td>\n",
              "      <td>NaN</td>\n",
              "      <td>67951.4</td>\n",
              "      <td>68099.6</td>\n",
              "      <td>64940.6</td>\n",
              "    </tr>\n",
              "  </tbody>\n",
              "</table>\n",
              "</div>\n",
              "    <div class=\"colab-df-buttons\">\n",
              "\n",
              "  <div class=\"colab-df-container\">\n",
              "    <button class=\"colab-df-convert\" onclick=\"convertToInteractive('df-f5a000ba-ea18-4aa7-a8fe-e626bc6a2271')\"\n",
              "            title=\"Convert this dataframe to an interactive table.\"\n",
              "            style=\"display:none;\">\n",
              "\n",
              "  <svg xmlns=\"http://www.w3.org/2000/svg\" height=\"24px\" viewBox=\"0 -960 960 960\">\n",
              "    <path d=\"M120-120v-720h720v720H120Zm60-500h600v-160H180v160Zm220 220h160v-160H400v160Zm0 220h160v-160H400v160ZM180-400h160v-160H180v160Zm440 0h160v-160H620v160ZM180-180h160v-160H180v160Zm440 0h160v-160H620v160Z\"/>\n",
              "  </svg>\n",
              "    </button>\n",
              "\n",
              "  <style>\n",
              "    .colab-df-container {\n",
              "      display:flex;\n",
              "      gap: 12px;\n",
              "    }\n",
              "\n",
              "    .colab-df-convert {\n",
              "      background-color: #E8F0FE;\n",
              "      border: none;\n",
              "      border-radius: 50%;\n",
              "      cursor: pointer;\n",
              "      display: none;\n",
              "      fill: #1967D2;\n",
              "      height: 32px;\n",
              "      padding: 0 0 0 0;\n",
              "      width: 32px;\n",
              "    }\n",
              "\n",
              "    .colab-df-convert:hover {\n",
              "      background-color: #E2EBFA;\n",
              "      box-shadow: 0px 1px 2px rgba(60, 64, 67, 0.3), 0px 1px 3px 1px rgba(60, 64, 67, 0.15);\n",
              "      fill: #174EA6;\n",
              "    }\n",
              "\n",
              "    .colab-df-buttons div {\n",
              "      margin-bottom: 4px;\n",
              "    }\n",
              "\n",
              "    [theme=dark] .colab-df-convert {\n",
              "      background-color: #3B4455;\n",
              "      fill: #D2E3FC;\n",
              "    }\n",
              "\n",
              "    [theme=dark] .colab-df-convert:hover {\n",
              "      background-color: #434B5C;\n",
              "      box-shadow: 0px 1px 3px 1px rgba(0, 0, 0, 0.15);\n",
              "      filter: drop-shadow(0px 1px 2px rgba(0, 0, 0, 0.3));\n",
              "      fill: #FFFFFF;\n",
              "    }\n",
              "  </style>\n",
              "\n",
              "    <script>\n",
              "      const buttonEl =\n",
              "        document.querySelector('#df-f5a000ba-ea18-4aa7-a8fe-e626bc6a2271 button.colab-df-convert');\n",
              "      buttonEl.style.display =\n",
              "        google.colab.kernel.accessAllowed ? 'block' : 'none';\n",
              "\n",
              "      async function convertToInteractive(key) {\n",
              "        const element = document.querySelector('#df-f5a000ba-ea18-4aa7-a8fe-e626bc6a2271');\n",
              "        const dataTable =\n",
              "          await google.colab.kernel.invokeFunction('convertToInteractive',\n",
              "                                                    [key], {});\n",
              "        if (!dataTable) return;\n",
              "\n",
              "        const docLinkHtml = 'Like what you see? Visit the ' +\n",
              "          '<a target=\"_blank\" href=https://colab.research.google.com/notebooks/data_table.ipynb>data table notebook</a>'\n",
              "          + ' to learn more about interactive tables.';\n",
              "        element.innerHTML = '';\n",
              "        dataTable['output_type'] = 'display_data';\n",
              "        await google.colab.output.renderOutput(dataTable, element);\n",
              "        const docLink = document.createElement('div');\n",
              "        docLink.innerHTML = docLinkHtml;\n",
              "        element.appendChild(docLink);\n",
              "      }\n",
              "    </script>\n",
              "  </div>\n",
              "\n",
              "\n",
              "<div id=\"df-faf5da57-0cf6-457c-9cd3-59956720bd9e\">\n",
              "  <button class=\"colab-df-quickchart\" onclick=\"quickchart('df-faf5da57-0cf6-457c-9cd3-59956720bd9e')\"\n",
              "            title=\"Suggest charts\"\n",
              "            style=\"display:none;\">\n",
              "\n",
              "<svg xmlns=\"http://www.w3.org/2000/svg\" height=\"24px\"viewBox=\"0 0 24 24\"\n",
              "     width=\"24px\">\n",
              "    <g>\n",
              "        <path d=\"M19 3H5c-1.1 0-2 .9-2 2v14c0 1.1.9 2 2 2h14c1.1 0 2-.9 2-2V5c0-1.1-.9-2-2-2zM9 17H7v-7h2v7zm4 0h-2V7h2v10zm4 0h-2v-4h2v4z\"/>\n",
              "    </g>\n",
              "</svg>\n",
              "  </button>\n",
              "\n",
              "<style>\n",
              "  .colab-df-quickchart {\n",
              "      --bg-color: #E8F0FE;\n",
              "      --fill-color: #1967D2;\n",
              "      --hover-bg-color: #E2EBFA;\n",
              "      --hover-fill-color: #174EA6;\n",
              "      --disabled-fill-color: #AAA;\n",
              "      --disabled-bg-color: #DDD;\n",
              "  }\n",
              "\n",
              "  [theme=dark] .colab-df-quickchart {\n",
              "      --bg-color: #3B4455;\n",
              "      --fill-color: #D2E3FC;\n",
              "      --hover-bg-color: #434B5C;\n",
              "      --hover-fill-color: #FFFFFF;\n",
              "      --disabled-bg-color: #3B4455;\n",
              "      --disabled-fill-color: #666;\n",
              "  }\n",
              "\n",
              "  .colab-df-quickchart {\n",
              "    background-color: var(--bg-color);\n",
              "    border: none;\n",
              "    border-radius: 50%;\n",
              "    cursor: pointer;\n",
              "    display: none;\n",
              "    fill: var(--fill-color);\n",
              "    height: 32px;\n",
              "    padding: 0;\n",
              "    width: 32px;\n",
              "  }\n",
              "\n",
              "  .colab-df-quickchart:hover {\n",
              "    background-color: var(--hover-bg-color);\n",
              "    box-shadow: 0 1px 2px rgba(60, 64, 67, 0.3), 0 1px 3px 1px rgba(60, 64, 67, 0.15);\n",
              "    fill: var(--button-hover-fill-color);\n",
              "  }\n",
              "\n",
              "  .colab-df-quickchart-complete:disabled,\n",
              "  .colab-df-quickchart-complete:disabled:hover {\n",
              "    background-color: var(--disabled-bg-color);\n",
              "    fill: var(--disabled-fill-color);\n",
              "    box-shadow: none;\n",
              "  }\n",
              "\n",
              "  .colab-df-spinner {\n",
              "    border: 2px solid var(--fill-color);\n",
              "    border-color: transparent;\n",
              "    border-bottom-color: var(--fill-color);\n",
              "    animation:\n",
              "      spin 1s steps(1) infinite;\n",
              "  }\n",
              "\n",
              "  @keyframes spin {\n",
              "    0% {\n",
              "      border-color: transparent;\n",
              "      border-bottom-color: var(--fill-color);\n",
              "      border-left-color: var(--fill-color);\n",
              "    }\n",
              "    20% {\n",
              "      border-color: transparent;\n",
              "      border-left-color: var(--fill-color);\n",
              "      border-top-color: var(--fill-color);\n",
              "    }\n",
              "    30% {\n",
              "      border-color: transparent;\n",
              "      border-left-color: var(--fill-color);\n",
              "      border-top-color: var(--fill-color);\n",
              "      border-right-color: var(--fill-color);\n",
              "    }\n",
              "    40% {\n",
              "      border-color: transparent;\n",
              "      border-right-color: var(--fill-color);\n",
              "      border-top-color: var(--fill-color);\n",
              "    }\n",
              "    60% {\n",
              "      border-color: transparent;\n",
              "      border-right-color: var(--fill-color);\n",
              "    }\n",
              "    80% {\n",
              "      border-color: transparent;\n",
              "      border-right-color: var(--fill-color);\n",
              "      border-bottom-color: var(--fill-color);\n",
              "    }\n",
              "    90% {\n",
              "      border-color: transparent;\n",
              "      border-bottom-color: var(--fill-color);\n",
              "    }\n",
              "  }\n",
              "</style>\n",
              "\n",
              "  <script>\n",
              "    async function quickchart(key) {\n",
              "      const quickchartButtonEl =\n",
              "        document.querySelector('#' + key + ' button');\n",
              "      quickchartButtonEl.disabled = true;  // To prevent multiple clicks.\n",
              "      quickchartButtonEl.classList.add('colab-df-spinner');\n",
              "      try {\n",
              "        const charts = await google.colab.kernel.invokeFunction(\n",
              "            'suggestCharts', [key], {});\n",
              "      } catch (error) {\n",
              "        console.error('Error during call to suggestCharts:', error);\n",
              "      }\n",
              "      quickchartButtonEl.classList.remove('colab-df-spinner');\n",
              "      quickchartButtonEl.classList.add('colab-df-quickchart-complete');\n",
              "    }\n",
              "    (() => {\n",
              "      let quickchartButtonEl =\n",
              "        document.querySelector('#df-faf5da57-0cf6-457c-9cd3-59956720bd9e button');\n",
              "      quickchartButtonEl.style.display =\n",
              "        google.colab.kernel.accessAllowed ? 'block' : 'none';\n",
              "    })();\n",
              "  </script>\n",
              "</div>\n",
              "\n",
              "    </div>\n",
              "  </div>\n"
            ],
            "text/plain": [
              "         Date  Close/Last  Volume     Open     High      Low\n",
              "0  03/22/2024     63389.0     NaN  65968.6  64324.3  63074.9\n",
              "1  03/21/2024     65947.2     NaN  66746.4  66133.9  65151.8\n",
              "2  03/20/2024     66467.4     NaN  61826.5  68161.7  66463.6\n",
              "3  03/19/2024     62428.4     NaN  65860.5  63397.2  61859.5\n",
              "4  03/18/2024     65734.7     NaN  67951.4  68099.6  64940.6"
            ]
          },
          "execution_count": 28,
          "metadata": {},
          "output_type": "execute_result"
        }
      ],
      "source": [
        "bitcoin_prices.head()"
      ]
    },
    {
      "cell_type": "code",
      "execution_count": null,
      "metadata": {
        "id": "qd_tCGUN92ts"
      },
      "outputs": [],
      "source": [
        "bitcoin_prices = bitcoin_prices.drop('Volume', axis=1)"
      ]
    },
    {
      "cell_type": "code",
      "execution_count": null,
      "metadata": {
        "colab": {
          "base_uri": "https://localhost:8080/"
        },
        "id": "ahUUMkqz92ts",
        "outputId": "70e4c6fc-af62-40c4-d924-6d2284264c58"
      },
      "outputs": [
        {
          "data": {
            "text/plain": [
              "Date          03/08/2019\n",
              "Close/Last        3865.9\n",
              "Open              3875.1\n",
              "High              3929.0\n",
              "Low               3810.7\n",
              "Name: 1768, dtype: object"
            ]
          },
          "execution_count": 27,
          "metadata": {},
          "output_type": "execute_result"
        }
      ],
      "source": [
        "bitcoin_prices.iloc[-1]"
      ]
    },
    {
      "cell_type": "code",
      "execution_count": null,
      "metadata": {
        "id": "gYJLAvpU92ts"
      },
      "outputs": [],
      "source": [
        "bitcoin_prices.columns = ['date','close/last','open','high','low']"
      ]
    },
    {
      "cell_type": "code",
      "execution_count": null,
      "metadata": {
        "id": "3r6ZKZx292tt"
      },
      "outputs": [],
      "source": [
        "dataset = pd.merge(bitcoin_news, bitcoin_prices, on=\"date\")"
      ]
    },
    {
      "cell_type": "code",
      "execution_count": null,
      "metadata": {
        "colab": {
          "base_uri": "https://localhost:8080/",
          "height": 625
        },
        "id": "ttussUQU92tt",
        "outputId": "6945a697-6372-4e21-c9a5-b354b40df290"
      },
      "outputs": [
        {
          "data": {
            "application/vnd.google.colaboratory.intrinsic+json": {
              "summary": "{\n  \"name\": \"dataset\",\n  \"rows\": 3107,\n  \"fields\": [\n    {\n      \"column\": \"date\",\n      \"properties\": {\n        \"dtype\": \"object\",\n        \"num_unique_values\": 239,\n        \"samples\": [\n          \"12/10/2023\",\n          \"06/12/2023\",\n          \"03/05/2023\"\n        ],\n        \"semantic_type\": \"\",\n        \"description\": \"\"\n      }\n    },\n    {\n      \"column\": \"source\",\n      \"properties\": {\n        \"dtype\": \"category\",\n        \"num_unique_values\": 3,\n        \"samples\": [\n          \"CoinTelegraph\",\n          \"CryptoNews\",\n          \"CryptoPotato\"\n        ],\n        \"semantic_type\": \"\",\n        \"description\": \"\"\n      }\n    },\n    {\n      \"column\": \"subject\",\n      \"properties\": {\n        \"dtype\": \"category\",\n        \"num_unique_values\": 1,\n        \"samples\": [\n          \"bitcoin\"\n        ],\n        \"semantic_type\": \"\",\n        \"description\": \"\"\n      }\n    },\n    {\n      \"column\": \"text\",\n      \"properties\": {\n        \"dtype\": \"string\",\n        \"num_unique_values\": 3061,\n        \"samples\": [\n          \"A Bitcoin OG and core developer Luke Dashjr claims his PGP key was compromised, resulting in virtually all his Bitcoin being stolen from him on Dec. 31.\"\n        ],\n        \"semantic_type\": \"\",\n        \"description\": \"\"\n      }\n    },\n    {\n      \"column\": \"title\",\n      \"properties\": {\n        \"dtype\": \"string\",\n        \"num_unique_values\": 3103,\n        \"samples\": [\n          \"Bitcoin bears need BTC price to go below $27K ahead of Friday's $900M options expiry\"\n        ],\n        \"semantic_type\": \"\",\n        \"description\": \"\"\n      }\n    },\n    {\n      \"column\": \"url\",\n      \"properties\": {\n        \"dtype\": \"string\",\n        \"num_unique_values\": 3107,\n        \"samples\": [\n          \"https://cryptonews.comhttps://cryptonews.com/news/blackrock-and-bitwise-update-bitcoin-etf-filings-with-sec.htm\"\n        ],\n        \"semantic_type\": \"\",\n        \"description\": \"\"\n      }\n    },\n    {\n      \"column\": \"textblob_sentiment\",\n      \"properties\": {\n        \"dtype\": \"category\",\n        \"num_unique_values\": 3,\n        \"samples\": [\n          \"positive\"\n        ],\n        \"semantic_type\": \"\",\n        \"description\": \"\"\n      }\n    },\n    {\n      \"column\": \"polarity\",\n      \"properties\": {\n        \"dtype\": \"number\",\n        \"std\": 0.19883982723918242,\n        \"min\": -1.0,\n        \"max\": 1.0,\n        \"num_unique_values\": 106,\n        \"samples\": [\n          -0.55\n        ],\n        \"semantic_type\": \"\",\n        \"description\": \"\"\n      }\n    },\n    {\n      \"column\": \"subjectivity\",\n      \"properties\": {\n        \"dtype\": \"number\",\n        \"std\": 0.2611736954434604,\n        \"min\": 0.0,\n        \"max\": 1.0,\n        \"num_unique_values\": 93,\n        \"samples\": [\n          0.54\n        ],\n        \"semantic_type\": \"\",\n        \"description\": \"\"\n      }\n    },\n    {\n      \"column\": \"vader_sentiment\",\n      \"properties\": {\n        \"dtype\": \"category\",\n        \"num_unique_values\": 3,\n        \"samples\": [\n          \"neutral\"\n        ],\n        \"semantic_type\": \"\",\n        \"description\": \"\"\n      }\n    },\n    {\n      \"column\": \"close/last\",\n      \"properties\": {\n        \"dtype\": \"number\",\n        \"std\": 7997.256430459977,\n        \"min\": 16396.8,\n        \"max\": 45228.0,\n        \"num_unique_values\": 239,\n        \"samples\": [\n          42083.5\n        ],\n        \"semantic_type\": \"\",\n        \"description\": \"\"\n      }\n    },\n    {\n      \"column\": \"open\",\n      \"properties\": {\n        \"dtype\": \"number\",\n        \"std\": 8083.987832900933,\n        \"min\": 16492.6,\n        \"max\": 46654.0,\n        \"num_unique_values\": 239,\n        \"samples\": [\n          43939.2\n        ],\n        \"semantic_type\": \"\",\n        \"description\": \"\"\n      }\n    },\n    {\n      \"column\": \"high\",\n      \"properties\": {\n        \"dtype\": \"number\",\n        \"std\": 8086.8562604788285,\n        \"min\": 16523.8,\n        \"max\": 45512.0,\n        \"num_unique_values\": 238,\n        \"samples\": [\n          27945.8\n        ],\n        \"semantic_type\": \"\",\n        \"description\": \"\"\n      }\n    },\n    {\n      \"column\": \"low\",\n      \"properties\": {\n        \"dtype\": \"number\",\n        \"std\": 7875.382693504329,\n        \"min\": 15799.3,\n        \"max\": 44417.0,\n        \"num_unique_values\": 237,\n        \"samples\": [\n          27668.9\n        ],\n        \"semantic_type\": \"\",\n        \"description\": \"\"\n      }\n    }\n  ]\n}",
              "type": "dataframe",
              "variable_name": "dataset"
            },
            "text/html": [
              "\n",
              "  <div id=\"df-284dce8a-d2c6-49a8-8186-a2c273c7d7d0\" class=\"colab-df-container\">\n",
              "    <div>\n",
              "<style scoped>\n",
              "    .dataframe tbody tr th:only-of-type {\n",
              "        vertical-align: middle;\n",
              "    }\n",
              "\n",
              "    .dataframe tbody tr th {\n",
              "        vertical-align: top;\n",
              "    }\n",
              "\n",
              "    .dataframe thead th {\n",
              "        text-align: right;\n",
              "    }\n",
              "</style>\n",
              "<table border=\"1\" class=\"dataframe\">\n",
              "  <thead>\n",
              "    <tr style=\"text-align: right;\">\n",
              "      <th></th>\n",
              "      <th>date</th>\n",
              "      <th>source</th>\n",
              "      <th>subject</th>\n",
              "      <th>text</th>\n",
              "      <th>title</th>\n",
              "      <th>url</th>\n",
              "      <th>textblob_sentiment</th>\n",
              "      <th>polarity</th>\n",
              "      <th>subjectivity</th>\n",
              "      <th>vader_sentiment</th>\n",
              "      <th>close/last</th>\n",
              "      <th>open</th>\n",
              "      <th>high</th>\n",
              "      <th>low</th>\n",
              "    </tr>\n",
              "  </thead>\n",
              "  <tbody>\n",
              "    <tr>\n",
              "      <th>0</th>\n",
              "      <td>12/12/2023</td>\n",
              "      <td>CoinTelegraph</td>\n",
              "      <td>bitcoin</td>\n",
              "      <td>Bitcoin bulls expectations of $50,000 and high...</td>\n",
              "      <td>Bitcoin derivatives data points to traders' $5...</td>\n",
              "      <td>https://cointelegraph.com/news/bitcoin-derivat...</td>\n",
              "      <td>positive</td>\n",
              "      <td>0.25</td>\n",
              "      <td>0.50</td>\n",
              "      <td>neutral</td>\n",
              "      <td>40901.2</td>\n",
              "      <td>41395.9</td>\n",
              "      <td>41496.4</td>\n",
              "      <td>40649.3</td>\n",
              "    </tr>\n",
              "    <tr>\n",
              "      <th>1</th>\n",
              "      <td>12/12/2023</td>\n",
              "      <td>CryptoNews</td>\n",
              "      <td>bitcoin</td>\n",
              "      <td>As the US announces its latest core inflation ...</td>\n",
              "      <td>Bitcoin Price Prediction as US Core Inflation ...</td>\n",
              "      <td>https://cryptonews.comhttps://cryptonews.com/n...</td>\n",
              "      <td>positive</td>\n",
              "      <td>0.22</td>\n",
              "      <td>0.52</td>\n",
              "      <td>positive</td>\n",
              "      <td>40901.2</td>\n",
              "      <td>41395.9</td>\n",
              "      <td>41496.4</td>\n",
              "      <td>40649.3</td>\n",
              "    </tr>\n",
              "    <tr>\n",
              "      <th>2</th>\n",
              "      <td>12/12/2023</td>\n",
              "      <td>CryptoPotato</td>\n",
              "      <td>bitcoin</td>\n",
              "      <td>The decline in BTC supply on exchange is consi...</td>\n",
              "      <td>Bitcoin Supply on Exchanges at 6-Year Low as B...</td>\n",
              "      <td>https://cryptopotato.com/bitcoin-supply-on-exc...</td>\n",
              "      <td>neutral</td>\n",
              "      <td>0.00</td>\n",
              "      <td>0.00</td>\n",
              "      <td>positive</td>\n",
              "      <td>40901.2</td>\n",
              "      <td>41395.9</td>\n",
              "      <td>41496.4</td>\n",
              "      <td>40649.3</td>\n",
              "    </tr>\n",
              "    <tr>\n",
              "      <th>3</th>\n",
              "      <td>12/12/2023</td>\n",
              "      <td>CoinTelegraph</td>\n",
              "      <td>bitcoin</td>\n",
              "      <td>Bitcoin is nowhere near done with its bull mar...</td>\n",
              "      <td>'Take some rest and GO' — Bitcoin price copies...</td>\n",
              "      <td>https://cointelegraph.com/news/bitcoin-price-c...</td>\n",
              "      <td>positive</td>\n",
              "      <td>0.05</td>\n",
              "      <td>0.20</td>\n",
              "      <td>positive</td>\n",
              "      <td>40901.2</td>\n",
              "      <td>41395.9</td>\n",
              "      <td>41496.4</td>\n",
              "      <td>40649.3</td>\n",
              "    </tr>\n",
              "    <tr>\n",
              "      <th>4</th>\n",
              "      <td>12/12/2023</td>\n",
              "      <td>CoinTelegraph</td>\n",
              "      <td>bitcoin</td>\n",
              "      <td>Major Coinbase shareholders have sold over $14...</td>\n",
              "      <td>Coinbase co-founder Fred Ehrsam sells $13 mill...</td>\n",
              "      <td>https://cointelegraph.com/news/coinbase-co-fou...</td>\n",
              "      <td>negative</td>\n",
              "      <td>-0.09</td>\n",
              "      <td>0.38</td>\n",
              "      <td>neutral</td>\n",
              "      <td>40901.2</td>\n",
              "      <td>41395.9</td>\n",
              "      <td>41496.4</td>\n",
              "      <td>40649.3</td>\n",
              "    </tr>\n",
              "  </tbody>\n",
              "</table>\n",
              "</div>\n",
              "    <div class=\"colab-df-buttons\">\n",
              "\n",
              "  <div class=\"colab-df-container\">\n",
              "    <button class=\"colab-df-convert\" onclick=\"convertToInteractive('df-284dce8a-d2c6-49a8-8186-a2c273c7d7d0')\"\n",
              "            title=\"Convert this dataframe to an interactive table.\"\n",
              "            style=\"display:none;\">\n",
              "\n",
              "  <svg xmlns=\"http://www.w3.org/2000/svg\" height=\"24px\" viewBox=\"0 -960 960 960\">\n",
              "    <path d=\"M120-120v-720h720v720H120Zm60-500h600v-160H180v160Zm220 220h160v-160H400v160Zm0 220h160v-160H400v160ZM180-400h160v-160H180v160Zm440 0h160v-160H620v160ZM180-180h160v-160H180v160Zm440 0h160v-160H620v160Z\"/>\n",
              "  </svg>\n",
              "    </button>\n",
              "\n",
              "  <style>\n",
              "    .colab-df-container {\n",
              "      display:flex;\n",
              "      gap: 12px;\n",
              "    }\n",
              "\n",
              "    .colab-df-convert {\n",
              "      background-color: #E8F0FE;\n",
              "      border: none;\n",
              "      border-radius: 50%;\n",
              "      cursor: pointer;\n",
              "      display: none;\n",
              "      fill: #1967D2;\n",
              "      height: 32px;\n",
              "      padding: 0 0 0 0;\n",
              "      width: 32px;\n",
              "    }\n",
              "\n",
              "    .colab-df-convert:hover {\n",
              "      background-color: #E2EBFA;\n",
              "      box-shadow: 0px 1px 2px rgba(60, 64, 67, 0.3), 0px 1px 3px 1px rgba(60, 64, 67, 0.15);\n",
              "      fill: #174EA6;\n",
              "    }\n",
              "\n",
              "    .colab-df-buttons div {\n",
              "      margin-bottom: 4px;\n",
              "    }\n",
              "\n",
              "    [theme=dark] .colab-df-convert {\n",
              "      background-color: #3B4455;\n",
              "      fill: #D2E3FC;\n",
              "    }\n",
              "\n",
              "    [theme=dark] .colab-df-convert:hover {\n",
              "      background-color: #434B5C;\n",
              "      box-shadow: 0px 1px 3px 1px rgba(0, 0, 0, 0.15);\n",
              "      filter: drop-shadow(0px 1px 2px rgba(0, 0, 0, 0.3));\n",
              "      fill: #FFFFFF;\n",
              "    }\n",
              "  </style>\n",
              "\n",
              "    <script>\n",
              "      const buttonEl =\n",
              "        document.querySelector('#df-284dce8a-d2c6-49a8-8186-a2c273c7d7d0 button.colab-df-convert');\n",
              "      buttonEl.style.display =\n",
              "        google.colab.kernel.accessAllowed ? 'block' : 'none';\n",
              "\n",
              "      async function convertToInteractive(key) {\n",
              "        const element = document.querySelector('#df-284dce8a-d2c6-49a8-8186-a2c273c7d7d0');\n",
              "        const dataTable =\n",
              "          await google.colab.kernel.invokeFunction('convertToInteractive',\n",
              "                                                    [key], {});\n",
              "        if (!dataTable) return;\n",
              "\n",
              "        const docLinkHtml = 'Like what you see? Visit the ' +\n",
              "          '<a target=\"_blank\" href=https://colab.research.google.com/notebooks/data_table.ipynb>data table notebook</a>'\n",
              "          + ' to learn more about interactive tables.';\n",
              "        element.innerHTML = '';\n",
              "        dataTable['output_type'] = 'display_data';\n",
              "        await google.colab.output.renderOutput(dataTable, element);\n",
              "        const docLink = document.createElement('div');\n",
              "        docLink.innerHTML = docLinkHtml;\n",
              "        element.appendChild(docLink);\n",
              "      }\n",
              "    </script>\n",
              "  </div>\n",
              "\n",
              "\n",
              "<div id=\"df-eb144fba-c275-4c67-9a60-142345f72db2\">\n",
              "  <button class=\"colab-df-quickchart\" onclick=\"quickchart('df-eb144fba-c275-4c67-9a60-142345f72db2')\"\n",
              "            title=\"Suggest charts\"\n",
              "            style=\"display:none;\">\n",
              "\n",
              "<svg xmlns=\"http://www.w3.org/2000/svg\" height=\"24px\"viewBox=\"0 0 24 24\"\n",
              "     width=\"24px\">\n",
              "    <g>\n",
              "        <path d=\"M19 3H5c-1.1 0-2 .9-2 2v14c0 1.1.9 2 2 2h14c1.1 0 2-.9 2-2V5c0-1.1-.9-2-2-2zM9 17H7v-7h2v7zm4 0h-2V7h2v10zm4 0h-2v-4h2v4z\"/>\n",
              "    </g>\n",
              "</svg>\n",
              "  </button>\n",
              "\n",
              "<style>\n",
              "  .colab-df-quickchart {\n",
              "      --bg-color: #E8F0FE;\n",
              "      --fill-color: #1967D2;\n",
              "      --hover-bg-color: #E2EBFA;\n",
              "      --hover-fill-color: #174EA6;\n",
              "      --disabled-fill-color: #AAA;\n",
              "      --disabled-bg-color: #DDD;\n",
              "  }\n",
              "\n",
              "  [theme=dark] .colab-df-quickchart {\n",
              "      --bg-color: #3B4455;\n",
              "      --fill-color: #D2E3FC;\n",
              "      --hover-bg-color: #434B5C;\n",
              "      --hover-fill-color: #FFFFFF;\n",
              "      --disabled-bg-color: #3B4455;\n",
              "      --disabled-fill-color: #666;\n",
              "  }\n",
              "\n",
              "  .colab-df-quickchart {\n",
              "    background-color: var(--bg-color);\n",
              "    border: none;\n",
              "    border-radius: 50%;\n",
              "    cursor: pointer;\n",
              "    display: none;\n",
              "    fill: var(--fill-color);\n",
              "    height: 32px;\n",
              "    padding: 0;\n",
              "    width: 32px;\n",
              "  }\n",
              "\n",
              "  .colab-df-quickchart:hover {\n",
              "    background-color: var(--hover-bg-color);\n",
              "    box-shadow: 0 1px 2px rgba(60, 64, 67, 0.3), 0 1px 3px 1px rgba(60, 64, 67, 0.15);\n",
              "    fill: var(--button-hover-fill-color);\n",
              "  }\n",
              "\n",
              "  .colab-df-quickchart-complete:disabled,\n",
              "  .colab-df-quickchart-complete:disabled:hover {\n",
              "    background-color: var(--disabled-bg-color);\n",
              "    fill: var(--disabled-fill-color);\n",
              "    box-shadow: none;\n",
              "  }\n",
              "\n",
              "  .colab-df-spinner {\n",
              "    border: 2px solid var(--fill-color);\n",
              "    border-color: transparent;\n",
              "    border-bottom-color: var(--fill-color);\n",
              "    animation:\n",
              "      spin 1s steps(1) infinite;\n",
              "  }\n",
              "\n",
              "  @keyframes spin {\n",
              "    0% {\n",
              "      border-color: transparent;\n",
              "      border-bottom-color: var(--fill-color);\n",
              "      border-left-color: var(--fill-color);\n",
              "    }\n",
              "    20% {\n",
              "      border-color: transparent;\n",
              "      border-left-color: var(--fill-color);\n",
              "      border-top-color: var(--fill-color);\n",
              "    }\n",
              "    30% {\n",
              "      border-color: transparent;\n",
              "      border-left-color: var(--fill-color);\n",
              "      border-top-color: var(--fill-color);\n",
              "      border-right-color: var(--fill-color);\n",
              "    }\n",
              "    40% {\n",
              "      border-color: transparent;\n",
              "      border-right-color: var(--fill-color);\n",
              "      border-top-color: var(--fill-color);\n",
              "    }\n",
              "    60% {\n",
              "      border-color: transparent;\n",
              "      border-right-color: var(--fill-color);\n",
              "    }\n",
              "    80% {\n",
              "      border-color: transparent;\n",
              "      border-right-color: var(--fill-color);\n",
              "      border-bottom-color: var(--fill-color);\n",
              "    }\n",
              "    90% {\n",
              "      border-color: transparent;\n",
              "      border-bottom-color: var(--fill-color);\n",
              "    }\n",
              "  }\n",
              "</style>\n",
              "\n",
              "  <script>\n",
              "    async function quickchart(key) {\n",
              "      const quickchartButtonEl =\n",
              "        document.querySelector('#' + key + ' button');\n",
              "      quickchartButtonEl.disabled = true;  // To prevent multiple clicks.\n",
              "      quickchartButtonEl.classList.add('colab-df-spinner');\n",
              "      try {\n",
              "        const charts = await google.colab.kernel.invokeFunction(\n",
              "            'suggestCharts', [key], {});\n",
              "      } catch (error) {\n",
              "        console.error('Error during call to suggestCharts:', error);\n",
              "      }\n",
              "      quickchartButtonEl.classList.remove('colab-df-spinner');\n",
              "      quickchartButtonEl.classList.add('colab-df-quickchart-complete');\n",
              "    }\n",
              "    (() => {\n",
              "      let quickchartButtonEl =\n",
              "        document.querySelector('#df-eb144fba-c275-4c67-9a60-142345f72db2 button');\n",
              "      quickchartButtonEl.style.display =\n",
              "        google.colab.kernel.accessAllowed ? 'block' : 'none';\n",
              "    })();\n",
              "  </script>\n",
              "</div>\n",
              "\n",
              "    </div>\n",
              "  </div>\n"
            ],
            "text/plain": [
              "         date         source  subject  \\\n",
              "0  12/12/2023  CoinTelegraph  bitcoin   \n",
              "1  12/12/2023     CryptoNews  bitcoin   \n",
              "2  12/12/2023   CryptoPotato  bitcoin   \n",
              "3  12/12/2023  CoinTelegraph  bitcoin   \n",
              "4  12/12/2023  CoinTelegraph  bitcoin   \n",
              "\n",
              "                                                text  \\\n",
              "0  Bitcoin bulls expectations of $50,000 and high...   \n",
              "1  As the US announces its latest core inflation ...   \n",
              "2  The decline in BTC supply on exchange is consi...   \n",
              "3  Bitcoin is nowhere near done with its bull mar...   \n",
              "4  Major Coinbase shareholders have sold over $14...   \n",
              "\n",
              "                                               title  \\\n",
              "0  Bitcoin derivatives data points to traders' $5...   \n",
              "1  Bitcoin Price Prediction as US Core Inflation ...   \n",
              "2  Bitcoin Supply on Exchanges at 6-Year Low as B...   \n",
              "3  'Take some rest and GO' — Bitcoin price copies...   \n",
              "4  Coinbase co-founder Fred Ehrsam sells $13 mill...   \n",
              "\n",
              "                                                 url textblob_sentiment  \\\n",
              "0  https://cointelegraph.com/news/bitcoin-derivat...           positive   \n",
              "1  https://cryptonews.comhttps://cryptonews.com/n...           positive   \n",
              "2  https://cryptopotato.com/bitcoin-supply-on-exc...            neutral   \n",
              "3  https://cointelegraph.com/news/bitcoin-price-c...           positive   \n",
              "4  https://cointelegraph.com/news/coinbase-co-fou...           negative   \n",
              "\n",
              "   polarity  subjectivity vader_sentiment  close/last     open     high  \\\n",
              "0      0.25          0.50         neutral     40901.2  41395.9  41496.4   \n",
              "1      0.22          0.52        positive     40901.2  41395.9  41496.4   \n",
              "2      0.00          0.00        positive     40901.2  41395.9  41496.4   \n",
              "3      0.05          0.20        positive     40901.2  41395.9  41496.4   \n",
              "4     -0.09          0.38         neutral     40901.2  41395.9  41496.4   \n",
              "\n",
              "       low  \n",
              "0  40649.3  \n",
              "1  40649.3  \n",
              "2  40649.3  \n",
              "3  40649.3  \n",
              "4  40649.3  "
            ]
          },
          "execution_count": 30,
          "metadata": {},
          "output_type": "execute_result"
        }
      ],
      "source": [
        "dataset.head()"
      ]
    },
    {
      "cell_type": "code",
      "execution_count": null,
      "metadata": {
        "id": "IRLzlEe592tt"
      },
      "outputs": [],
      "source": [
        "mapping = {'positive': 1, 'neutral': 0, 'negative': -1}\n",
        "\n",
        "columns = ['vader_sentiment', 'textblob_sentiment']\n",
        "for column in columns:\n",
        "    new_col = column + \"_encoded\"\n",
        "    dataset[new_col] = dataset[column].map(mapping)"
      ]
    },
    {
      "cell_type": "code",
      "execution_count": null,
      "metadata": {
        "colab": {
          "base_uri": "https://localhost:8080/"
        },
        "id": "gLGyvafb92tt",
        "outputId": "b1b4108d-6d77-4969-c50e-51016bc255ac"
      },
      "outputs": [
        {
          "data": {
            "text/plain": [
              "array(['neutral', 'positive', 'negative'], dtype=object)"
            ]
          },
          "execution_count": 32,
          "metadata": {},
          "output_type": "execute_result"
        }
      ],
      "source": [
        "dataset['vader_sentiment'].unique()"
      ]
    },
    {
      "cell_type": "code",
      "execution_count": null,
      "metadata": {
        "colab": {
          "base_uri": "https://localhost:8080/",
          "height": 625
        },
        "id": "u8d7hSEr_ixs",
        "outputId": "7def08d1-5d1b-40a0-ccdb-aa5cfd47e8c1"
      },
      "outputs": [
        {
          "data": {
            "application/vnd.google.colaboratory.intrinsic+json": {
              "summary": "{\n  \"name\": \"dataset\",\n  \"rows\": 3107,\n  \"fields\": [\n    {\n      \"column\": \"date\",\n      \"properties\": {\n        \"dtype\": \"object\",\n        \"num_unique_values\": 239,\n        \"samples\": [\n          \"12/10/2023\",\n          \"06/12/2023\",\n          \"03/05/2023\"\n        ],\n        \"semantic_type\": \"\",\n        \"description\": \"\"\n      }\n    },\n    {\n      \"column\": \"source\",\n      \"properties\": {\n        \"dtype\": \"category\",\n        \"num_unique_values\": 3,\n        \"samples\": [\n          \"CoinTelegraph\",\n          \"CryptoNews\",\n          \"CryptoPotato\"\n        ],\n        \"semantic_type\": \"\",\n        \"description\": \"\"\n      }\n    },\n    {\n      \"column\": \"subject\",\n      \"properties\": {\n        \"dtype\": \"category\",\n        \"num_unique_values\": 1,\n        \"samples\": [\n          \"bitcoin\"\n        ],\n        \"semantic_type\": \"\",\n        \"description\": \"\"\n      }\n    },\n    {\n      \"column\": \"text\",\n      \"properties\": {\n        \"dtype\": \"string\",\n        \"num_unique_values\": 3061,\n        \"samples\": [\n          \"A Bitcoin OG and core developer Luke Dashjr claims his PGP key was compromised, resulting in virtually all his Bitcoin being stolen from him on Dec. 31.\"\n        ],\n        \"semantic_type\": \"\",\n        \"description\": \"\"\n      }\n    },\n    {\n      \"column\": \"title\",\n      \"properties\": {\n        \"dtype\": \"string\",\n        \"num_unique_values\": 3103,\n        \"samples\": [\n          \"Bitcoin bears need BTC price to go below $27K ahead of Friday's $900M options expiry\"\n        ],\n        \"semantic_type\": \"\",\n        \"description\": \"\"\n      }\n    },\n    {\n      \"column\": \"url\",\n      \"properties\": {\n        \"dtype\": \"string\",\n        \"num_unique_values\": 3107,\n        \"samples\": [\n          \"https://cryptonews.comhttps://cryptonews.com/news/blackrock-and-bitwise-update-bitcoin-etf-filings-with-sec.htm\"\n        ],\n        \"semantic_type\": \"\",\n        \"description\": \"\"\n      }\n    },\n    {\n      \"column\": \"textblob_sentiment\",\n      \"properties\": {\n        \"dtype\": \"category\",\n        \"num_unique_values\": 3,\n        \"samples\": [\n          \"positive\"\n        ],\n        \"semantic_type\": \"\",\n        \"description\": \"\"\n      }\n    },\n    {\n      \"column\": \"polarity\",\n      \"properties\": {\n        \"dtype\": \"number\",\n        \"std\": 0.19883982723918242,\n        \"min\": -1.0,\n        \"max\": 1.0,\n        \"num_unique_values\": 106,\n        \"samples\": [\n          -0.55\n        ],\n        \"semantic_type\": \"\",\n        \"description\": \"\"\n      }\n    },\n    {\n      \"column\": \"subjectivity\",\n      \"properties\": {\n        \"dtype\": \"number\",\n        \"std\": 0.2611736954434604,\n        \"min\": 0.0,\n        \"max\": 1.0,\n        \"num_unique_values\": 93,\n        \"samples\": [\n          0.54\n        ],\n        \"semantic_type\": \"\",\n        \"description\": \"\"\n      }\n    },\n    {\n      \"column\": \"vader_sentiment\",\n      \"properties\": {\n        \"dtype\": \"category\",\n        \"num_unique_values\": 3,\n        \"samples\": [\n          \"neutral\"\n        ],\n        \"semantic_type\": \"\",\n        \"description\": \"\"\n      }\n    },\n    {\n      \"column\": \"close/last\",\n      \"properties\": {\n        \"dtype\": \"number\",\n        \"std\": 7997.256430459977,\n        \"min\": 16396.8,\n        \"max\": 45228.0,\n        \"num_unique_values\": 239,\n        \"samples\": [\n          42083.5\n        ],\n        \"semantic_type\": \"\",\n        \"description\": \"\"\n      }\n    },\n    {\n      \"column\": \"open\",\n      \"properties\": {\n        \"dtype\": \"number\",\n        \"std\": 8083.987832900933,\n        \"min\": 16492.6,\n        \"max\": 46654.0,\n        \"num_unique_values\": 239,\n        \"samples\": [\n          43939.2\n        ],\n        \"semantic_type\": \"\",\n        \"description\": \"\"\n      }\n    },\n    {\n      \"column\": \"high\",\n      \"properties\": {\n        \"dtype\": \"number\",\n        \"std\": 8086.8562604788285,\n        \"min\": 16523.8,\n        \"max\": 45512.0,\n        \"num_unique_values\": 238,\n        \"samples\": [\n          27945.8\n        ],\n        \"semantic_type\": \"\",\n        \"description\": \"\"\n      }\n    },\n    {\n      \"column\": \"low\",\n      \"properties\": {\n        \"dtype\": \"number\",\n        \"std\": 7875.382693504329,\n        \"min\": 15799.3,\n        \"max\": 44417.0,\n        \"num_unique_values\": 237,\n        \"samples\": [\n          27668.9\n        ],\n        \"semantic_type\": \"\",\n        \"description\": \"\"\n      }\n    },\n    {\n      \"column\": \"vader_sentiment_encoded\",\n      \"properties\": {\n        \"dtype\": \"number\",\n        \"std\": 0,\n        \"min\": -1,\n        \"max\": 1,\n        \"num_unique_values\": 3,\n        \"samples\": [\n          0\n        ],\n        \"semantic_type\": \"\",\n        \"description\": \"\"\n      }\n    },\n    {\n      \"column\": \"textblob_sentiment_encoded\",\n      \"properties\": {\n        \"dtype\": \"number\",\n        \"std\": 0,\n        \"min\": -1,\n        \"max\": 1,\n        \"num_unique_values\": 3,\n        \"samples\": [\n          1\n        ],\n        \"semantic_type\": \"\",\n        \"description\": \"\"\n      }\n    }\n  ]\n}",
              "type": "dataframe",
              "variable_name": "dataset"
            },
            "text/html": [
              "\n",
              "  <div id=\"df-e716d35a-4549-4858-94ea-1826f97ede73\" class=\"colab-df-container\">\n",
              "    <div>\n",
              "<style scoped>\n",
              "    .dataframe tbody tr th:only-of-type {\n",
              "        vertical-align: middle;\n",
              "    }\n",
              "\n",
              "    .dataframe tbody tr th {\n",
              "        vertical-align: top;\n",
              "    }\n",
              "\n",
              "    .dataframe thead th {\n",
              "        text-align: right;\n",
              "    }\n",
              "</style>\n",
              "<table border=\"1\" class=\"dataframe\">\n",
              "  <thead>\n",
              "    <tr style=\"text-align: right;\">\n",
              "      <th></th>\n",
              "      <th>date</th>\n",
              "      <th>source</th>\n",
              "      <th>subject</th>\n",
              "      <th>text</th>\n",
              "      <th>title</th>\n",
              "      <th>url</th>\n",
              "      <th>textblob_sentiment</th>\n",
              "      <th>polarity</th>\n",
              "      <th>subjectivity</th>\n",
              "      <th>vader_sentiment</th>\n",
              "      <th>close/last</th>\n",
              "      <th>open</th>\n",
              "      <th>high</th>\n",
              "      <th>low</th>\n",
              "      <th>vader_sentiment_encoded</th>\n",
              "      <th>textblob_sentiment_encoded</th>\n",
              "    </tr>\n",
              "  </thead>\n",
              "  <tbody>\n",
              "    <tr>\n",
              "      <th>0</th>\n",
              "      <td>12/12/2023</td>\n",
              "      <td>CoinTelegraph</td>\n",
              "      <td>bitcoin</td>\n",
              "      <td>Bitcoin bulls expectations of $50,000 and high...</td>\n",
              "      <td>Bitcoin derivatives data points to traders' $5...</td>\n",
              "      <td>https://cointelegraph.com/news/bitcoin-derivat...</td>\n",
              "      <td>positive</td>\n",
              "      <td>0.25</td>\n",
              "      <td>0.50</td>\n",
              "      <td>neutral</td>\n",
              "      <td>40901.2</td>\n",
              "      <td>41395.9</td>\n",
              "      <td>41496.4</td>\n",
              "      <td>40649.3</td>\n",
              "      <td>0</td>\n",
              "      <td>1</td>\n",
              "    </tr>\n",
              "    <tr>\n",
              "      <th>1</th>\n",
              "      <td>12/12/2023</td>\n",
              "      <td>CryptoNews</td>\n",
              "      <td>bitcoin</td>\n",
              "      <td>As the US announces its latest core inflation ...</td>\n",
              "      <td>Bitcoin Price Prediction as US Core Inflation ...</td>\n",
              "      <td>https://cryptonews.comhttps://cryptonews.com/n...</td>\n",
              "      <td>positive</td>\n",
              "      <td>0.22</td>\n",
              "      <td>0.52</td>\n",
              "      <td>positive</td>\n",
              "      <td>40901.2</td>\n",
              "      <td>41395.9</td>\n",
              "      <td>41496.4</td>\n",
              "      <td>40649.3</td>\n",
              "      <td>1</td>\n",
              "      <td>1</td>\n",
              "    </tr>\n",
              "    <tr>\n",
              "      <th>2</th>\n",
              "      <td>12/12/2023</td>\n",
              "      <td>CryptoPotato</td>\n",
              "      <td>bitcoin</td>\n",
              "      <td>The decline in BTC supply on exchange is consi...</td>\n",
              "      <td>Bitcoin Supply on Exchanges at 6-Year Low as B...</td>\n",
              "      <td>https://cryptopotato.com/bitcoin-supply-on-exc...</td>\n",
              "      <td>neutral</td>\n",
              "      <td>0.00</td>\n",
              "      <td>0.00</td>\n",
              "      <td>positive</td>\n",
              "      <td>40901.2</td>\n",
              "      <td>41395.9</td>\n",
              "      <td>41496.4</td>\n",
              "      <td>40649.3</td>\n",
              "      <td>1</td>\n",
              "      <td>0</td>\n",
              "    </tr>\n",
              "    <tr>\n",
              "      <th>3</th>\n",
              "      <td>12/12/2023</td>\n",
              "      <td>CoinTelegraph</td>\n",
              "      <td>bitcoin</td>\n",
              "      <td>Bitcoin is nowhere near done with its bull mar...</td>\n",
              "      <td>'Take some rest and GO' — Bitcoin price copies...</td>\n",
              "      <td>https://cointelegraph.com/news/bitcoin-price-c...</td>\n",
              "      <td>positive</td>\n",
              "      <td>0.05</td>\n",
              "      <td>0.20</td>\n",
              "      <td>positive</td>\n",
              "      <td>40901.2</td>\n",
              "      <td>41395.9</td>\n",
              "      <td>41496.4</td>\n",
              "      <td>40649.3</td>\n",
              "      <td>1</td>\n",
              "      <td>1</td>\n",
              "    </tr>\n",
              "    <tr>\n",
              "      <th>4</th>\n",
              "      <td>12/12/2023</td>\n",
              "      <td>CoinTelegraph</td>\n",
              "      <td>bitcoin</td>\n",
              "      <td>Major Coinbase shareholders have sold over $14...</td>\n",
              "      <td>Coinbase co-founder Fred Ehrsam sells $13 mill...</td>\n",
              "      <td>https://cointelegraph.com/news/coinbase-co-fou...</td>\n",
              "      <td>negative</td>\n",
              "      <td>-0.09</td>\n",
              "      <td>0.38</td>\n",
              "      <td>neutral</td>\n",
              "      <td>40901.2</td>\n",
              "      <td>41395.9</td>\n",
              "      <td>41496.4</td>\n",
              "      <td>40649.3</td>\n",
              "      <td>0</td>\n",
              "      <td>-1</td>\n",
              "    </tr>\n",
              "  </tbody>\n",
              "</table>\n",
              "</div>\n",
              "    <div class=\"colab-df-buttons\">\n",
              "\n",
              "  <div class=\"colab-df-container\">\n",
              "    <button class=\"colab-df-convert\" onclick=\"convertToInteractive('df-e716d35a-4549-4858-94ea-1826f97ede73')\"\n",
              "            title=\"Convert this dataframe to an interactive table.\"\n",
              "            style=\"display:none;\">\n",
              "\n",
              "  <svg xmlns=\"http://www.w3.org/2000/svg\" height=\"24px\" viewBox=\"0 -960 960 960\">\n",
              "    <path d=\"M120-120v-720h720v720H120Zm60-500h600v-160H180v160Zm220 220h160v-160H400v160Zm0 220h160v-160H400v160ZM180-400h160v-160H180v160Zm440 0h160v-160H620v160ZM180-180h160v-160H180v160Zm440 0h160v-160H620v160Z\"/>\n",
              "  </svg>\n",
              "    </button>\n",
              "\n",
              "  <style>\n",
              "    .colab-df-container {\n",
              "      display:flex;\n",
              "      gap: 12px;\n",
              "    }\n",
              "\n",
              "    .colab-df-convert {\n",
              "      background-color: #E8F0FE;\n",
              "      border: none;\n",
              "      border-radius: 50%;\n",
              "      cursor: pointer;\n",
              "      display: none;\n",
              "      fill: #1967D2;\n",
              "      height: 32px;\n",
              "      padding: 0 0 0 0;\n",
              "      width: 32px;\n",
              "    }\n",
              "\n",
              "    .colab-df-convert:hover {\n",
              "      background-color: #E2EBFA;\n",
              "      box-shadow: 0px 1px 2px rgba(60, 64, 67, 0.3), 0px 1px 3px 1px rgba(60, 64, 67, 0.15);\n",
              "      fill: #174EA6;\n",
              "    }\n",
              "\n",
              "    .colab-df-buttons div {\n",
              "      margin-bottom: 4px;\n",
              "    }\n",
              "\n",
              "    [theme=dark] .colab-df-convert {\n",
              "      background-color: #3B4455;\n",
              "      fill: #D2E3FC;\n",
              "    }\n",
              "\n",
              "    [theme=dark] .colab-df-convert:hover {\n",
              "      background-color: #434B5C;\n",
              "      box-shadow: 0px 1px 3px 1px rgba(0, 0, 0, 0.15);\n",
              "      filter: drop-shadow(0px 1px 2px rgba(0, 0, 0, 0.3));\n",
              "      fill: #FFFFFF;\n",
              "    }\n",
              "  </style>\n",
              "\n",
              "    <script>\n",
              "      const buttonEl =\n",
              "        document.querySelector('#df-e716d35a-4549-4858-94ea-1826f97ede73 button.colab-df-convert');\n",
              "      buttonEl.style.display =\n",
              "        google.colab.kernel.accessAllowed ? 'block' : 'none';\n",
              "\n",
              "      async function convertToInteractive(key) {\n",
              "        const element = document.querySelector('#df-e716d35a-4549-4858-94ea-1826f97ede73');\n",
              "        const dataTable =\n",
              "          await google.colab.kernel.invokeFunction('convertToInteractive',\n",
              "                                                    [key], {});\n",
              "        if (!dataTable) return;\n",
              "\n",
              "        const docLinkHtml = 'Like what you see? Visit the ' +\n",
              "          '<a target=\"_blank\" href=https://colab.research.google.com/notebooks/data_table.ipynb>data table notebook</a>'\n",
              "          + ' to learn more about interactive tables.';\n",
              "        element.innerHTML = '';\n",
              "        dataTable['output_type'] = 'display_data';\n",
              "        await google.colab.output.renderOutput(dataTable, element);\n",
              "        const docLink = document.createElement('div');\n",
              "        docLink.innerHTML = docLinkHtml;\n",
              "        element.appendChild(docLink);\n",
              "      }\n",
              "    </script>\n",
              "  </div>\n",
              "\n",
              "\n",
              "<div id=\"df-a043e7f9-40b1-45b7-b5d2-4968fe5b453e\">\n",
              "  <button class=\"colab-df-quickchart\" onclick=\"quickchart('df-a043e7f9-40b1-45b7-b5d2-4968fe5b453e')\"\n",
              "            title=\"Suggest charts\"\n",
              "            style=\"display:none;\">\n",
              "\n",
              "<svg xmlns=\"http://www.w3.org/2000/svg\" height=\"24px\"viewBox=\"0 0 24 24\"\n",
              "     width=\"24px\">\n",
              "    <g>\n",
              "        <path d=\"M19 3H5c-1.1 0-2 .9-2 2v14c0 1.1.9 2 2 2h14c1.1 0 2-.9 2-2V5c0-1.1-.9-2-2-2zM9 17H7v-7h2v7zm4 0h-2V7h2v10zm4 0h-2v-4h2v4z\"/>\n",
              "    </g>\n",
              "</svg>\n",
              "  </button>\n",
              "\n",
              "<style>\n",
              "  .colab-df-quickchart {\n",
              "      --bg-color: #E8F0FE;\n",
              "      --fill-color: #1967D2;\n",
              "      --hover-bg-color: #E2EBFA;\n",
              "      --hover-fill-color: #174EA6;\n",
              "      --disabled-fill-color: #AAA;\n",
              "      --disabled-bg-color: #DDD;\n",
              "  }\n",
              "\n",
              "  [theme=dark] .colab-df-quickchart {\n",
              "      --bg-color: #3B4455;\n",
              "      --fill-color: #D2E3FC;\n",
              "      --hover-bg-color: #434B5C;\n",
              "      --hover-fill-color: #FFFFFF;\n",
              "      --disabled-bg-color: #3B4455;\n",
              "      --disabled-fill-color: #666;\n",
              "  }\n",
              "\n",
              "  .colab-df-quickchart {\n",
              "    background-color: var(--bg-color);\n",
              "    border: none;\n",
              "    border-radius: 50%;\n",
              "    cursor: pointer;\n",
              "    display: none;\n",
              "    fill: var(--fill-color);\n",
              "    height: 32px;\n",
              "    padding: 0;\n",
              "    width: 32px;\n",
              "  }\n",
              "\n",
              "  .colab-df-quickchart:hover {\n",
              "    background-color: var(--hover-bg-color);\n",
              "    box-shadow: 0 1px 2px rgba(60, 64, 67, 0.3), 0 1px 3px 1px rgba(60, 64, 67, 0.15);\n",
              "    fill: var(--button-hover-fill-color);\n",
              "  }\n",
              "\n",
              "  .colab-df-quickchart-complete:disabled,\n",
              "  .colab-df-quickchart-complete:disabled:hover {\n",
              "    background-color: var(--disabled-bg-color);\n",
              "    fill: var(--disabled-fill-color);\n",
              "    box-shadow: none;\n",
              "  }\n",
              "\n",
              "  .colab-df-spinner {\n",
              "    border: 2px solid var(--fill-color);\n",
              "    border-color: transparent;\n",
              "    border-bottom-color: var(--fill-color);\n",
              "    animation:\n",
              "      spin 1s steps(1) infinite;\n",
              "  }\n",
              "\n",
              "  @keyframes spin {\n",
              "    0% {\n",
              "      border-color: transparent;\n",
              "      border-bottom-color: var(--fill-color);\n",
              "      border-left-color: var(--fill-color);\n",
              "    }\n",
              "    20% {\n",
              "      border-color: transparent;\n",
              "      border-left-color: var(--fill-color);\n",
              "      border-top-color: var(--fill-color);\n",
              "    }\n",
              "    30% {\n",
              "      border-color: transparent;\n",
              "      border-left-color: var(--fill-color);\n",
              "      border-top-color: var(--fill-color);\n",
              "      border-right-color: var(--fill-color);\n",
              "    }\n",
              "    40% {\n",
              "      border-color: transparent;\n",
              "      border-right-color: var(--fill-color);\n",
              "      border-top-color: var(--fill-color);\n",
              "    }\n",
              "    60% {\n",
              "      border-color: transparent;\n",
              "      border-right-color: var(--fill-color);\n",
              "    }\n",
              "    80% {\n",
              "      border-color: transparent;\n",
              "      border-right-color: var(--fill-color);\n",
              "      border-bottom-color: var(--fill-color);\n",
              "    }\n",
              "    90% {\n",
              "      border-color: transparent;\n",
              "      border-bottom-color: var(--fill-color);\n",
              "    }\n",
              "  }\n",
              "</style>\n",
              "\n",
              "  <script>\n",
              "    async function quickchart(key) {\n",
              "      const quickchartButtonEl =\n",
              "        document.querySelector('#' + key + ' button');\n",
              "      quickchartButtonEl.disabled = true;  // To prevent multiple clicks.\n",
              "      quickchartButtonEl.classList.add('colab-df-spinner');\n",
              "      try {\n",
              "        const charts = await google.colab.kernel.invokeFunction(\n",
              "            'suggestCharts', [key], {});\n",
              "      } catch (error) {\n",
              "        console.error('Error during call to suggestCharts:', error);\n",
              "      }\n",
              "      quickchartButtonEl.classList.remove('colab-df-spinner');\n",
              "      quickchartButtonEl.classList.add('colab-df-quickchart-complete');\n",
              "    }\n",
              "    (() => {\n",
              "      let quickchartButtonEl =\n",
              "        document.querySelector('#df-a043e7f9-40b1-45b7-b5d2-4968fe5b453e button');\n",
              "      quickchartButtonEl.style.display =\n",
              "        google.colab.kernel.accessAllowed ? 'block' : 'none';\n",
              "    })();\n",
              "  </script>\n",
              "</div>\n",
              "\n",
              "    </div>\n",
              "  </div>\n"
            ],
            "text/plain": [
              "         date         source  subject  \\\n",
              "0  12/12/2023  CoinTelegraph  bitcoin   \n",
              "1  12/12/2023     CryptoNews  bitcoin   \n",
              "2  12/12/2023   CryptoPotato  bitcoin   \n",
              "3  12/12/2023  CoinTelegraph  bitcoin   \n",
              "4  12/12/2023  CoinTelegraph  bitcoin   \n",
              "\n",
              "                                                text  \\\n",
              "0  Bitcoin bulls expectations of $50,000 and high...   \n",
              "1  As the US announces its latest core inflation ...   \n",
              "2  The decline in BTC supply on exchange is consi...   \n",
              "3  Bitcoin is nowhere near done with its bull mar...   \n",
              "4  Major Coinbase shareholders have sold over $14...   \n",
              "\n",
              "                                               title  \\\n",
              "0  Bitcoin derivatives data points to traders' $5...   \n",
              "1  Bitcoin Price Prediction as US Core Inflation ...   \n",
              "2  Bitcoin Supply on Exchanges at 6-Year Low as B...   \n",
              "3  'Take some rest and GO' — Bitcoin price copies...   \n",
              "4  Coinbase co-founder Fred Ehrsam sells $13 mill...   \n",
              "\n",
              "                                                 url textblob_sentiment  \\\n",
              "0  https://cointelegraph.com/news/bitcoin-derivat...           positive   \n",
              "1  https://cryptonews.comhttps://cryptonews.com/n...           positive   \n",
              "2  https://cryptopotato.com/bitcoin-supply-on-exc...            neutral   \n",
              "3  https://cointelegraph.com/news/bitcoin-price-c...           positive   \n",
              "4  https://cointelegraph.com/news/coinbase-co-fou...           negative   \n",
              "\n",
              "   polarity  subjectivity vader_sentiment  close/last     open     high  \\\n",
              "0      0.25          0.50         neutral     40901.2  41395.9  41496.4   \n",
              "1      0.22          0.52        positive     40901.2  41395.9  41496.4   \n",
              "2      0.00          0.00        positive     40901.2  41395.9  41496.4   \n",
              "3      0.05          0.20        positive     40901.2  41395.9  41496.4   \n",
              "4     -0.09          0.38         neutral     40901.2  41395.9  41496.4   \n",
              "\n",
              "       low  vader_sentiment_encoded  textblob_sentiment_encoded  \n",
              "0  40649.3                        0                           1  \n",
              "1  40649.3                        1                           1  \n",
              "2  40649.3                        1                           0  \n",
              "3  40649.3                        1                           1  \n",
              "4  40649.3                        0                          -1  "
            ]
          },
          "execution_count": 33,
          "metadata": {},
          "output_type": "execute_result"
        }
      ],
      "source": [
        "dataset.head()"
      ]
    },
    {
      "cell_type": "code",
      "execution_count": null,
      "metadata": {
        "id": "z6cv1KNo92tt"
      },
      "outputs": [],
      "source": [
        "from sklearn.preprocessing import MinMaxScaler\n",
        "import seaborn as sns"
      ]
    },
    {
      "cell_type": "code",
      "execution_count": null,
      "metadata": {
        "id": "RzqUCOT8_dc9"
      },
      "outputs": [],
      "source": [
        "corr_features = ['polarity','subjectivity','close/last', 'open', 'high', 'low',\"vader_sentiment_encoded\", \"textblob_sentiment_encoded\"]"
      ]
    },
    {
      "cell_type": "code",
      "execution_count": null,
      "metadata": {
        "id": "O-5V-jf5_uly"
      },
      "outputs": [],
      "source": [
        "corr_matrix = dataset[corr_features].corr()"
      ]
    },
    {
      "cell_type": "code",
      "execution_count": null,
      "metadata": {
        "colab": {
          "base_uri": "https://localhost:8080/",
          "height": 576
        },
        "id": "feSAkxk4_y1Y",
        "outputId": "8664cebd-97ac-4f79-88b3-46f7680c0c38"
      },
      "outputs": [
        {
          "data": {
            "text/plain": [
              "<Axes: >"
            ]
          },
          "execution_count": 37,
          "metadata": {},
          "output_type": "execute_result"
        },
        {
          "data": {
            "image/png": "[encoded data removed]",
            "text/plain": [
              "<Figure size 640x480 with 2 Axes>"
            ]
          },
          "metadata": {},
          "output_type": "display_data"
        }
      ],
      "source": [
        "sns.heatmap(corr_matrix, annot=True, cmap='coolwarm', fmt=\".2f\")"
      ]
    },
    {
      "cell_type": "code",
      "execution_count": null,
      "metadata": {
        "id": "GxBx3tkj92tt"
      },
      "outputs": [],
      "source": [
        "features = ['date','close/last', 'open', 'high', 'low']\n",
        "#features = ['date', 'close/last']"
      ]
    },
    {
      "cell_type": "code",
      "execution_count": null,
      "metadata": {
        "id": "YWnES6a492tt"
      },
      "outputs": [],
      "source": [
        "values = dataset[features]"
      ]
    },
    {
      "cell_type": "code",
      "execution_count": null,
      "metadata": {
        "colab": {
          "base_uri": "https://localhost:8080/"
        },
        "id": "7GPBvQaQM5RK",
        "outputId": "c8c9ace3-3de6-4986-a88d-95ef4a89564d"
      },
      "outputs": [
        {
          "name": "stderr",
          "output_type": "stream",
          "text": [
            "<ipython-input-40-3c646f190c22>:1: SettingWithCopyWarning: \n",
            "A value is trying to be set on a copy of a slice from a DataFrame.\n",
            "Try using .loc[row_indexer,col_indexer] = value instead\n",
            "\n",
            "See the caveats in the documentation: https://pandas.pydata.org/pandas-docs/stable/user_guide/indexing.html#returning-a-view-versus-a-copy\n",
            "  values['date'] = pd.to_datetime(values['date'])\n"
          ]
        }
      ],
      "source": [
        "values['date'] = pd.to_datetime(values['date'])"
      ]
    },
    {
      "cell_type": "code",
      "execution_count": null,
      "metadata": {
        "colab": {
          "base_uri": "https://localhost:8080/"
        },
        "id": "nPDHkN3AMhUU",
        "outputId": "3fa68000-9e37-4ffa-ef44-4f9798eb21f8"
      },
      "outputs": [
        {
          "data": {
            "text/plain": [
              "date          datetime64[ns]\n",
              "close/last           float64\n",
              "open                 float64\n",
              "high                 float64\n",
              "low                  float64\n",
              "dtype: object"
            ]
          },
          "execution_count": 41,
          "metadata": {},
          "output_type": "execute_result"
        }
      ],
      "source": [
        "values.dtypes"
      ]
    },
    {
      "cell_type": "code",
      "execution_count": null,
      "metadata": {
        "colab": {
          "base_uri": "https://localhost:8080/"
        },
        "id": "2qzY5aMD92tu",
        "outputId": "3fc02a37-f4ea-460f-f736-cb8498daf6d2"
      },
      "outputs": [
        {
          "name": "stdout",
          "output_type": "stream",
          "text": [
            "Requirement already satisfied: keras in /usr/local/lib/python3.10/dist-packages (2.15.0)\n"
          ]
        }
      ],
      "source": [
        "!pip install keras"
      ]
    },
    {
      "cell_type": "code",
      "execution_count": null,
      "metadata": {
        "id": "21d8-ecK92tu"
      },
      "outputs": [],
      "source": [
        "from sklearn.model_selection import train_test_split\n",
        "from datetime import datetime\n",
        "\n",
        "split_percentage = 0.80  # 80% train, 20% test\n",
        "split_index = int(len(values) * split_percentage)\n",
        "\n",
        "lstm_data = values[['date','close/last', 'open', 'high','low']]\n",
        "\n",
        "X = lstm_data.drop('close/last', axis=1)\n",
        "y = lstm_data['close/last']\n",
        "\n",
        "X_train, X_test, y_train, y_test = train_test_split(X, y, test_size=1-split_percentage, shuffle=False)\n",
        "\n",
        "scaler = MinMaxScaler(feature_range=(0, 1))\n",
        "X_train['date'] = X_train['date'].apply(lambda x: x.timestamp())\n",
        "X_test['date'] = X_test['date'].apply(lambda x: x.timestamp())\n",
        "y_train = scaler.fit_transform(y_train.to_numpy().reshape(-1, 1)).flatten()\n",
        "y_test = scaler.fit_transform(y_test.to_numpy().reshape(-1, 1)).flatten()\n",
        "\n",
        "X_train = X_train.to_numpy()\n",
        "X_test = X_test.to_numpy()\n",
        "\n",
        "#Process lstm_data from dataframe to lstm input\n",
        "lstm_train_data = scaler.fit_transform(X_train)\n",
        "lstm_test_data = scaler.fit_transform(X_test)\n",
        "lstm_train_data = lstm_train_data.reshape((lstm_train_data.shape[0], 1, lstm_train_data.shape[1]))\n",
        "lstm_test_data = lstm_test_data.reshape((lstm_test_data.shape[0], 1, lstm_test_data.shape[1]))"
      ]
    },
    {
      "cell_type": "code",
      "execution_count": null,
      "metadata": {
        "colab": {
          "base_uri": "https://localhost:8080/",
          "height": 1000
        },
        "id": "XTBhnINF92tu",
        "outputId": "fa2ff7cd-00dc-4fe0-e42a-765742cb02a5"
      },
      "outputs": [
        {
          "name": "stdout",
          "output_type": "stream",
          "text": [
            "Epoch 1/50\n",
            "35/35 - 6s - loss: 0.4403 - val_loss: 0.4417 - 6s/epoch - 161ms/step\n",
            "Epoch 2/50\n",
            "35/35 - 0s - loss: 0.3518 - val_loss: 0.3592 - 243ms/epoch - 7ms/step\n",
            "Epoch 3/50\n",
            "35/35 - 0s - loss: 0.2656 - val_loss: 0.2984 - 174ms/epoch - 5ms/step\n",
            "Epoch 4/50\n",
            "35/35 - 0s - loss: 0.1849 - val_loss: 0.2575 - 331ms/epoch - 9ms/step\n",
            "Epoch 5/50\n",
            "35/35 - 0s - loss: 0.1325 - val_loss: 0.2271 - 270ms/epoch - 8ms/step\n",
            "Epoch 6/50\n",
            "35/35 - 0s - loss: 0.1162 - val_loss: 0.2035 - 291ms/epoch - 8ms/step\n",
            "Epoch 7/50\n",
            "35/35 - 1s - loss: 0.1033 - val_loss: 0.1783 - 584ms/epoch - 17ms/step\n",
            "Epoch 8/50\n",
            "35/35 - 1s - loss: 0.0884 - val_loss: 0.1486 - 640ms/epoch - 18ms/step\n",
            "Epoch 9/50\n",
            "35/35 - 1s - loss: 0.0712 - val_loss: 0.1133 - 753ms/epoch - 22ms/step\n",
            "Epoch 10/50\n",
            "35/35 - 1s - loss: 0.0511 - val_loss: 0.0726 - 576ms/epoch - 16ms/step\n",
            "Epoch 11/50\n",
            "35/35 - 1s - loss: 0.0301 - val_loss: 0.0374 - 623ms/epoch - 18ms/step\n",
            "Epoch 12/50\n",
            "35/35 - 0s - loss: 0.0171 - val_loss: 0.0291 - 405ms/epoch - 12ms/step\n",
            "Epoch 13/50\n",
            "35/35 - 0s - loss: 0.0152 - val_loss: 0.0285 - 493ms/epoch - 14ms/step\n",
            "Epoch 14/50\n",
            "35/35 - 0s - loss: 0.0148 - val_loss: 0.0286 - 280ms/epoch - 8ms/step\n",
            "Epoch 15/50\n",
            "35/35 - 0s - loss: 0.0145 - val_loss: 0.0261 - 337ms/epoch - 10ms/step\n",
            "Epoch 16/50\n",
            "35/35 - 0s - loss: 0.0141 - val_loss: 0.0256 - 294ms/epoch - 8ms/step\n",
            "Epoch 17/50\n",
            "35/35 - 0s - loss: 0.0137 - val_loss: 0.0238 - 322ms/epoch - 9ms/step\n",
            "Epoch 18/50\n",
            "35/35 - 0s - loss: 0.0135 - val_loss: 0.0245 - 185ms/epoch - 5ms/step\n",
            "Epoch 19/50\n",
            "35/35 - 0s - loss: 0.0133 - val_loss: 0.0234 - 214ms/epoch - 6ms/step\n",
            "Epoch 20/50\n",
            "35/35 - 0s - loss: 0.0129 - val_loss: 0.0243 - 434ms/epoch - 12ms/step\n",
            "Epoch 21/50\n",
            "35/35 - 0s - loss: 0.0126 - val_loss: 0.0241 - 281ms/epoch - 8ms/step\n",
            "Epoch 22/50\n",
            "35/35 - 0s - loss: 0.0123 - val_loss: 0.0234 - 276ms/epoch - 8ms/step\n",
            "Epoch 23/50\n",
            "35/35 - 0s - loss: 0.0121 - val_loss: 0.0231 - 240ms/epoch - 7ms/step\n",
            "Epoch 24/50\n",
            "35/35 - 0s - loss: 0.0120 - val_loss: 0.0229 - 218ms/epoch - 6ms/step\n",
            "Epoch 25/50\n",
            "35/35 - 0s - loss: 0.0116 - val_loss: 0.0231 - 419ms/epoch - 12ms/step\n",
            "Epoch 26/50\n",
            "35/35 - 0s - loss: 0.0116 - val_loss: 0.0224 - 214ms/epoch - 6ms/step\n",
            "Epoch 27/50\n",
            "35/35 - 0s - loss: 0.0113 - val_loss: 0.0223 - 281ms/epoch - 8ms/step\n",
            "Epoch 28/50\n",
            "35/35 - 0s - loss: 0.0111 - val_loss: 0.0229 - 245ms/epoch - 7ms/step\n",
            "Epoch 29/50\n",
            "35/35 - 0s - loss: 0.0109 - val_loss: 0.0232 - 302ms/epoch - 9ms/step\n",
            "Epoch 30/50\n",
            "35/35 - 0s - loss: 0.0108 - val_loss: 0.0217 - 272ms/epoch - 8ms/step\n",
            "Epoch 31/50\n",
            "35/35 - 0s - loss: 0.0107 - val_loss: 0.0220 - 298ms/epoch - 9ms/step\n",
            "Epoch 32/50\n",
            "35/35 - 0s - loss: 0.0106 - val_loss: 0.0220 - 317ms/epoch - 9ms/step\n",
            "Epoch 33/50\n",
            "35/35 - 0s - loss: 0.0106 - val_loss: 0.0208 - 351ms/epoch - 10ms/step\n",
            "Epoch 34/50\n",
            "35/35 - 0s - loss: 0.0106 - val_loss: 0.0217 - 307ms/epoch - 9ms/step\n",
            "Epoch 35/50\n",
            "35/35 - 0s - loss: 0.0103 - val_loss: 0.0215 - 209ms/epoch - 6ms/step\n",
            "Epoch 36/50\n",
            "35/35 - 0s - loss: 0.0102 - val_loss: 0.0212 - 366ms/epoch - 10ms/step\n",
            "Epoch 37/50\n",
            "35/35 - 0s - loss: 0.0102 - val_loss: 0.0210 - 374ms/epoch - 11ms/step\n",
            "Epoch 38/50\n",
            "35/35 - 0s - loss: 0.0101 - val_loss: 0.0212 - 215ms/epoch - 6ms/step\n",
            "Epoch 39/50\n",
            "35/35 - 0s - loss: 0.0101 - val_loss: 0.0203 - 284ms/epoch - 8ms/step\n",
            "Epoch 40/50\n",
            "35/35 - 0s - loss: 0.0102 - val_loss: 0.0213 - 203ms/epoch - 6ms/step\n",
            "Epoch 41/50\n",
            "35/35 - 0s - loss: 0.0100 - val_loss: 0.0202 - 180ms/epoch - 5ms/step\n",
            "Epoch 42/50\n",
            "35/35 - 0s - loss: 0.0098 - val_loss: 0.0203 - 269ms/epoch - 8ms/step\n",
            "Epoch 43/50\n",
            "35/35 - 0s - loss: 0.0098 - val_loss: 0.0204 - 264ms/epoch - 8ms/step\n",
            "Epoch 44/50\n",
            "35/35 - 0s - loss: 0.0096 - val_loss: 0.0200 - 270ms/epoch - 8ms/step\n",
            "Epoch 45/50\n",
            "35/35 - 0s - loss: 0.0095 - val_loss: 0.0198 - 369ms/epoch - 11ms/step\n",
            "Epoch 46/50\n",
            "35/35 - 0s - loss: 0.0094 - val_loss: 0.0200 - 362ms/epoch - 10ms/step\n",
            "Epoch 47/50\n",
            "35/35 - 0s - loss: 0.0095 - val_loss: 0.0198 - 283ms/epoch - 8ms/step\n",
            "Epoch 48/50\n",
            "35/35 - 0s - loss: 0.0093 - val_loss: 0.0197 - 402ms/epoch - 11ms/step\n",
            "Epoch 49/50\n",
            "35/35 - 0s - loss: 0.0092 - val_loss: 0.0197 - 470ms/epoch - 13ms/step\n",
            "Epoch 50/50\n",
            "35/35 - 1s - loss: 0.0092 - val_loss: 0.0190 - 551ms/epoch - 16ms/step\n"
          ]
        },
        {
          "data": {
            "image/png": "[encoded data removed]",
            "text/plain": [
              "<Figure size 640x480 with 1 Axes>"
            ]
          },
          "metadata": {},
          "output_type": "display_data"
        }
      ],
      "source": [
        "from sklearn.metrics import mean_squared_error\n",
        "from keras.models import Sequential\n",
        "from keras.layers import Dense\n",
        "from keras.layers import LSTM\n",
        "from matplotlib import pyplot\n",
        "\n",
        "model = Sequential()\n",
        "model.add(LSTM(4))\n",
        "model.add(Dense(1))\n",
        "model.compile(loss='mae', optimizer='adam')\n",
        "\n",
        "history = model.fit(lstm_train_data, y_train, epochs=50, batch_size=72, validation_data=(lstm_test_data, y_test), verbose=2, shuffle=True)\n",
        "\n",
        "pyplot.plot(history.history['loss'], label='train')\n",
        "pyplot.plot(history.history['val_loss'], label='test')\n",
        "pyplot.legend()\n",
        "pyplot.show()"
      ]
    },
    {
      "cell_type": "code",
      "execution_count": null,
      "metadata": {
        "colab": {
          "base_uri": "https://localhost:8080/"
        },
        "id": "s3PWPSYD92tu",
        "outputId": "1e2b564d-fa2d-4bfa-fe9a-3c6caa7a97d0"
      },
      "outputs": [
        {
          "name": "stdout",
          "output_type": "stream",
          "text": [
            "20/20 [==============================] - 0s 4ms/step\n"
          ]
        }
      ],
      "source": [
        "from math import sqrt\n",
        "from numpy import concatenate\n",
        "import numpy as np\n",
        "import pandas as pd\n",
        "import random\n",
        "import matplotlib.pyplot as plt\n",
        "import tensorflow as tf\n",
        "from tensorflow.keras.models import Sequential\n",
        "from tensorflow.keras.layers import InputLayer, LSTM, Dense, Dropout, Conv1D, Reshape\n",
        "from tensorflow.keras.optimizers import Adam\n",
        "from sklearn.preprocessing import MinMaxScaler\n",
        "from sklearn.metrics import r2_score, mean_absolute_percentage_error, mean_squared_error, mean_absolute_error\n",
        "\n",
        "yhat = model.predict(lstm_test_data)"
      ]
    },
    {
      "cell_type": "code",
      "execution_count": null,
      "metadata": {
        "id": "YxTKYtpXh5_i"
      },
      "outputs": [],
      "source": [
        "lstm_mse = mean_squared_error(y_test, yhat)"
      ]
    },
    {
      "cell_type": "code",
      "execution_count": null,
      "metadata": {
        "id": "4uF0OaJKh-4C"
      },
      "outputs": [],
      "source": [
        "lstm_rmse = np.sqrt(lstm_mse)"
      ]
    },
    {
      "cell_type": "code",
      "execution_count": null,
      "metadata": {
        "id": "lJO88HmhiCnA"
      },
      "outputs": [],
      "source": [
        "lstm_r2_score = r2_score(y_test, yhat)"
      ]
    },
    {
      "cell_type": "code",
      "execution_count": null,
      "metadata": {
        "id": "VIFgv64WiJnM"
      },
      "outputs": [],
      "source": [
        "lstm_mae = mean_absolute_error(y_test, yhat)"
      ]
    },
    {
      "cell_type": "code",
      "execution_count": null,
      "metadata": {
        "id": "R-cZyJFOiNuh"
      },
      "outputs": [],
      "source": [
        "lstm_mape = mean_absolute_percentage_error(y_test, yhat)"
      ]
    },
    {
      "cell_type": "code",
      "execution_count": null,
      "metadata": {
        "colab": {
          "base_uri": "https://localhost:8080/",
          "height": 472
        },
        "id": "LQAfNWIAASqF",
        "outputId": "ae82edfe-2fca-412b-c7dd-45387b677747"
      },
      "outputs": [
        {
          "data": {
            "image/png": "[encoded data removed]",
            "text/plain": [
              "<Figure size 640x480 with 1 Axes>"
            ]
          },
          "metadata": {},
          "output_type": "display_data"
        }
      ],
      "source": [
        "import matplotlib.pyplot as plt\n",
        "\n",
        "# Plot actual vs. predicted pollution\n",
        "plt.plot(y_test, label='Actual')\n",
        "plt.plot(yhat, label='Predicted')\n",
        "plt.xlabel('Time')\n",
        "plt.ylabel('Price')\n",
        "plt.title('Actual vs. Predicted Prices')\n",
        "plt.legend()\n",
        "plt.show()"
      ]
    },
    {
      "cell_type": "code",
      "execution_count": null,
      "metadata": {
        "id": "wLtqaUiyXLM_"
      },
      "outputs": [],
      "source": [
        "SEED = 1"
      ]
    },
    {
      "cell_type": "code",
      "execution_count": null,
      "metadata": {
        "id": "YRTXbFaXeJ7R"
      },
      "outputs": [],
      "source": [
        "time_step = 1"
      ]
    },
    {
      "cell_type": "code",
      "execution_count": null,
      "metadata": {
        "colab": {
          "base_uri": "https://localhost:8080/"
        },
        "id": "jjYA3K-HwFmg",
        "outputId": "01675fea-5548-4a2e-e92c-c64bae1dcf2b"
      },
      "outputs": [
        {
          "data": {
            "text/plain": [
              "(622, 1, 4)"
            ]
          },
          "execution_count": 55,
          "metadata": {},
          "output_type": "execute_result"
        }
      ],
      "source": [
        "lstm_test_data.shape"
      ]
    },
    {
      "cell_type": "code",
      "execution_count": null,
      "metadata": {
        "id": "wHXjFznReLhI"
      },
      "outputs": [],
      "source": [
        "lstm_cnn_train_data = lstm_train_data[:, :, -1]"
      ]
    },
    {
      "cell_type": "code",
      "execution_count": null,
      "metadata": {
        "id": "mfpDpQmtwqkf"
      },
      "outputs": [],
      "source": [
        "lstm_cnn_test_data = lstm_test_data[:, :, -1]"
      ]
    },
    {
      "cell_type": "code",
      "execution_count": null,
      "metadata": {
        "id": "xlkAIx23xMBA"
      },
      "outputs": [],
      "source": [
        "lstm_cnn_train_data = lstm_cnn_train_data.reshape(lstm_cnn_train_data.shape[0], 1, lstm_cnn_train_data.shape[1])\n",
        "lstm_cnn_test_data = lstm_cnn_test_data.reshape(lstm_cnn_test_data.shape[0], 1, lstm_cnn_test_data.shape[1])"
      ]
    },
    {
      "cell_type": "code",
      "execution_count": null,
      "metadata": {
        "id": "hEmAhrdLXHh6"
      },
      "outputs": [],
      "source": [
        "# define the 2D-CNN-LSTM model\n",
        "def build_model(ishape):\n",
        "    # random seed generator for reducibility\n",
        "    print(ishape)\n",
        "    tf.random.set_seed(SEED)\n",
        "    random.seed(SEED)\n",
        "\n",
        "    # initialize parameter\n",
        "    kernel_init = tf.keras.initializers.GlorotNormal(seed=SEED)\n",
        "    bias_init = tf.keras.initializers.Constant(value=0.1)\n",
        "\n",
        "    model = Sequential()\n",
        "    # input layer\n",
        "    model.add(InputLayer(input_shape=ishape))\n",
        "    # conv1D Layer\n",
        "    model.add(Conv1D(filters=128, kernel_size=3, activation='relu', padding='same',\n",
        "                     kernel_initializer=kernel_init, bias_initializer=bias_init))\n",
        "    # dropout Layer\n",
        "    model.add(Dropout(0.062))\n",
        "    # reshape layer\n",
        "    model.add(Reshape((-1, 128)))  # Reshape to (-1, num_features)\n",
        "    # LSTM Layer\n",
        "    model.add(LSTM(units=130, kernel_initializer=kernel_init, bias_initializer=bias_init))\n",
        "    # dense Layer\n",
        "    model.add(Dense(units=122, kernel_initializer=kernel_init, bias_initializer=bias_init))\n",
        "    # output Layer\n",
        "    model.add(Dense(units=1))\n",
        "    # compile the model\n",
        "    model.compile(optimizer=Adam(learning_rate=0.0028), loss='mse')\n",
        "\n",
        "    return model"
      ]
    },
    {
      "cell_type": "code",
      "execution_count": null,
      "metadata": {
        "colab": {
          "base_uri": "https://localhost:8080/"
        },
        "id": "1qY0ZrqlXOzf",
        "outputId": "53da9870-a53b-4b8d-c30b-839d70d34920"
      },
      "outputs": [
        {
          "name": "stdout",
          "output_type": "stream",
          "text": [
            "(1, 1, 1)\n"
          ]
        }
      ],
      "source": [
        "cnn_lstm_model = build_model((1, 1, 1))"
      ]
    },
    {
      "cell_type": "code",
      "execution_count": null,
      "metadata": {
        "colab": {
          "base_uri": "https://localhost:8080/"
        },
        "id": "4c-dsw4sXQj3",
        "outputId": "30fe0e35-1a16-4826-cf6b-854325401d23"
      },
      "outputs": [
        {
          "name": "stdout",
          "output_type": "stream",
          "text": [
            "Model: \"sequential_1\"\n",
            "_________________________________________________________________\n",
            " Layer (type)                Output Shape              Param #   \n",
            "=================================================================\n",
            " conv1d (Conv1D)             (None, 1, 1, 128)         512       \n",
            "                                                                 \n",
            " dropout (Dropout)           (None, 1, 1, 128)         0         \n",
            "                                                                 \n",
            " reshape (Reshape)           (None, 1, 128)            0         \n",
            "                                                                 \n",
            " lstm_1 (LSTM)               (None, 130)               134680    \n",
            "                                                                 \n",
            " dense_1 (Dense)             (None, 122)               15982     \n",
            "                                                                 \n",
            " dense_2 (Dense)             (None, 1)                 123       \n",
            "                                                                 \n",
            "=================================================================\n",
            "Total params: 151297 (591.00 KB)\n",
            "Trainable params: 151297 (591.00 KB)\n",
            "Non-trainable params: 0 (0.00 Byte)\n",
            "_________________________________________________________________\n"
          ]
        }
      ],
      "source": [
        "cnn_lstm_model.summary()"
      ]
    },
    {
      "cell_type": "code",
      "execution_count": null,
      "metadata": {
        "colab": {
          "base_uri": "https://localhost:8080/",
          "height": 1000
        },
        "id": "yoij7JzqXSGV",
        "outputId": "3d6183fd-8444-4fb1-d212-e542226ce589"
      },
      "outputs": [
        {
          "name": "stdout",
          "output_type": "stream",
          "text": [
            "Epoch 1/50\n",
            "35/35 - 5s - loss: 0.0627 - val_loss: 0.0016 - 5s/epoch - 130ms/step\n",
            "Epoch 2/50\n",
            "35/35 - 0s - loss: 0.0040 - val_loss: 0.0011 - 306ms/epoch - 9ms/step\n",
            "Epoch 3/50\n",
            "35/35 - 0s - loss: 0.0011 - val_loss: 7.3132e-04 - 304ms/epoch - 9ms/step\n",
            "Epoch 4/50\n",
            "35/35 - 0s - loss: 8.0093e-04 - val_loss: 7.1709e-04 - 288ms/epoch - 8ms/step\n",
            "Epoch 5/50\n",
            "35/35 - 0s - loss: 7.5832e-04 - val_loss: 5.5219e-04 - 332ms/epoch - 9ms/step\n",
            "Epoch 6/50\n",
            "35/35 - 0s - loss: 7.9766e-04 - val_loss: 5.6779e-04 - 280ms/epoch - 8ms/step\n",
            "Epoch 7/50\n",
            "35/35 - 0s - loss: 7.9581e-04 - val_loss: 6.4229e-04 - 276ms/epoch - 8ms/step\n",
            "Epoch 8/50\n",
            "35/35 - 0s - loss: 7.4901e-04 - val_loss: 6.6222e-04 - 330ms/epoch - 9ms/step\n",
            "Epoch 9/50\n",
            "35/35 - 0s - loss: 7.1830e-04 - val_loss: 5.5379e-04 - 285ms/epoch - 8ms/step\n",
            "Epoch 10/50\n",
            "35/35 - 0s - loss: 6.9864e-04 - val_loss: 8.4033e-04 - 311ms/epoch - 9ms/step\n",
            "Epoch 11/50\n",
            "35/35 - 0s - loss: 7.1080e-04 - val_loss: 7.0614e-04 - 338ms/epoch - 10ms/step\n",
            "Epoch 12/50\n",
            "35/35 - 0s - loss: 7.1744e-04 - val_loss: 7.0143e-04 - 318ms/epoch - 9ms/step\n",
            "Epoch 13/50\n",
            "35/35 - 0s - loss: 6.1135e-04 - val_loss: 7.5191e-04 - 274ms/epoch - 8ms/step\n",
            "Epoch 14/50\n",
            "35/35 - 0s - loss: 8.1226e-04 - val_loss: 8.5201e-04 - 280ms/epoch - 8ms/step\n",
            "Epoch 15/50\n",
            "35/35 - 0s - loss: 6.9738e-04 - val_loss: 8.0132e-04 - 299ms/epoch - 9ms/step\n",
            "Epoch 16/50\n",
            "35/35 - 0s - loss: 7.0356e-04 - val_loss: 6.0081e-04 - 423ms/epoch - 12ms/step\n",
            "Epoch 17/50\n",
            "35/35 - 1s - loss: 7.4613e-04 - val_loss: 7.3586e-04 - 599ms/epoch - 17ms/step\n",
            "Epoch 18/50\n",
            "35/35 - 0s - loss: 7.7223e-04 - val_loss: 7.5574e-04 - 451ms/epoch - 13ms/step\n",
            "Epoch 19/50\n",
            "35/35 - 0s - loss: 6.4951e-04 - val_loss: 5.4894e-04 - 290ms/epoch - 8ms/step\n",
            "Epoch 20/50\n",
            "35/35 - 0s - loss: 7.0957e-04 - val_loss: 0.0011 - 334ms/epoch - 10ms/step\n",
            "Epoch 21/50\n",
            "35/35 - 0s - loss: 0.0011 - val_loss: 8.5988e-04 - 316ms/epoch - 9ms/step\n",
            "Epoch 22/50\n",
            "35/35 - 0s - loss: 7.9598e-04 - val_loss: 5.7835e-04 - 333ms/epoch - 10ms/step\n",
            "Epoch 23/50\n",
            "35/35 - 0s - loss: 7.8010e-04 - val_loss: 6.5356e-04 - 307ms/epoch - 9ms/step\n",
            "Epoch 24/50\n",
            "35/35 - 0s - loss: 7.5063e-04 - val_loss: 7.4312e-04 - 289ms/epoch - 8ms/step\n",
            "Epoch 25/50\n",
            "35/35 - 0s - loss: 7.3089e-04 - val_loss: 6.8000e-04 - 278ms/epoch - 8ms/step\n",
            "Epoch 26/50\n",
            "35/35 - 0s - loss: 7.8346e-04 - val_loss: 7.1206e-04 - 336ms/epoch - 10ms/step\n",
            "Epoch 27/50\n",
            "35/35 - 0s - loss: 8.1665e-04 - val_loss: 5.4047e-04 - 284ms/epoch - 8ms/step\n",
            "Epoch 28/50\n",
            "35/35 - 0s - loss: 6.1380e-04 - val_loss: 5.8033e-04 - 404ms/epoch - 12ms/step\n",
            "Epoch 29/50\n",
            "35/35 - 1s - loss: 6.5547e-04 - val_loss: 5.5653e-04 - 509ms/epoch - 15ms/step\n",
            "Epoch 30/50\n",
            "35/35 - 1s - loss: 8.1481e-04 - val_loss: 5.7235e-04 - 502ms/epoch - 14ms/step\n",
            "Epoch 31/50\n",
            "35/35 - 0s - loss: 7.6897e-04 - val_loss: 4.7866e-04 - 477ms/epoch - 14ms/step\n",
            "Epoch 32/50\n",
            "35/35 - 0s - loss: 7.1554e-04 - val_loss: 6.6569e-04 - 474ms/epoch - 14ms/step\n",
            "Epoch 33/50\n",
            "35/35 - 0s - loss: 7.4194e-04 - val_loss: 5.5090e-04 - 499ms/epoch - 14ms/step\n",
            "Epoch 34/50\n",
            "35/35 - 0s - loss: 6.0377e-04 - val_loss: 5.4554e-04 - 391ms/epoch - 11ms/step\n",
            "Epoch 35/50\n",
            "35/35 - 0s - loss: 5.6960e-04 - val_loss: 4.8246e-04 - 278ms/epoch - 8ms/step\n",
            "Epoch 36/50\n",
            "35/35 - 0s - loss: 5.0900e-04 - val_loss: 5.0577e-04 - 322ms/epoch - 9ms/step\n",
            "Epoch 37/50\n",
            "35/35 - 0s - loss: 6.0170e-04 - val_loss: 5.6368e-04 - 311ms/epoch - 9ms/step\n",
            "Epoch 38/50\n",
            "35/35 - 0s - loss: 7.4439e-04 - val_loss: 6.9130e-04 - 299ms/epoch - 9ms/step\n",
            "Epoch 39/50\n",
            "35/35 - 0s - loss: 7.4058e-04 - val_loss: 7.9626e-04 - 269ms/epoch - 8ms/step\n",
            "Epoch 40/50\n",
            "35/35 - 0s - loss: 6.2903e-04 - val_loss: 5.6095e-04 - 380ms/epoch - 11ms/step\n",
            "Epoch 41/50\n",
            "35/35 - 0s - loss: 6.4294e-04 - val_loss: 6.5782e-04 - 427ms/epoch - 12ms/step\n",
            "Epoch 42/50\n",
            "35/35 - 0s - loss: 6.4833e-04 - val_loss: 6.9653e-04 - 433ms/epoch - 12ms/step\n",
            "Epoch 43/50\n",
            "35/35 - 0s - loss: 6.7568e-04 - val_loss: 5.0133e-04 - 330ms/epoch - 9ms/step\n",
            "Epoch 44/50\n",
            "35/35 - 1s - loss: 4.7661e-04 - val_loss: 5.5471e-04 - 622ms/epoch - 18ms/step\n",
            "Epoch 45/50\n",
            "35/35 - 1s - loss: 4.6514e-04 - val_loss: 6.4630e-04 - 537ms/epoch - 15ms/step\n",
            "Epoch 46/50\n",
            "35/35 - 1s - loss: 6.6467e-04 - val_loss: 5.8491e-04 - 513ms/epoch - 15ms/step\n",
            "Epoch 47/50\n",
            "35/35 - 1s - loss: 5.8572e-04 - val_loss: 4.6291e-04 - 525ms/epoch - 15ms/step\n",
            "Epoch 48/50\n",
            "35/35 - 1s - loss: 4.9879e-04 - val_loss: 4.3475e-04 - 535ms/epoch - 15ms/step\n",
            "Epoch 49/50\n",
            "35/35 - 0s - loss: 4.5384e-04 - val_loss: 5.9810e-04 - 306ms/epoch - 9ms/step\n",
            "Epoch 50/50\n",
            "35/35 - 0s - loss: 5.7115e-04 - val_loss: 4.5635e-04 - 364ms/epoch - 10ms/step\n"
          ]
        },
        {
          "data": {
            "image/png": "[encoded data removed]",
            "text/plain": [
              "<Figure size 640x480 with 1 Axes>"
            ]
          },
          "metadata": {},
          "output_type": "display_data"
        }
      ],
      "source": [
        "history = cnn_lstm_model.fit(lstm_cnn_train_data, y_train, epochs=50, batch_size=72, validation_data=(lstm_cnn_test_data, y_test), verbose=2, shuffle=False)\n",
        "\n",
        "pyplot.plot(history.history['loss'], label='train')\n",
        "pyplot.plot(history.history['val_loss'], label='test')\n",
        "pyplot.legend()\n",
        "pyplot.show()"
      ]
    },
    {
      "cell_type": "code",
      "execution_count": null,
      "metadata": {
        "colab": {
          "base_uri": "https://localhost:8080/"
        },
        "id": "ETWX32aIXWLI",
        "outputId": "36b9cb14-e6d9-43cb-b558-5311184adf5e"
      },
      "outputs": [
        {
          "name": "stdout",
          "output_type": "stream",
          "text": [
            "20/20 [==============================] - 1s 5ms/step\n"
          ]
        }
      ],
      "source": [
        "from math import sqrt\n",
        "from numpy import concatenate\n",
        "\n",
        "yhat = cnn_lstm_model.predict(lstm_cnn_test_data)"
      ]
    },
    {
      "cell_type": "code",
      "execution_count": null,
      "metadata": {
        "id": "dMPr9DrphQd-"
      },
      "outputs": [],
      "source": [
        "lstm_cnn_mse = mean_squared_error(y_test, yhat)"
      ]
    },
    {
      "cell_type": "code",
      "execution_count": null,
      "metadata": {
        "id": "7iaiqCHkhX8p"
      },
      "outputs": [],
      "source": [
        "lstm_cnn_rmse = np.sqrt(lstm_cnn_mse)"
      ]
    },
    {
      "cell_type": "code",
      "execution_count": null,
      "metadata": {
        "id": "ITLoNBRMhfb0"
      },
      "outputs": [],
      "source": [
        "lstm_cnn_r2_score = r2_score(y_test, yhat)"
      ]
    },
    {
      "cell_type": "code",
      "execution_count": null,
      "metadata": {
        "id": "RKaV0ukPhrPR"
      },
      "outputs": [],
      "source": [
        "lstm_cnn_mae = mean_absolute_error(y_test, yhat)"
      ]
    },
    {
      "cell_type": "code",
      "execution_count": null,
      "metadata": {
        "id": "xcudsvQUhv5c"
      },
      "outputs": [],
      "source": [
        "lstm_cnn_mape = mean_absolute_percentage_error(y_test, yhat)"
      ]
    },
    {
      "cell_type": "code",
      "execution_count": null,
      "metadata": {
        "colab": {
          "base_uri": "https://localhost:8080/",
          "height": 472
        },
        "id": "8QoIvF9sYbtE",
        "outputId": "c2b894e7-1208-4d6f-bda5-b2a3222b6d30"
      },
      "outputs": [
        {
          "data": {
            "image/png": "[encoded data removed]",
            "text/plain": [
              "<Figure size 640x480 with 1 Axes>"
            ]
          },
          "metadata": {},
          "output_type": "display_data"
        }
      ],
      "source": [
        "import matplotlib.pyplot as plt\n",
        "\n",
        "# Plot actual vs. predicted pollution\n",
        "plt.plot(y_test, label='Actual')\n",
        "plt.plot(yhat, label='Predicted')\n",
        "plt.xlabel('Time')\n",
        "plt.ylabel('Price')\n",
        "plt.title('Actual vs. Predicted Prices')\n",
        "plt.legend()\n",
        "plt.show()"
      ]
    },
    {
      "cell_type": "code",
      "execution_count": null,
      "metadata": {
        "id": "zmHKgE-6c75K"
      },
      "outputs": [],
      "source": [
        "from tensorflow.keras import layers"
      ]
    },
    {
      "cell_type": "code",
      "execution_count": null,
      "metadata": {
        "id": "aTMXJuZLcfiL"
      },
      "outputs": [],
      "source": [
        "SEED = 1\n",
        "tf.random.set_seed(SEED)\n",
        "random.seed(SEED)\n",
        "np.random.seed(SEED)"
      ]
    },
    {
      "cell_type": "code",
      "execution_count": null,
      "metadata": {
        "id": "PfmM-_4kcmnV"
      },
      "outputs": [],
      "source": [
        "def build_gru_cnn_model(filters, gru_units, dense_units_layer_1and2, dense_units_layer3, dropout_rate, learning_rate):\n",
        "    # random seed generator for reducibility\n",
        "    tf.random.set_seed(SEED)\n",
        "    random.seed(SEED)\n",
        "    np.random.seed(SEED)\n",
        "\n",
        "    # initialize parameter\n",
        "    kernel_init = tf.keras.initializers.GlorotNormal(seed=SEED)\n",
        "    bias_init = tf.keras.initializers.Constant(value=0.1)\n",
        "\n",
        "    # input layer\n",
        "    input_layer = layers.Input(shape=(1, 1))\n",
        "\n",
        "    # input will be passed to gru layer and convolutional layer\n",
        "    # input layer followed by gru layer\n",
        "    gru_layer = layers.GRU(units=gru_units, return_sequences=True, activation='tanh',\n",
        "                           kernel_initializer=kernel_init, bias_initializer=bias_init)(input_layer)\n",
        "\n",
        "    # input layer followed by convolutional layer\n",
        "    conv1d_layer = layers.Conv1D(filters=filters, kernel_size=1, activation='relu', kernel_initializer=kernel_init,\n",
        "                                 bias_initializer=bias_init)(input_layer)\n",
        "\n",
        "    # features from gru and convolutional layers are passed to dense layer each with the same number of dense units\n",
        "    # gru layer followed by dense layer 1\n",
        "    dense_layer1 = layers.Dense(units=dense_units_layer_1and2, kernel_initializer=kernel_init, activation='tanh',\n",
        "                               bias_initializer=bias_init)(gru_layer)\n",
        "\n",
        "    # convolutioal layer followed dense layer 2\n",
        "    dense_layer2 = layers.Dense(units=dense_units_layer_1and2, kernel_initializer=kernel_init, activation='tanh',\n",
        "                                bias_initializer=bias_init)(conv1d_layer)\n",
        "\n",
        "    # features from dense layer 1 and dense layer 2 are concatenated\n",
        "    # both layers having the same number of units allow them to be concatenated\n",
        "    concat = layers.Concatenate(axis=2)([dense_layer1, dense_layer2])\n",
        "\n",
        "    # dropout layer\n",
        "    dropout_layer = layers.Dropout(dropout_rate)(concat)\n",
        "\n",
        "    # flatten layer (3D to 2D)\n",
        "    flatten_layer = layers.Flatten()(dropout_layer)\n",
        "\n",
        "    # dense layer\n",
        "    dense_layer3 = layers.Dense(units=dense_units_layer3, kernel_initializer=kernel_init, activation='tanh',\n",
        "                                bias_initializer=bias_init)(flatten_layer)\n",
        "\n",
        "    # output layer\n",
        "    output_layer = layers.Dense(units=1)(dense_layer3)\n",
        "\n",
        "    # Define the model with input and output layers\n",
        "    model = tf.keras.Model(inputs=input_layer, outputs=output_layer)\n",
        "\n",
        "    # Compile the model\n",
        "    model.compile(optimizer=Adam(learning_rate=learning_rate), loss='mse')\n",
        "\n",
        "    return model"
      ]
    },
    {
      "cell_type": "code",
      "execution_count": null,
      "metadata": {
        "id": "5LxOsR96eMKc"
      },
      "outputs": [],
      "source": [
        "X_train = lstm_cnn_train_data\n",
        "X_test = lstm_cnn_test_data"
      ]
    },
    {
      "cell_type": "code",
      "execution_count": null,
      "metadata": {
        "id": "hA3X7SljcnbH"
      },
      "outputs": [],
      "source": [
        "gru_cnn = build_gru_cnn_model(filters=144, gru_units=80, dense_units_layer_1and2=160,\n",
        "                              dense_units_layer3=112, dropout_rate=0.2, learning_rate=0.0001)"
      ]
    },
    {
      "cell_type": "code",
      "execution_count": null,
      "metadata": {
        "colab": {
          "base_uri": "https://localhost:8080/",
          "height": 1000
        },
        "id": "tBU8Nnz9cqgS",
        "outputId": "09648140-03c7-40f2-bed4-f0adc6e1c6c0"
      },
      "outputs": [
        {
          "name": "stdout",
          "output_type": "stream",
          "text": [
            "Epoch 1/95\n",
            "39/39 [==============================] - 7s 30ms/step - loss: 0.0662 - val_loss: 0.0300\n",
            "Epoch 2/95\n",
            "39/39 [==============================] - 0s 12ms/step - loss: 0.0177 - val_loss: 0.0034\n",
            "Epoch 3/95\n",
            "39/39 [==============================] - 1s 15ms/step - loss: 0.0111 - val_loss: 0.0017\n",
            "Epoch 4/95\n",
            "39/39 [==============================] - 0s 10ms/step - loss: 0.0095 - val_loss: 0.0017\n",
            "Epoch 5/95\n",
            "39/39 [==============================] - 1s 17ms/step - loss: 0.0082 - val_loss: 0.0021\n",
            "Epoch 6/95\n",
            "39/39 [==============================] - 1s 14ms/step - loss: 0.0073 - val_loss: 0.0012\n",
            "Epoch 7/95\n",
            "39/39 [==============================] - 1s 14ms/step - loss: 0.0065 - val_loss: 0.0012\n",
            "Epoch 8/95\n",
            "39/39 [==============================] - 1s 18ms/step - loss: 0.0060 - val_loss: 8.0411e-04\n",
            "Epoch 9/95\n",
            "39/39 [==============================] - 1s 17ms/step - loss: 0.0054 - val_loss: 9.1464e-04\n",
            "Epoch 10/95\n",
            "39/39 [==============================] - 1s 23ms/step - loss: 0.0048 - val_loss: 6.8194e-04\n",
            "Epoch 11/95\n",
            "39/39 [==============================] - 1s 23ms/step - loss: 0.0041 - val_loss: 4.1230e-04\n",
            "Epoch 12/95\n",
            "39/39 [==============================] - 1s 19ms/step - loss: 0.0038 - val_loss: 4.4754e-04\n",
            "Epoch 13/95\n",
            "39/39 [==============================] - 1s 21ms/step - loss: 0.0033 - val_loss: 5.1786e-04\n",
            "Epoch 14/95\n",
            "39/39 [==============================] - 1s 17ms/step - loss: 0.0032 - val_loss: 4.8303e-04\n",
            "Epoch 15/95\n",
            "39/39 [==============================] - 1s 16ms/step - loss: 0.0027 - val_loss: 4.6800e-04\n",
            "Epoch 16/95\n",
            "39/39 [==============================] - 0s 10ms/step - loss: 0.0024 - val_loss: 4.3669e-04\n",
            "Epoch 17/95\n",
            "39/39 [==============================] - 0s 9ms/step - loss: 0.0022 - val_loss: 4.3083e-04\n",
            "Epoch 18/95\n",
            "39/39 [==============================] - 0s 8ms/step - loss: 0.0020 - val_loss: 4.4194e-04\n",
            "Epoch 19/95\n",
            "39/39 [==============================] - 0s 10ms/step - loss: 0.0020 - val_loss: 3.6927e-04\n",
            "Epoch 20/95\n",
            "39/39 [==============================] - 0s 10ms/step - loss: 0.0018 - val_loss: 3.7407e-04\n",
            "Epoch 21/95\n",
            "39/39 [==============================] - 0s 9ms/step - loss: 0.0016 - val_loss: 7.8536e-04\n",
            "Epoch 22/95\n",
            "39/39 [==============================] - 1s 13ms/step - loss: 0.0015 - val_loss: 5.1898e-04\n",
            "Epoch 23/95\n",
            "39/39 [==============================] - 0s 13ms/step - loss: 0.0014 - val_loss: 4.4455e-04\n",
            "Epoch 24/95\n",
            "39/39 [==============================] - 1s 14ms/step - loss: 0.0012 - val_loss: 6.4061e-04\n",
            "Epoch 25/95\n",
            "39/39 [==============================] - 1s 14ms/step - loss: 0.0012 - val_loss: 4.4594e-04\n",
            "Epoch 26/95\n",
            "39/39 [==============================] - 1s 14ms/step - loss: 0.0011 - val_loss: 3.6840e-04\n",
            "Epoch 27/95\n",
            "39/39 [==============================] - 1s 18ms/step - loss: 0.0010 - val_loss: 3.6700e-04\n",
            "Epoch 28/95\n",
            "39/39 [==============================] - 0s 11ms/step - loss: 0.0010 - val_loss: 4.5329e-04\n",
            "Epoch 29/95\n",
            "39/39 [==============================] - 0s 7ms/step - loss: 9.3490e-04 - val_loss: 5.7783e-04\n",
            "Epoch 30/95\n",
            "39/39 [==============================] - 0s 10ms/step - loss: 9.6454e-04 - val_loss: 4.6955e-04\n",
            "Epoch 31/95\n",
            "39/39 [==============================] - 1s 14ms/step - loss: 9.2636e-04 - val_loss: 4.2571e-04\n",
            "Epoch 32/95\n",
            "39/39 [==============================] - 1s 13ms/step - loss: 7.9308e-04 - val_loss: 3.6866e-04\n",
            "Epoch 33/95\n",
            "39/39 [==============================] - 1s 13ms/step - loss: 7.6647e-04 - val_loss: 5.1242e-04\n",
            "Epoch 34/95\n",
            "39/39 [==============================] - 1s 14ms/step - loss: 7.9429e-04 - val_loss: 4.3306e-04\n",
            "Epoch 35/95\n",
            "39/39 [==============================] - 1s 17ms/step - loss: 7.3524e-04 - val_loss: 4.7896e-04\n",
            "Epoch 36/95\n",
            "39/39 [==============================] - 1s 22ms/step - loss: 7.1066e-04 - val_loss: 3.9613e-04\n",
            "Epoch 37/95\n",
            "39/39 [==============================] - 1s 21ms/step - loss: 6.7353e-04 - val_loss: 4.3588e-04\n",
            "Epoch 38/95\n",
            "39/39 [==============================] - 1s 22ms/step - loss: 6.0464e-04 - val_loss: 4.6255e-04\n",
            "Epoch 39/95\n",
            "39/39 [==============================] - 1s 17ms/step - loss: 6.0460e-04 - val_loss: 4.5584e-04\n",
            "Epoch 40/95\n",
            "39/39 [==============================] - 1s 15ms/step - loss: 6.1603e-04 - val_loss: 3.9130e-04\n",
            "Epoch 41/95\n",
            "39/39 [==============================] - 1s 13ms/step - loss: 5.8052e-04 - val_loss: 4.7997e-04\n",
            "Epoch 42/95\n",
            "39/39 [==============================] - 0s 12ms/step - loss: 5.6922e-04 - val_loss: 3.8795e-04\n",
            "Epoch 43/95\n",
            "39/39 [==============================] - 0s 10ms/step - loss: 5.8410e-04 - val_loss: 4.2844e-04\n",
            "Epoch 44/95\n",
            "39/39 [==============================] - 0s 11ms/step - loss: 5.4322e-04 - val_loss: 5.7125e-04\n",
            "Epoch 45/95\n",
            "39/39 [==============================] - 0s 11ms/step - loss: 5.5806e-04 - val_loss: 4.6669e-04\n",
            "Epoch 46/95\n",
            "39/39 [==============================] - 1s 13ms/step - loss: 5.1449e-04 - val_loss: 3.8497e-04\n",
            "Epoch 47/95\n",
            "39/39 [==============================] - 1s 14ms/step - loss: 5.5604e-04 - val_loss: 3.7096e-04\n",
            "Epoch 48/95\n",
            "39/39 [==============================] - 1s 14ms/step - loss: 5.3126e-04 - val_loss: 3.8663e-04\n",
            "Epoch 49/95\n",
            "39/39 [==============================] - 0s 13ms/step - loss: 4.9290e-04 - val_loss: 5.3960e-04\n",
            "Epoch 50/95\n",
            "39/39 [==============================] - 0s 10ms/step - loss: 4.8294e-04 - val_loss: 5.9162e-04\n",
            "Epoch 51/95\n",
            "39/39 [==============================] - 0s 8ms/step - loss: 4.8757e-04 - val_loss: 4.2636e-04\n",
            "Epoch 52/95\n",
            "39/39 [==============================] - 0s 7ms/step - loss: 4.8659e-04 - val_loss: 4.1324e-04\n",
            "Epoch 53/95\n",
            "39/39 [==============================] - 0s 8ms/step - loss: 4.3867e-04 - val_loss: 4.6138e-04\n",
            "Epoch 54/95\n",
            "39/39 [==============================] - 0s 9ms/step - loss: 4.2194e-04 - val_loss: 4.2774e-04\n",
            "Epoch 55/95\n",
            "39/39 [==============================] - 0s 10ms/step - loss: 4.5128e-04 - val_loss: 3.8018e-04\n",
            "Epoch 56/95\n",
            "39/39 [==============================] - 0s 8ms/step - loss: 4.3141e-04 - val_loss: 3.7199e-04\n",
            "Epoch 57/95\n",
            "39/39 [==============================] - 0s 10ms/step - loss: 4.4166e-04 - val_loss: 4.2414e-04\n",
            "Epoch 58/95\n",
            "39/39 [==============================] - 1s 15ms/step - loss: 4.2779e-04 - val_loss: 3.7497e-04\n",
            "Epoch 59/95\n",
            "39/39 [==============================] - 1s 15ms/step - loss: 4.2583e-04 - val_loss: 3.6594e-04\n",
            "Epoch 60/95\n",
            "39/39 [==============================] - 1s 16ms/step - loss: 3.8733e-04 - val_loss: 3.8160e-04\n",
            "Epoch 61/95\n",
            "39/39 [==============================] - 1s 23ms/step - loss: 3.9832e-04 - val_loss: 4.5385e-04\n",
            "Epoch 62/95\n",
            "39/39 [==============================] - 1s 21ms/step - loss: 4.2853e-04 - val_loss: 4.7854e-04\n",
            "Epoch 63/95\n",
            "39/39 [==============================] - 1s 26ms/step - loss: 4.3813e-04 - val_loss: 7.0276e-04\n",
            "Epoch 64/95\n",
            "39/39 [==============================] - 1s 21ms/step - loss: 4.1397e-04 - val_loss: 4.9163e-04\n",
            "Epoch 65/95\n",
            "39/39 [==============================] - 1s 14ms/step - loss: 4.1815e-04 - val_loss: 4.5945e-04\n",
            "Epoch 66/95\n",
            "39/39 [==============================] - 1s 13ms/step - loss: 3.8763e-04 - val_loss: 3.7602e-04\n",
            "Epoch 67/95\n",
            "39/39 [==============================] - 0s 13ms/step - loss: 3.8633e-04 - val_loss: 4.8342e-04\n",
            "Epoch 68/95\n",
            "39/39 [==============================] - 0s 10ms/step - loss: 3.9608e-04 - val_loss: 5.3331e-04\n",
            "Epoch 69/95\n",
            "39/39 [==============================] - 0s 12ms/step - loss: 4.0667e-04 - val_loss: 3.5147e-04\n",
            "Epoch 70/95\n",
            "39/39 [==============================] - 0s 12ms/step - loss: 3.4854e-04 - val_loss: 3.5274e-04\n",
            "Epoch 71/95\n",
            "39/39 [==============================] - 1s 13ms/step - loss: 3.8954e-04 - val_loss: 3.8521e-04\n",
            "Epoch 72/95\n",
            "39/39 [==============================] - 1s 14ms/step - loss: 3.5533e-04 - val_loss: 4.3690e-04\n",
            "Epoch 73/95\n",
            "39/39 [==============================] - 0s 13ms/step - loss: 3.5769e-04 - val_loss: 4.0665e-04\n",
            "Epoch 74/95\n",
            "39/39 [==============================] - 1s 20ms/step - loss: 3.8081e-04 - val_loss: 4.3199e-04\n",
            "Epoch 75/95\n",
            "39/39 [==============================] - 1s 19ms/step - loss: 3.4558e-04 - val_loss: 4.3178e-04\n",
            "Epoch 76/95\n",
            "39/39 [==============================] - 1s 15ms/step - loss: 3.5978e-04 - val_loss: 3.8284e-04\n",
            "Epoch 77/95\n",
            "39/39 [==============================] - 1s 15ms/step - loss: 3.5407e-04 - val_loss: 4.7334e-04\n",
            "Epoch 78/95\n",
            "39/39 [==============================] - 1s 20ms/step - loss: 3.7577e-04 - val_loss: 5.7351e-04\n",
            "Epoch 79/95\n",
            "39/39 [==============================] - 1s 19ms/step - loss: 3.8214e-04 - val_loss: 3.6573e-04\n",
            "Epoch 80/95\n",
            "39/39 [==============================] - 1s 14ms/step - loss: 3.5914e-04 - val_loss: 3.9910e-04\n",
            "Epoch 81/95\n",
            "39/39 [==============================] - 1s 15ms/step - loss: 3.7263e-04 - val_loss: 3.4985e-04\n",
            "Epoch 82/95\n",
            "39/39 [==============================] - 0s 12ms/step - loss: 3.5145e-04 - val_loss: 4.4720e-04\n",
            "Epoch 83/95\n",
            "39/39 [==============================] - 1s 20ms/step - loss: 3.5068e-04 - val_loss: 4.0600e-04\n",
            "Epoch 84/95\n",
            "39/39 [==============================] - 1s 19ms/step - loss: 3.7570e-04 - val_loss: 5.0866e-04\n",
            "Epoch 85/95\n",
            "39/39 [==============================] - 1s 20ms/step - loss: 3.4663e-04 - val_loss: 3.3960e-04\n",
            "Epoch 86/95\n",
            "39/39 [==============================] - 1s 22ms/step - loss: 3.1847e-04 - val_loss: 4.2453e-04\n",
            "Epoch 87/95\n",
            "39/39 [==============================] - 1s 14ms/step - loss: 3.1798e-04 - val_loss: 3.9025e-04\n",
            "Epoch 88/95\n",
            "39/39 [==============================] - 1s 15ms/step - loss: 3.0874e-04 - val_loss: 4.3120e-04\n",
            "Epoch 89/95\n",
            "39/39 [==============================] - 1s 13ms/step - loss: 3.1615e-04 - val_loss: 4.2213e-04\n",
            "Epoch 90/95\n",
            "39/39 [==============================] - 0s 8ms/step - loss: 3.4235e-04 - val_loss: 3.8599e-04\n",
            "Epoch 91/95\n",
            "39/39 [==============================] - 0s 10ms/step - loss: 2.9662e-04 - val_loss: 5.0865e-04\n",
            "Epoch 92/95\n",
            "39/39 [==============================] - 0s 12ms/step - loss: 3.1633e-04 - val_loss: 3.7113e-04\n",
            "Epoch 93/95\n",
            "39/39 [==============================] - 1s 15ms/step - loss: 2.8269e-04 - val_loss: 3.8275e-04\n",
            "Epoch 94/95\n",
            "39/39 [==============================] - 1s 14ms/step - loss: 3.2490e-04 - val_loss: 4.1859e-04\n",
            "Epoch 95/95\n",
            "39/39 [==============================] - 1s 14ms/step - loss: 3.1308e-04 - val_loss: 6.5263e-04\n"
          ]
        },
        {
          "data": {
            "image/png": "[encoded data removed]",
            "text/plain": [
              "<Figure size 640x480 with 1 Axes>"
            ]
          },
          "metadata": {},
          "output_type": "display_data"
        }
      ],
      "source": [
        "history = gru_cnn.fit(X_train, y_train, epochs=95, validation_data=(X_test, y_test), batch_size=64, verbose=1)\n",
        "pyplot.plot(history.history['loss'], label='train')\n",
        "pyplot.plot(history.history['val_loss'], label='test')\n",
        "pyplot.legend()\n",
        "pyplot.show()"
      ]
    },
    {
      "cell_type": "code",
      "execution_count": null,
      "metadata": {
        "colab": {
          "base_uri": "https://localhost:8080/"
        },
        "id": "DBBmSJrVcsZp",
        "outputId": "a5342bf0-d1d2-417f-fb68-74b21d545529"
      },
      "outputs": [
        {
          "name": "stdout",
          "output_type": "stream",
          "text": [
            "20/20 [==============================] - 1s 3ms/step\n"
          ]
        }
      ],
      "source": [
        "y_test_prediction = gru_cnn.predict(X_test, verbose = 1)"
      ]
    },
    {
      "cell_type": "code",
      "execution_count": null,
      "metadata": {
        "id": "Gi9ped7ocuJ-"
      },
      "outputs": [],
      "source": [
        "gru_r2_score = r2_score(y_test, y_test_prediction) # R2 score is between 0 and 1 (closer to 1 indicates better model)"
      ]
    },
    {
      "cell_type": "code",
      "execution_count": null,
      "metadata": {
        "id": "93e1968Eg_JH"
      },
      "outputs": [],
      "source": [
        "gru_mse_score = mean_squared_error(y_test, y_test_prediction)"
      ]
    },
    {
      "cell_type": "code",
      "execution_count": null,
      "metadata": {
        "id": "hGfQrxVQcwjE"
      },
      "outputs": [],
      "source": [
        "gru_mape_score = mean_absolute_percentage_error(y_test, y_test_prediction) # a lower MAPE indicates better model"
      ]
    },
    {
      "cell_type": "code",
      "execution_count": null,
      "metadata": {
        "id": "lleHOSAXcyRS"
      },
      "outputs": [],
      "source": [
        "gru_rmse_score = np.sqrt(gru_mse_score) # a lower RMSE indicates better model"
      ]
    },
    {
      "cell_type": "code",
      "execution_count": null,
      "metadata": {
        "id": "I6ji0bR3czcO"
      },
      "outputs": [],
      "source": [
        "gru_mae_score = mean_absolute_error(y_test, y_test_prediction) # a lower MAE indicates better model"
      ]
    },
    {
      "cell_type": "code",
      "execution_count": null,
      "metadata": {
        "colab": {
          "base_uri": "https://localhost:8080/"
        },
        "id": "rR8t8NYUJEmI",
        "outputId": "058d5365-3b7e-4696-9b69-86251f8bf9ed"
      },
      "outputs": [
        {
          "name": "stdout",
          "output_type": "stream",
          "text": [
            "LSTM R2 score:  0.9948438789258487\n",
            "LSTM MAE:  0.019028378576689875\n",
            "LSTM MAPE:  2942233748536.235\n",
            "LSTM MSE:  0.0006511809729474644\n",
            "LSTM RMSE:  0.02551824784242571\n",
            "-----------------------------------------\n",
            "LSTM-CNN R2 score:  0.9963865920795495\n",
            "LSTM-CNN MAE:  0.016596585572483162\n",
            "LSTM-CNN MAPE:  1378156882848.6257\n",
            "LSTM-CNN MSE:  0.00045634740756786706\n",
            "LSTM-CNN RMSE:  0.021362289380304423\n",
            "-----------------------------------------\n",
            "GRU R2 score:  0.9948323740017885\n",
            "GRU MAE:  0.021461301035054156\n",
            "GRU MAPE:  3688908817543.3545\n",
            "GRU MSE:  0.0006526339620327662\n",
            "GRU RMSE:  0.02554670158812613\n"
          ]
        }
      ],
      "source": [
        "print(\"LSTM R2 score: \", lstm_r2_score)\n",
        "print(\"LSTM MAE: \", lstm_mae)\n",
        "print(\"LSTM MAPE: \", lstm_mape)\n",
        "print(\"LSTM MSE: \", lstm_mse)\n",
        "print(\"LSTM RMSE: \", lstm_rmse)\n",
        "print(\"-----------------------------------------\")\n",
        "print(\"LSTM-CNN R2 score: \", lstm_cnn_r2_score)\n",
        "print(\"LSTM-CNN MAE: \", lstm_cnn_mae)\n",
        "print(\"LSTM-CNN MAPE: \", lstm_cnn_mape)\n",
        "print(\"LSTM-CNN MSE: \", lstm_cnn_mse)\n",
        "print(\"LSTM-CNN RMSE: \", lstm_cnn_rmse)\n",
        "print(\"-----------------------------------------\")\n",
        "print(\"GRU R2 score: \", gru_r2_score)\n",
        "print(\"GRU MAE: \", gru_mae_score)\n",
        "print(\"GRU MAPE: \", gru_mape_score)\n",
        "print(\"GRU MSE: \", gru_mse_score)\n",
        "print(\"GRU RMSE: \", gru_rmse_score)"
      ]
    },
    {
      "cell_type": "code",
      "execution_count": null,
      "metadata": {
        "colab": {
          "base_uri": "https://localhost:8080/",
          "height": 420
        },
        "id": "gfpTc8QIi4HO",
        "outputId": "c381cbf7-a366-4f6e-88c5-f05ab3d8a85f"
      },
      "outputs": [
        {
          "data": {
            "image/png": "[encoded data removed]",
            "text/plain": [
              "<Figure size 600x400 with 1 Axes>"
            ]
          },
          "metadata": {},
          "output_type": "display_data"
        }
      ],
      "source": [
        "import matplotlib.pyplot as plt\n",
        "import numpy as np\n",
        "\n",
        "x = ['GRU-CNN','LSTM', 'LSTM-CNN']\n",
        "y = [gru_r2_score, lstm_r2_score, lstm_cnn_r2_score]\n",
        "width = 0.2\n",
        "colors = ['mediumvioletred','lightskyblue', 'gold']\n",
        "\n",
        "fig, ax = plt.subplots(figsize=(6,4))\n",
        "\n",
        "bars = plt.bar([1, 2, 3], y, color=colors, edgecolor='black')\n",
        "\n",
        "plt.xlabel('Models', fontsize=16)\n",
        "plt.ylabel('R2-Scores', fontsize=16)\n",
        "plt.xticks([1, 2, 3], x, fontsize=12)\n",
        "plt.yticks(fontsize=12)\n",
        "plt.title(\"R2-scores\")\n",
        "\n",
        "\n",
        "\n",
        "plt.show()"
      ]
    },
    {
      "cell_type": "code",
      "execution_count": null,
      "metadata": {
        "colab": {
          "base_uri": "https://localhost:8080/",
          "height": 420
        },
        "id": "qhkT4XX4jmv7",
        "outputId": "f135e159-688d-45d2-9ddd-5805c624b184"
      },
      "outputs": [
        {
          "data": {
            "image/png": "[encoded data removed]",
            "text/plain": [
              "<Figure size 600x400 with 1 Axes>"
            ]
          },
          "metadata": {},
          "output_type": "display_data"
        }
      ],
      "source": [
        "import matplotlib.pyplot as plt\n",
        "import numpy as np\n",
        "\n",
        "x = ['GRU-CNN','LSTM', 'LSTM-CNN']\n",
        "y = [gru_mae_score, lstm_mae, lstm_cnn_mae]\n",
        "width = 0.2\n",
        "colors = ['mediumvioletred','lightskyblue', 'gold']\n",
        "\n",
        "fig, ax = plt.subplots(figsize=(6,4))\n",
        "\n",
        "bars = plt.bar([1, 2, 3], y, color=colors, edgecolor='black')\n",
        "\n",
        "plt.xlabel('Models', fontsize=16)\n",
        "plt.ylabel('MAE scores', fontsize=16)\n",
        "plt.xticks([1, 2, 3], x, fontsize=12)\n",
        "plt.yticks(fontsize=12)\n",
        "plt.title(\"MAE scores\")\n",
        "\n",
        "\n",
        "\n",
        "plt.show()"
      ]
    },
    {
      "cell_type": "code",
      "execution_count": null,
      "metadata": {
        "colab": {
          "base_uri": "https://localhost:8080/",
          "height": 420
        },
        "id": "dbu-3FA3j7cB",
        "outputId": "b567dd00-c757-4f03-9809-bb13a4830d97"
      },
      "outputs": [
        {
          "data": {
            "image/png": "[encoded data removed]",
            "text/plain": [
              "<Figure size 600x400 with 1 Axes>"
            ]
          },
          "metadata": {},
          "output_type": "display_data"
        }
      ],
      "source": [
        "import matplotlib.pyplot as plt\n",
        "import numpy as np\n",
        "\n",
        "x = ['GRU-CNN','LSTM', 'LSTM-CNN']\n",
        "y = [gru_mape_score, lstm_mape, lstm_cnn_mape]\n",
        "width = 0.2\n",
        "colors = ['mediumvioletred','lightskyblue', 'gold']\n",
        "\n",
        "fig, ax = plt.subplots(figsize=(6,4))\n",
        "\n",
        "bars = plt.bar([1, 2, 3], y, color=colors, edgecolor='black')\n",
        "\n",
        "plt.xlabel('Models', fontsize=16)\n",
        "plt.ylabel('MAPE scores', fontsize=16)\n",
        "plt.xticks([1, 2, 3], x, fontsize=12)\n",
        "plt.yticks(fontsize=12)\n",
        "plt.title(\"MAPE scores\")\n",
        "\n",
        "\n",
        "\n",
        "plt.show()"
      ]
    },
    {
      "cell_type": "code",
      "execution_count": null,
      "metadata": {
        "colab": {
          "base_uri": "https://localhost:8080/",
          "height": 420
        },
        "id": "RkqskiZRkEXk",
        "outputId": "8a245c61-5ee4-48c1-bb54-89f48901eaef"
      },
      "outputs": [
        {
          "data": {
            "image/png": "[encoded data removed]",
            "text/plain": [
              "<Figure size 600x400 with 1 Axes>"
            ]
          },
          "metadata": {},
          "output_type": "display_data"
        }
      ],
      "source": [
        "import matplotlib.pyplot as plt\n",
        "import numpy as np\n",
        "\n",
        "x = ['GRU-CNN','LSTM', 'LSTM-CNN']\n",
        "y = [gru_mse_score, lstm_mse, lstm_cnn_mse]\n",
        "width = 0.2\n",
        "colors = ['mediumvioletred','lightskyblue', 'gold']\n",
        "\n",
        "fig, ax = plt.subplots(figsize=(6,4))\n",
        "\n",
        "bars = plt.bar([1, 2, 3], y, color=colors, edgecolor='black')\n",
        "\n",
        "plt.xlabel('Models', fontsize=16)\n",
        "plt.ylabel('MSE scores', fontsize=16)\n",
        "plt.xticks([1, 2, 3], x, fontsize=12)\n",
        "plt.yticks(fontsize=12)\n",
        "plt.title(\"MSE scores\")\n",
        "\n",
        "\n",
        "\n",
        "plt.show()"
      ]
    },
    {
      "cell_type": "code",
      "execution_count": null,
      "metadata": {
        "colab": {
          "base_uri": "https://localhost:8080/",
          "height": 420
        },
        "id": "dGM5YmlUkI8C",
        "outputId": "c1ab5f3c-53fa-46cf-9a30-566411fc7eb9"
      },
      "outputs": [
        {
          "data": {
            "image/png": "[encoded data removed]",
            "text/plain": [
              "<Figure size 600x400 with 1 Axes>"
            ]
          },
          "metadata": {},
          "output_type": "display_data"
        }
      ],
      "source": [
        "import matplotlib.pyplot as plt\n",
        "import numpy as np\n",
        "\n",
        "x = ['GRU-CNN','LSTM', 'LSTM-CNN']\n",
        "y = [gru_rmse_score, lstm_rmse, lstm_cnn_rmse]\n",
        "width = 0.2\n",
        "colors = ['mediumvioletred','lightskyblue', 'gold']\n",
        "\n",
        "fig, ax = plt.subplots(figsize=(6,4))\n",
        "\n",
        "bars = plt.bar([1, 2, 3], y, color=colors, edgecolor='black')\n",
        "\n",
        "plt.xlabel('Models', fontsize=16)\n",
        "plt.ylabel('RMSE scores', fontsize=16)\n",
        "plt.xticks([1, 2, 3], x, fontsize=12)\n",
        "plt.yticks(fontsize=12)\n",
        "plt.title(\"RMSE scores\")\n",
        "\n",
        "\n",
        "\n",
        "plt.show()"
      ]
    }
  ],
  "metadata": {
    "colab": {
      "provenance": []
    },
    "kernelspec": {
      "display_name": "Python 3",
      "language": "python",
      "name": "python3"
    },
    "language_info": {
      "codemirror_mode": {
        "name": "ipython",
        "version": 3
      },
      "file_extension": ".py",
      "mimetype": "text/x-python",
      "name": "python",
      "nbconvert_exporter": "python",
      "pygments_lexer": "ipython3",
      "version": "3.8.5"
    }
  },
  "nbformat": 4,
  "nbformat_minor": 0
}
